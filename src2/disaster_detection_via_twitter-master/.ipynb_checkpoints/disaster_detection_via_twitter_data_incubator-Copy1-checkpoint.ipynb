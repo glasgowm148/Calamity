{
 "cells": [
  {
   "cell_type": "markdown",
   "metadata": {},
   "source": [
    "# Disaster Detection via Twitter\n",
    "\n",
    "Ryan B. Jadrich\n",
    "\n",
    "LinkedIn: [https://www.linkedin.com/in/ryan-jadrich-71190b5b](https://www.linkedin.com/in/ryan-jadrich-71190b5b)\n",
    "\n",
    "Email: rjadrich@gmail.com"
   ]
  },
  {
   "cell_type": "markdown",
   "metadata": {},
   "source": [
    "# 1. Project summary\n",
    "---\n",
    "**Goal:** Create a predictive model to classify a tweet as pertaining to a disaster event or not, *solely* based on the tweet text.\n",
    "\n",
    "**Data:** 10,876 classified tweet entries in the \"Disasters on Social Media\" data set from CrowdFlower at http://www.crowdflower.com/data-for-everyone. Some examples of disasters include structural collapses, wildfires and terrorist attacks. However, this dataset also encompasses more \"minor\" events such as car accidents, etc. These were compiled by searching for tweets with disaster related keywords (i.e., hijacking, hurricane, and explosion) and then they were classified as \"Relevant\", \"Not Relevant\" or \"Can't Decide\" with \"Relevant\" indicating a disaster.\n",
    "\n",
    "**Auxiliary data:** Pretrained \"Google News\" dataset for word2vec at https://code.google.com/archive/p/word2vec/. This will be used to artificially boost the vocabulary of the model which is somewhat limited due to the smaller size of the tweet data set.\n",
    "\n",
    "**Machine learning tools** \n",
    "\n",
    "1. **GENSIM** - For seamless transformation from a high dimensional \"bag of words\" (BOW) feature space to a lower dimensional \"topic\" space (each topic expresses discovered relations amongst the words in the Tweet data set using Latent Semantic Indexing or LSI).\n",
    "\n",
    "2. **Scikit-Learn** - For trivial implementation the final Logistic Regression model which predicts \"disaster\" or \"not disaster\" based on each Tweets \"topic\" representation.\n",
    "\n",
    "**Using the model**: Clone the entire Git repository to your local machine and install any packages not already installed (likely just GENSIM). All data used by the notebook is included in the repository so, in principle, the notebook should be ready to deploy and improve upon. Please let me know of any major improvements!   :) "
   ]
  },
  {
   "cell_type": "markdown",
   "metadata": {},
   "source": [
    "### **All of the required imports**"
   ]
  },
  {
   "cell_type": "code",
   "execution_count": 1,
   "metadata": {
    "collapsed": false
   },
   "outputs": [],
   "source": [
    "#Generic imports we will need\n",
    "import numpy as np\n",
    "import pandas as pd\n",
    "import string\n",
    "from collections import defaultdict\n",
    "from nltk.tokenize import TweetTokenizer\n",
    "from nltk.stem.porter import PorterStemmer\n",
    "from gensim import corpora, models, similarities\n",
    "from sklearn import linear_model\n",
    "from sklearn import cross_validation\n",
    "from sklearn.metrics import roc_curve, auc\n",
    "from sklearn import metrics\n",
    "from scipy import interp\n",
    "import matplotlib.pyplot as plt\n",
    "import sys\n",
    "import json\n",
    "\n",
    "#These are special modules that I built to streamline parsing, tokenization and the LSI step\n",
    "import twitter_parser\n",
    "import token_splicer\n",
    "from latent_semantic_indexing import latent_semantic_indexer\n",
    "%matplotlib inline "
   ]
  },
  {
   "cell_type": "markdown",
   "metadata": {
    "collapsed": true
   },
   "source": [
    "# 2. Check out the data\n",
    "---"
   ]
  },
  {
   "cell_type": "code",
   "execution_count": 2,
   "metadata": {
    "collapsed": false
   },
   "outputs": [
    {
     "name": "stdout",
     "output_type": "stream",
     "text": [
      "Index([u'_unit_id', u'_golden', u'_unit_state', u'_trusted_judgments',\n",
      "       u'_last_judgment_at', u'choose_one', u'choose_one:confidence',\n",
      "       u'choose_one_gold', u'keyword', u'location', u'text', u'tweetid',\n",
      "       u'userid'],\n",
      "      dtype='object')\n"
     ]
    }
   ],
   "source": [
    "df = pd.read_csv(\"data/tweets/disaster-tweets.csv\")\n",
    "print df.columns"
   ]
  },
  {
   "cell_type": "markdown",
   "metadata": {},
   "source": [
    "**What is relevant?**\n",
    "\n",
    "1. **_choose_one** - classification (\"Relevant\", \"Not Relevant\", or \"Can't Decide\")\n",
    "\n",
    "2. **_choose_one_confidence** - the certainty of the final classification\n",
    "\n",
    "3. **_text** - this is the actual tweet text\n",
    "\n",
    "**Other, somewhat, relevant details**\n",
    "\n",
    "1. **_golden** - \"TRUE\" or \"FALSE\" to indicate if the assigned classification is at the \"golden\" level, meaning hundreds of people voted on the classification. If not, five to six people voted on the classification. This is really supposed to be used as a final test set, but I don't do this.\n",
    "\n",
    "2. **_unit_state** - indicates if the judgement on classifying the tweets is \"finalized\", \"golden\" (this is like super finalized) or \"not finalized\". All tweets are either \"finalized\" or \"golden\".\n",
    "\n",
    "3. **keyword** - while not studied here, understanding what keywords are faithful indicators of disaster could be useful and improve model performance.\n",
    "\n",
    "There are 10,876 total tweets with a fairly even representation of both \"Relevant\" and \"Not Relevant\" classes. Very few are labeled as \"Can't Decide\" and they will not be relevant to the binary model developed (discussed below)."
   ]
  },
  {
   "cell_type": "markdown",
   "metadata": {},
   "source": [
    "**Only keep the columns relevant to this work**"
   ]
  },
  {
   "cell_type": "code",
   "execution_count": 3,
   "metadata": {
    "collapsed": true
   },
   "outputs": [],
   "source": [
    "df = df[[\"choose_one\", \"text\", \"choose_one:confidence\"]]"
   ]
  },
  {
   "cell_type": "markdown",
   "metadata": {},
   "source": [
    "**Check for any duplicate tweets and keep only one of the instances**"
   ]
  },
  {
   "cell_type": "code",
   "execution_count": 4,
   "metadata": {
    "collapsed": false
   },
   "outputs": [
    {
     "name": "stdout",
     "output_type": "stream",
     "text": [
      "Total tweets: 10876\n",
      "Total unique tweets: 10678\n"
     ]
    }
   ],
   "source": [
    "print \"Total tweets: %d\" % len(df)\n",
    "df = df.drop_duplicates(subset = [\"text\"]).reset_index() #this also resets the index otherwise the numbers will have gaps\n",
    "print \"Total unique tweets: %d\" % len(df)"
   ]
  },
  {
   "cell_type": "markdown",
   "metadata": {},
   "source": [
    "Indeed, there were a bunch of duplicates! This may be due to re-tweeting and CrowdFlower not carefully checking for identical text."
   ]
  },
  {
   "cell_type": "markdown",
   "metadata": {
    "collapsed": true
   },
   "source": [
    "# 3. Clean and tokenize all the tweets\n",
    "---\n",
    "**Employ custom tokenizer to:**\n",
    "1. Convert hyphens and apostrophes from utf8 to ascii\n",
    "2. Remove non-ascii mappable utf8 characters\n",
    "3. Clean any HTML tags\n",
    "4. Break on hyphens\n",
    "5. Stem words\n",
    "6. Reduce handles to only @ symbol\n",
    "7. Reduce hashtags to # symbol and attempt to split text based on word probabilties (this works even if CamelCase is not used)\n",
    "8. Reduce length (e.g., looooooovvvvveeee to love using word matching) and introduce special **|~exag~|** token\n",
    "9. Replace the top 90% (http://www.datagenetics.com/blog/october52012/index.html) of emoticons with: **|~happy~|**, **|~sad~|**, **|~angry~|** and **|~suprised~|** tokens\n",
    "10. Introduce special tokens\n",
    "  * **|~num~|** for numbers (detect comma separation as in 1,000,000)\n",
    "  * **|~num_alpha~|** for mixed numerical and alphabetical (maybe useful for interstates, planes, trains, ...) \n",
    "  * **|~num_units~|** for zero, one, ..., ten\n",
    "  * **|~num_tens~|** for ten, twenty, ..., ninety\n",
    "  * **|~num_scales~|** for hundred, thousand, ..., billion\n",
    "  * **|~website~|** for any hyperlinks\n",
    "  * **|~email~|** for emails\n",
    "  * **|~phone_num~|** for phone numbers\n",
    "  * **|~date~|** and **|~time|** for dates and times respectively\n",
    "  * **|~heart~|** for <3 emoticon\n",
    "\n",
    "**NOTE:** stop words (i.e., high frequency words like \"and\") are not removed as is commonly done in natural language processing tasks. Interestingly, keeping them helps improve the final model performance--perhaps by allowing for better word-word relations to be encoded in the discovered \"topics\"."
   ]
  },
  {
   "cell_type": "markdown",
   "metadata": {},
   "source": [
    "**Pipeline for performing the full tokenizaton**"
   ]
  },
  {
   "cell_type": "code",
   "execution_count": 5,
   "metadata": {
    "collapsed": true
   },
   "outputs": [],
   "source": [
    "tokenize_it = twitter_parser.Tokenizer()"
   ]
  },
  {
   "cell_type": "markdown",
   "metadata": {},
   "source": [
    "**Clean and tokenize the tweets**"
   ]
  },
  {
   "cell_type": "code",
   "execution_count": 6,
   "metadata": {
    "collapsed": false
   },
   "outputs": [],
   "source": [
    "df[\"text_tokenized_stemmed\"] = df[\"text\"].apply(tokenize_it.tweet_to_tokens)"
   ]
  },
  {
   "cell_type": "markdown",
   "metadata": {},
   "source": [
    "**Comparison of some raw and tokenized tweets**"
   ]
  },
  {
   "cell_type": "code",
   "execution_count": 11,
   "metadata": {
    "collapsed": false,
    "scrolled": true
   },
   "outputs": [
    {
     "name": "stdout",
     "output_type": "stream",
     "text": [
      "Original:\n",
      "#RockyFire Update => California Hwy. 20 closed in both directions due to Lake County fire - #CAfire #wildfires\n",
      "\n",
      "Tokenized:\n",
      "[u'#', u'fire', u'rocki', u'updat', u'|~happy~|', u'california', u'hwi', u'.', u'|~num~|', u'close', u'in', u'both', u'direct', u'due', u'to', u'lake', u'counti', u'fire', u'-', u'#', u'a', u'fire', u'c', u'#', u'wild', u'fire']\n"
     ]
    }
   ],
   "source": [
    "tweet_num =8 #5000\n",
    "print \"Original:\"\n",
    "print df[\"text\"][tweet_num] + \"\\n\"\n",
    "print \"Tokenized:\"\n",
    "print df[\"text_tokenized_stemmed\"][tweet_num]"
   ]
  },
  {
   "cell_type": "code",
   "execution_count": 19,
   "metadata": {
    "collapsed": false
   },
   "outputs": [
    {
     "name": "stdout",
     "output_type": "stream",
     "text": [
      "Original:\n",
      "TRUCK ABLAZE : R21. VOORTREKKER AVE. OUTSIDE OR TAMBO INTL. CARGO SECTION. http://t.co/8kscqKfKkF\n",
      "\n",
      "Tokenized:\n",
      "[u'truck', u'ablaz', u':', u'|~num_alpha~|', u'.', u'voortrekk', u'ave', u'.', u'outsid', u'or', u'tambo', u'intl', u'.', u'cargo', u'section', u'.', u'|~website~|']\n"
     ]
    }
   ],
   "source": [
    "tweet_num = 78 #5000\n",
    "print \"Original:\"\n",
    "print df[\"text\"][tweet_num] + \"\\n\"\n",
    "print \"Tokenized:\"\n",
    "print df[\"text_tokenized_stemmed\"][tweet_num]"
   ]
  },
  {
   "cell_type": "code",
   "execution_count": 22,
   "metadata": {
    "collapsed": false
   },
   "outputs": [
    {
     "name": "stdout",
     "output_type": "stream",
     "text": [
      "Original:\n",
      "Arson suspect linked to 30 fires caught in Northern California http://t.co/EJ2GHNAfHY\n",
      "\n",
      "Tokenized:\n",
      "[u'arson', u'suspect', u'link', u'to', u'|~num~|', u'fire', u'caught', u'in', u'northern', u'california', u'|~website~|']\n"
     ]
    }
   ],
   "source": [
    "tweet_num = 556\n",
    "print \"Original:\"\n",
    "print df[\"text\"][tweet_num] + \"\\n\"\n",
    "print \"Tokenized:\"\n",
    "print df[\"text_tokenized_stemmed\"][tweet_num]"
   ]
  },
  {
   "cell_type": "code",
   "execution_count": 9,
   "metadata": {
    "collapsed": false
   },
   "outputs": [
    {
     "name": "stdout",
     "output_type": "stream",
     "text": [
      "Original:\n",
      "#Flood in Bago Myanmar #We arrived Bago\n",
      "\n",
      "Tokenized:\n",
      "[u'#', u'flood', u'in', u'bago', u'myanmar', u'#', u'we', u'arriv', u'bago']\n"
     ]
    }
   ],
   "source": [
    "tweet_num = 19 #110   #(need to reduce recurrent charcters see 28) (check 86 for year) (9 for arrow)\n",
    "print \"Original:\"\n",
    "print df[\"text\"][tweet_num] + \"\\n\"\n",
    "print \"Tokenized:\"\n",
    "print df[\"text_tokenized_stemmed\"][tweet_num]"
   ]
  },
  {
   "cell_type": "code",
   "execution_count": 26,
   "metadata": {
    "collapsed": false
   },
   "outputs": [
    {
     "name": "stdout",
     "output_type": "stream",
     "text": [
      "Original:\n",
      "Severe Thunderstorm Warning until 10:30 PM local for Oklahoma County in OK. 60 Mph Wind Gusts And Half Dollar Size Hail. #okwx #myswc\n",
      "\n",
      "Tokenized:\n",
      "[u'sever', u'thunderstorm', u'warn', u'until', u'|~time~|', u'pm', u'local', u'for', u'oklahoma', u'counti', u'in', u'ok', u'.', u'|~num~|', u'mph', u'wind', u'gust', u'and', u'half', u'dollar', u'size', u'hail', u'.', u'#', u'okwx', u'#', u'my', u'swc']\n"
     ]
    }
   ],
   "source": [
    "tweet_num = 9445 #110   #(need to reduce recurrent charcters see 28) (check 86 for year) (9 for arrow)\n",
    "print \"Original:\"\n",
    "print df[\"text\"][tweet_num] + \"\\n\"\n",
    "print \"Tokenized:\"\n",
    "print df[\"text_tokenized_stemmed\"][tweet_num]"
   ]
  },
  {
   "cell_type": "markdown",
   "metadata": {},
   "source": [
    "# 5. Converting tweets into features for modeling\n",
    "---\n",
    "\n",
    "**Some useful definitions:**\n",
    "1. **Bag of words (BOW)**:  this is a vector representation of the form [1,0,0,2,4,0,...,0] where each dimension denotes a particular word and the number specifies how many times that word appears in a particular document (tweet in this case). There is a dimension for every word that appears at least twice (in this case) in the whole \"corpus\" of tweets (this is our \"dictionary\"). Since tweets are short the vectors are very sparse (mostly full of 0's). Please see https://en.wikipedia.org/wiki/Bag-of-words_model for more details.\n",
    "2. **Term frequency–inverse document frequency (TFIDF)**: rescaled BOW vectors where each word count is penalized (shrunk) in accord with how many of the documents contains the word--effectively adjusting the word counts for how unique each word is. For example, \"and\" will be heavily penalized, reflecting low information content and common usage. Since this is just a rescaling of each BOW element the new vectors are of the same *high* dimensionality. Please see https://en.wikipedia.org/wiki/Tf%E2%80%93idf for more details.\n",
    "3. **Latent semantic indexing (LSI)**: through a standard mathematical scheme from linear algebra--singular value decomposition (SVD--the TFIDF vectors are mapped onto a user specified, smaller dimensional space where the new dimensions are linear combinations of the old TFIDF dimensions. These new dimensions (commonly called \"topics\") are constructed so that they describe as much variance in the data as possible with rapidly diminishing returns for each new dimension. The outcome is a much more compact vectorial representation of each tweet. Please see for https://en.wikipedia.org/wiki/Latent_semantic_analysis more details.\n",
    "\n",
    "**Workflow**\n",
    "1. Create a dictionary and corpus\n",
    "  * Dictionary: use words from all of the tweets for more tokens\n",
    "  * Corpus: composed of the tweets with the greatest certainty in their classification. Convert to a BOW representation using the dictionary and then to a TFIDF analog.\n",
    "2. Create LSI features data frame of desired dimensionality from the dictionary and TFIDF tweet corpus (the dictionary just relates the new features to the actual words and is not really part of the dimensionality reduction)"
   ]
  },
  {
   "cell_type": "markdown",
   "metadata": {},
   "source": [
    "**Functions to create the dictionary, corpus and LSI features data frame**"
   ]
  },
  {
   "cell_type": "code",
   "execution_count": 27,
   "metadata": {
    "collapsed": true
   },
   "outputs": [],
   "source": [
    "#makes the gensim dictionary and corpus\n",
    "def make_dictionary_and_corpus(df_dictionary, df_corpus):\n",
    "    #the tokenized and stemmed data form our texts database \n",
    "    texts = df_dictionary\n",
    "    \n",
    "    #check how frequently a given word appears and remove it if only one occurrence\n",
    "    frequency = defaultdict(int)\n",
    "    for text in texts:\n",
    "        for token in text:\n",
    "            frequency[token] += 1\n",
    "    texts = [[token for token in text if frequency[token] > 1] for text in texts]\n",
    "    \n",
    "    #create a gensim dictionary\n",
    "    dictionary = corpora.Dictionary(texts)\n",
    "    \n",
    "    #create a new texts of only the ones I will analyze\n",
    "    texts = df_corpus    \n",
    "    \n",
    "    #create the bag of words corpus\n",
    "    corpus = [dictionary.doc2bow(text) for text in texts]\n",
    "    #corpus = [token_word2vec_map(text, frequency) for text in texts]\n",
    "    \n",
    "    #create a tfidf wrapper and convert the corpus to a tfidf format\n",
    "    tfidf = models.TfidfModel(corpus)\n",
    "    corpus_tfidf = tfidf[corpus]\n",
    "    \n",
    "    #return a tuple with the dictionary and corpus\n",
    "    return (dictionary, corpus_tfidf, corpus, tfidf)\n",
    "\n",
    "#clean the features for use in dataframe\n",
    "def remove_doc_label(doc):\n",
    "    cleaned_doc = []\n",
    "    for element in doc:\n",
    "        cleaned_doc.append(element[1])\n",
    "    return cleaned_doc\n",
    "\n",
    "#takes as input the tweet dataframe, dictionary, corpus and dimensions for the tweets and returns \n",
    "#a new dataframe with each tweet characterized by the new lower dimensional features\n",
    "#also returns the topics if desired\n",
    "def latent_semantic_analysis(df, dictionary, corpus_tfidf, dimensions, return_topics = False, n_topics = 10, n_words = 10):\n",
    "    #create a lsi wrapper around the tfidf wrapper\n",
    "    lsi = models.LsiModel(corpus_tfidf, id2word=dictionary, num_topics=dimensions, power_iters=10)\n",
    "    corpus_lsi = lsi[corpus_tfidf]\n",
    "    \n",
    "    #create the features for a new dataframe\n",
    "    features = []\n",
    "    for doc in corpus_lsi:\n",
    "        features.append(remove_doc_label(doc))\n",
    "        \n",
    "    #create a new dataframe with the features\n",
    "    df_features = pd.DataFrame(data = features)\n",
    "    \n",
    "    #create a merged dataframe from the input (the indicies should match since I reset them earlier on)\n",
    "    df_merged = pd.concat([df[\"choose_one\"], df_features], axis=1)\n",
    "    \n",
    "    #return the new features dataframe devoid of columns that contain nothing\n",
    "    if return_topics:\n",
    "        return (df_merged.fillna(0), lsi.print_topics(n_topics, num_words = n_words), lsi)\n",
    "    else:\n",
    "        return df_merged.fillna(0)"
   ]
  },
  {
   "cell_type": "markdown",
   "metadata": {},
   "source": [
    "**Create data frames for constructing the dictionary and corpus**\n",
    "\n",
    "**Dictionary**: use all the tweets to get maximal word recognition, thus maximizing generalizability to new tweets. Tokens that appear only once are excluded.\n",
    "\n",
    "**Corpus**: only employ tweets of 100% confidence in classification to ensure the reliability of the predictive model. Some of the tweets with less than 100% appeared incorrectly labeled upon personal inspection."
   ]
  },
  {
   "cell_type": "code",
   "execution_count": 28,
   "metadata": {
    "collapsed": false
   },
   "outputs": [],
   "source": [
    "#create separate full and dictionary dataframes\n",
    "df_full = df[[\"choose_one\",\"text_tokenized_stemmed\",\"text\"]]\n",
    "df_filtered = df[[\"choose_one\",\"text_tokenized_stemmed\",\"text\"]][df[\"choose_one:confidence\"] == 1].reset_index()"
   ]
  },
  {
   "cell_type": "markdown",
   "metadata": {},
   "source": [
    "**Make dictionary and corpus**"
   ]
  },
  {
   "cell_type": "code",
   "execution_count": 29,
   "metadata": {
    "collapsed": false
   },
   "outputs": [],
   "source": [
    "#generate the dictionary and the corpus for our tweets\n",
    "tweet_type = \"text_tokenized_stemmed\"\n",
    "dictionary, corpus_tfidf, corpus_bow, tfidf = make_dictionary_and_corpus(df_full[tweet_type], df_filtered[tweet_type])"
   ]
  },
  {
   "cell_type": "markdown",
   "metadata": {},
   "source": [
    "**Save dictionary and tfidf for online app**"
   ]
  },
  {
   "cell_type": "code",
   "execution_count": 35,
   "metadata": {
    "collapsed": false
   },
   "outputs": [],
   "source": [
    "dictionary.save('./model/model.dict')"
   ]
  },
  {
   "cell_type": "code",
   "execution_count": 36,
   "metadata": {
    "collapsed": true
   },
   "outputs": [],
   "source": [
    "tfidf.save('./model/model.tfidf')"
   ]
  },
  {
   "cell_type": "code",
   "execution_count": 30,
   "metadata": {
    "collapsed": false
   },
   "outputs": [
    {
     "name": "stdout",
     "output_type": "stream",
     "text": [
      "Dictionary(7001 unique tokens: [u'sinjar', u'yellow', u'jihad', u'lore', u'lord']...)\n"
     ]
    }
   ],
   "source": [
    "print dictionary"
   ]
  },
  {
   "cell_type": "code",
   "execution_count": 31,
   "metadata": {
    "collapsed": false
   },
   "outputs": [
    {
     "name": "stdout",
     "output_type": "stream",
     "text": [
      "TfidfModel(num_docs=4953, num_nnz=77238)\n"
     ]
    }
   ],
   "source": [
    "print tfidf"
   ]
  },
  {
   "cell_type": "code",
   "execution_count": 32,
   "metadata": {
    "collapsed": false
   },
   "outputs": [
    {
     "name": "stdout",
     "output_type": "stream",
     "text": [
      "# total tweets: 10678\n",
      "# high certainty tweets: 4953\n",
      "# lower certainty tweets: 5725\n"
     ]
    }
   ],
   "source": [
    "print \"# total tweets: %d\" % len(df_full)\n",
    "print \"# high certainty tweets: %d\" % len(df_filtered)\n",
    "print \"# lower certainty tweets: %d\" % (len(df_full)-len(df_filtered))"
   ]
  },
  {
   "cell_type": "markdown",
   "metadata": {
    "collapsed": true
   },
   "source": [
    "# 6. Decide on a model dimensionality and check accuracy\n",
    "\n",
    "---\n",
    "\n",
    "**Model used**: logistic regression (see: https://en.wikipedia.org/wiki/Logistic_regression).\n",
    "\n",
    "**Why**: logistic regression is one of the simplest models (linear in the features), making it particularly well suited to high dimensional problems. As dimensionality increases linear separability of the classes improves. Additionally, such highly constrained models suffer little from the so called \"curse of dimensionality\" which plagues weakly constrained models such as k-nearest neighbors (see https://en.wikipedia.org/wiki/Curse_of_dimensionality for details on this phenomenon).\n",
    "\n",
    "**Two tests across a range of dimensions**:\n",
    "\n",
    "1. k-fold cross validation error to assess how well the model will generalize to new tweets.\n",
    "  * Unfortunately this does not account well for testing generalizability to tweets with new (non-dictionary) tokens. Ideally, the word2vec mapping will remedy the relatively small dictionary.\n",
    "2. Training error to fit the whole dataset.\n",
    "\n",
    "With this analysis we will decide on a good dimensionality (or number of topics) for the model."
   ]
  },
  {
   "cell_type": "code",
   "execution_count": 33,
   "metadata": {
    "collapsed": false
   },
   "outputs": [],
   "source": [
    "def score_across_dim(df, dictionary, corpus_tfidf, power, samples, cross_val_num):\n",
    "    #select model\n",
    "    model = linear_model.LogisticRegression(class_weight = \"balanced\", C = 1) #I did not find much sensitivity to C\n",
    "    \n",
    "    #list for returning dimensions\n",
    "    dimensions_used = np.unique(np.logspace(0, power, num=samples, endpoint=True, base=10.0, dtype=int))\n",
    "    \n",
    "    #list for returning the average score from k-fold validation\n",
    "    scores_cv = []\n",
    "    scores_absolute = []\n",
    "    \n",
    "    #loop over the dimensions for performing the k-fold validation\n",
    "    for dimensions in dimensions_used:\n",
    "        #calculate model dataframe\n",
    "        df_model = latent_semantic_analysis(df, dictionary, corpus_tfidf, dimensions)\n",
    "        #actual validation\n",
    "        scores = cross_validation.cross_val_score(model, \n",
    "                                                  df_model[[i for i in range(dimensions)]], \n",
    "                                                  df_model[\"choose_one\"],\n",
    "                                                  cv=cross_val_num)\n",
    "        #compute average score\n",
    "        scores_cv.append(np.average(scores))\n",
    "        \n",
    "        \n",
    "        #create the vectors for fitting\n",
    "        X = df_model[[i for i in range(dimensions)]]\n",
    "        y = df_model[\"choose_one\"]\n",
    "        #fit the model\n",
    "        model.fit(X, y)\n",
    "        #compute score\n",
    "        scores_absolute.append(model.score(X, y))\n",
    "        \n",
    "        #print out current dimensionality\n",
    "        sys.stdout.write('\\r' + \"Calculating fit for dimensions = \" + (\"%d\" % dimensions))\n",
    "    \n",
    "    return (dimensions_used, scores_cv, scores_absolute)"
   ]
  },
  {
   "cell_type": "markdown",
   "metadata": {},
   "source": [
    "**Calculate train and 8-fold CV test scores for the logistic regression fit across a range of dimensions**"
   ]
  },
  {
   "cell_type": "code",
   "execution_count": 34,
   "metadata": {
    "collapsed": false
   },
   "outputs": [
    {
     "name": "stdout",
     "output_type": "stream",
     "text": [
      "Calculating fit for dimensions = 1000"
     ]
    }
   ],
   "source": [
    "#w2v fitting\n",
    "dimensions_used, scores_cv, scores_absolute = score_across_dim(df_filtered, dictionary, corpus_tfidf, 3, 100, 8)"
   ]
  },
  {
   "cell_type": "markdown",
   "metadata": {
    "collapsed": false
   },
   "source": [
    "**Plot the cross validation and complete fit scores**"
   ]
  },
  {
   "cell_type": "code",
   "execution_count": 36,
   "metadata": {
    "collapsed": false
   },
   "outputs": [
    {
     "data": {
      "image/png": "[encoded data removed]",
      "text/plain": [
       "<matplotlib.figure.Figure at 0x32a82e10>"
      ]
     },
     "metadata": {},
     "output_type": "display_data"
    }
   ],
   "source": [
    "#things to plot\n",
    "plt.plot(dimensions_used, scores_absolute, c=\"r\", linestyle = '-', linewidth = 2, label = \"Train\")\n",
    "plt.plot(dimensions_used, scores_cv, c=\"b\", linestyle = '-', linewidth = 2, label = \"8-fold cross validation\")\n",
    "\n",
    "#backround grid details\n",
    "axes = plt.gca()\n",
    "axes.grid(b = True, which = 'both', axis = 'both', color = 'gray', linestyle = '-', alpha = 0.5, linewidth = 0.5) \n",
    "axes.set_axis_bgcolor('white')  \n",
    "\n",
    "#font scpecifications\n",
    "title_font = {'family' : 'arial', 'color'  : 'black', 'weight' : 'heavy','size': 20}\n",
    "axis_label_font = {'family' : 'arial', 'color'  : 'black', 'weight' : 'normal','size': 20}\n",
    "\n",
    "#figure size and tick style\n",
    "plt.rcParams[\"figure.figsize\"] = [6,6]\n",
    "plt.rc('axes',edgecolor='black',linewidth=1)\n",
    "plt.tick_params(which='both', axis='both', color='black', length=4, width=0.5)\n",
    "plt.rcParams['xtick.direction'] = 'in'\n",
    "plt.rcParams['ytick.direction'] = 'in'\n",
    "\n",
    "#axis range and labels (also specify if log or not)\n",
    "plt.xlim(1, 1000)\n",
    "plt.xscale('log')\n",
    "plt.ylim(0.70, 0.95)\n",
    "plt.xlabel(r'Topics (Dimensions)', y=3, fontsize=20, fontdict = axis_label_font)\n",
    "plt.ylabel(r'Accuracy', fontsize=20, fontdict = axis_label_font)\n",
    "\n",
    "#title and axis labels\n",
    "plt.tick_params(axis='both', labelsize=20)\n",
    "plt.title('Logistic Regression Fit', y=1.05, fontdict = title_font)\n",
    "\n",
    "#legend details\n",
    "legend = plt.legend(shadow = True, frameon = True, fancybox = False, ncol = 1, fontsize = 15, loc = 'lower right')\n",
    "frame = legend.get_frame()\n",
    "#frame.set_width(100)\n",
    "frame.set_facecolor('white')\n",
    "frame.set_edgecolor('black')\n",
    "\n",
    "plt.savefig('data/cv_and_roc_data/cross_validation_adv_parse.png', bbox_inches='tight')\n",
    "\n",
    "plt.show()"
   ]
  },
  {
   "cell_type": "markdown",
   "metadata": {},
   "source": [
    "**Best cross validation score**"
   ]
  },
  {
   "cell_type": "code",
   "execution_count": 37,
   "metadata": {
    "collapsed": false
   },
   "outputs": [
    {
     "name": "stdout",
     "output_type": "stream",
     "text": [
      "(0.88411649106714152, 327)\n"
     ]
    }
   ],
   "source": [
    "max_score = 0\n",
    "for entry in zip(scores_cv, dimensions_used):\n",
    "    if entry[0] > max_score:\n",
    "        max_score = entry[0]\n",
    "        max_d = entry[1]\n",
    "print (max_score, max_d)"
   ]
  },
  {
   "cell_type": "markdown",
   "metadata": {},
   "source": [
    "**Conclusion**: Overall, 300 or so dimensions seems to be a good number as rapidly diminishing returns are found beyond this. The CV accuracy in this regime is ~0.88--not so bad."
   ]
  },
  {
   "cell_type": "markdown",
   "metadata": {},
   "source": [
    "# 7. Make and test a model with desired dimensionality\n",
    "\n",
    "---\n",
    "\n",
    "1. Create a k-fold receiver operating characteristic (ROC) curve (see: https://en.wikipedia.org/wiki/Receiver_operating_characteristic for more details).\n",
    "  * This checks how well the model \"separates\" the two classes by plotting the \"true positive rate\" vs the \"false positive rate\" while moving the probability cutoff for classifying into one of the two categories (the default for classification is 50%).\n",
    "2. Calculate various scores (train and test accuracies as well as the F1 score)\n",
    "3. Generate a confusion matrix to see where the model goes wrong in classification"
   ]
  },
  {
   "cell_type": "markdown",
   "metadata": {},
   "source": [
    "**Create the model and grab a few topics to look at later**"
   ]
  },
  {
   "cell_type": "code",
   "execution_count": 38,
   "metadata": {
    "collapsed": true
   },
   "outputs": [],
   "source": [
    "dimensions = 335\n",
    "df_lsi_features, topics, lsi = latent_semantic_analysis(df_filtered, dictionary, corpus_tfidf, dimensions, True, 15, 20)"
   ]
  },
  {
   "cell_type": "code",
   "execution_count": 40,
   "metadata": {
    "collapsed": false
   },
   "outputs": [
    {
     "data": {
      "text/html": [
       "<div>\n",
       "<table border=\"1\" class=\"dataframe\">\n",
       "  <thead>\n",
       "    <tr style=\"text-align: right;\">\n",
       "      <th></th>\n",
       "      <th>choose_one</th>\n",
       "      <th>0</th>\n",
       "      <th>1</th>\n",
       "      <th>2</th>\n",
       "      <th>3</th>\n",
       "      <th>4</th>\n",
       "      <th>5</th>\n",
       "      <th>6</th>\n",
       "      <th>7</th>\n",
       "      <th>8</th>\n",
       "      <th>...</th>\n",
       "      <th>325</th>\n",
       "      <th>326</th>\n",
       "      <th>327</th>\n",
       "      <th>328</th>\n",
       "      <th>329</th>\n",
       "      <th>330</th>\n",
       "      <th>331</th>\n",
       "      <th>332</th>\n",
       "      <th>333</th>\n",
       "      <th>334</th>\n",
       "    </tr>\n",
       "  </thead>\n",
       "  <tbody>\n",
       "    <tr>\n",
       "      <th>0</th>\n",
       "      <td>Relevant</td>\n",
       "      <td>0.048731</td>\n",
       "      <td>-0.046712</td>\n",
       "      <td>-0.040829</td>\n",
       "      <td>0.007121</td>\n",
       "      <td>0.005847</td>\n",
       "      <td>-0.004415</td>\n",
       "      <td>0.000362</td>\n",
       "      <td>0.021815</td>\n",
       "      <td>0.002168</td>\n",
       "      <td>...</td>\n",
       "      <td>-0.031504</td>\n",
       "      <td>-0.020742</td>\n",
       "      <td>0.003078</td>\n",
       "      <td>-0.040007</td>\n",
       "      <td>0.018705</td>\n",
       "      <td>0.017751</td>\n",
       "      <td>0.009146</td>\n",
       "      <td>0.016828</td>\n",
       "      <td>0.020395</td>\n",
       "      <td>-0.020952</td>\n",
       "    </tr>\n",
       "    <tr>\n",
       "      <th>1</th>\n",
       "      <td>Relevant</td>\n",
       "      <td>0.072279</td>\n",
       "      <td>-0.078153</td>\n",
       "      <td>-0.017297</td>\n",
       "      <td>0.001530</td>\n",
       "      <td>0.000115</td>\n",
       "      <td>-0.004230</td>\n",
       "      <td>-0.055255</td>\n",
       "      <td>0.016633</td>\n",
       "      <td>0.009410</td>\n",
       "      <td>...</td>\n",
       "      <td>0.038373</td>\n",
       "      <td>-0.006914</td>\n",
       "      <td>-0.010010</td>\n",
       "      <td>-0.003970</td>\n",
       "      <td>-0.029144</td>\n",
       "      <td>0.002370</td>\n",
       "      <td>0.027864</td>\n",
       "      <td>0.012932</td>\n",
       "      <td>-0.004741</td>\n",
       "      <td>0.039646</td>\n",
       "    </tr>\n",
       "    <tr>\n",
       "      <th>2</th>\n",
       "      <td>Relevant</td>\n",
       "      <td>0.055067</td>\n",
       "      <td>-0.059313</td>\n",
       "      <td>-0.018503</td>\n",
       "      <td>-0.030522</td>\n",
       "      <td>-0.001818</td>\n",
       "      <td>-0.030819</td>\n",
       "      <td>-0.059349</td>\n",
       "      <td>0.024336</td>\n",
       "      <td>-0.002942</td>\n",
       "      <td>...</td>\n",
       "      <td>0.053556</td>\n",
       "      <td>0.006158</td>\n",
       "      <td>-0.011906</td>\n",
       "      <td>0.055293</td>\n",
       "      <td>0.021524</td>\n",
       "      <td>-0.013295</td>\n",
       "      <td>0.001528</td>\n",
       "      <td>0.017623</td>\n",
       "      <td>-0.010278</td>\n",
       "      <td>0.052122</td>\n",
       "    </tr>\n",
       "    <tr>\n",
       "      <th>3</th>\n",
       "      <td>Relevant</td>\n",
       "      <td>0.043513</td>\n",
       "      <td>-0.052544</td>\n",
       "      <td>-0.000136</td>\n",
       "      <td>-0.016073</td>\n",
       "      <td>-0.019869</td>\n",
       "      <td>-0.022338</td>\n",
       "      <td>-0.009788</td>\n",
       "      <td>0.014395</td>\n",
       "      <td>0.002700</td>\n",
       "      <td>...</td>\n",
       "      <td>-0.024579</td>\n",
       "      <td>-0.007162</td>\n",
       "      <td>-0.004869</td>\n",
       "      <td>-0.001804</td>\n",
       "      <td>-0.000454</td>\n",
       "      <td>-0.015028</td>\n",
       "      <td>0.004589</td>\n",
       "      <td>0.015837</td>\n",
       "      <td>-0.068274</td>\n",
       "      <td>0.011143</td>\n",
       "    </tr>\n",
       "    <tr>\n",
       "      <th>4</th>\n",
       "      <td>Relevant</td>\n",
       "      <td>0.089181</td>\n",
       "      <td>-0.098072</td>\n",
       "      <td>-0.031340</td>\n",
       "      <td>0.015177</td>\n",
       "      <td>-0.034494</td>\n",
       "      <td>0.013318</td>\n",
       "      <td>0.027274</td>\n",
       "      <td>0.014292</td>\n",
       "      <td>0.029725</td>\n",
       "      <td>...</td>\n",
       "      <td>0.035062</td>\n",
       "      <td>0.047909</td>\n",
       "      <td>0.010238</td>\n",
       "      <td>0.017152</td>\n",
       "      <td>-0.011069</td>\n",
       "      <td>0.008000</td>\n",
       "      <td>0.061435</td>\n",
       "      <td>0.011935</td>\n",
       "      <td>-0.010573</td>\n",
       "      <td>-0.022424</td>\n",
       "    </tr>\n",
       "  </tbody>\n",
       "</table>\n",
       "<p>5 rows × 336 columns</p>\n",
       "</div>"
      ],
      "text/plain": [
       "  choose_one         0         1         2         3         4         5  \\\n",
       "0   Relevant  0.048731 -0.046712 -0.040829  0.007121  0.005847 -0.004415   \n",
       "1   Relevant  0.072279 -0.078153 -0.017297  0.001530  0.000115 -0.004230   \n",
       "2   Relevant  0.055067 -0.059313 -0.018503 -0.030522 -0.001818 -0.030819   \n",
       "3   Relevant  0.043513 -0.052544 -0.000136 -0.016073 -0.019869 -0.022338   \n",
       "4   Relevant  0.089181 -0.098072 -0.031340  0.015177 -0.034494  0.013318   \n",
       "\n",
       "          6         7         8    ...          325       326       327  \\\n",
       "0  0.000362  0.021815  0.002168    ...    -0.031504 -0.020742  0.003078   \n",
       "1 -0.055255  0.016633  0.009410    ...     0.038373 -0.006914 -0.010010   \n",
       "2 -0.059349  0.024336 -0.002942    ...     0.053556  0.006158 -0.011906   \n",
       "3 -0.009788  0.014395  0.002700    ...    -0.024579 -0.007162 -0.004869   \n",
       "4  0.027274  0.014292  0.029725    ...     0.035062  0.047909  0.010238   \n",
       "\n",
       "        328       329       330       331       332       333       334  \n",
       "0 -0.040007  0.018705  0.017751  0.009146  0.016828  0.020395 -0.020952  \n",
       "1 -0.003970 -0.029144  0.002370  0.027864  0.012932 -0.004741  0.039646  \n",
       "2  0.055293  0.021524 -0.013295  0.001528  0.017623 -0.010278  0.052122  \n",
       "3 -0.001804 -0.000454 -0.015028  0.004589  0.015837 -0.068274  0.011143  \n",
       "4  0.017152 -0.011069  0.008000  0.061435  0.011935 -0.010573 -0.022424  \n",
       "\n",
       "[5 rows x 336 columns]"
      ]
     },
     "execution_count": 40,
     "metadata": {},
     "output_type": "execute_result"
    }
   ],
   "source": [
    "df_lsi_features.head()"
   ]
  },
  {
   "cell_type": "markdown",
   "metadata": {},
   "source": [
    "**Some data for the app to demonstrate topics**"
   ]
  },
  {
   "cell_type": "code",
   "execution_count": 43,
   "metadata": {
    "collapsed": false
   },
   "outputs": [],
   "source": [
    "df_plot_features_and_tweets = pd.DataFrame()\n",
    "df_plot_features_and_tweets[['text', 'choose_one']] = df_filtered[['text', 'choose_one']]\n",
    "df_plot_features_and_tweets[[0,1,2,3,4,5,6,7,8,9,10]] = df_lsi_features[[0,1,2,3,4,5,6,7,8,9,10]]"
   ]
  },
  {
   "cell_type": "code",
   "execution_count": 44,
   "metadata": {
    "collapsed": true
   },
   "outputs": [],
   "source": [
    "df_plot_features_and_tweets.to_csv('./data/plot_features_and_tweets.csv')"
   ]
  },
  {
   "cell_type": "markdown",
   "metadata": {},
   "source": [
    "**Save the lsi model for use in online app**"
   ]
  },
  {
   "cell_type": "code",
   "execution_count": 40,
   "metadata": {
    "collapsed": true
   },
   "outputs": [],
   "source": [
    "lsi.save('./model/model.lsi')"
   ]
  },
  {
   "cell_type": "markdown",
   "metadata": {},
   "source": [
    "**Function to perform a k-fold ROC analysis and plot the results**"
   ]
  },
  {
   "cell_type": "code",
   "execution_count": 42,
   "metadata": {
    "collapsed": false
   },
   "outputs": [],
   "source": [
    "#so a dimensionality of ~100 seems perfectly fine... lets use this dimensionality and create a k-fold ROC curve\n",
    "def k_fold_roc(df, dim, cross_val_num):\n",
    "    #model used\n",
    "    model = linear_model.LogisticRegression(class_weight = \"balanced\", C = 1)\n",
    "    \n",
    "    #create X and y data but need as a numpy array for easy cv ROC implementation\n",
    "    #also need to usue dummies for the ROC curve so convert them en route\n",
    "    X = pd.DataFrame.as_matrix(df[[i for i in range(dim)]])\n",
    "    y = pd.get_dummies(df[\"choose_one\"])[\"Relevant\"]\n",
    "    \n",
    "    #create the cross validation entity to extract the dat from sequentially\n",
    "    cv = cross_validation.StratifiedKFold(y, n_folds = cross_val_num)\n",
    "    \n",
    "    mean_tpr = 0.0\n",
    "    mean_fpr = np.linspace(0, 1, 100)\n",
    "    all_tpr = []\n",
    "\n",
    "    roc_data = []\n",
    "    for i, (train, test) in enumerate(cv):\n",
    "        probas_ = model.fit(X[train], y[train]).predict_proba(X[test])\n",
    "        \n",
    "        fpr, tpr, thresholds = roc_curve(y[test], probas_[:, 1])\n",
    "        mean_tpr += interp(mean_fpr, fpr, tpr)\n",
    "        mean_tpr[0] = 0.0\n",
    "        roc_auc = auc(fpr, tpr)\n",
    "        \n",
    "        roc_data.append([fpr, tpr, ('%d (area = %0.2f)' % (i, roc_auc))])\n",
    "    \n",
    "    mean_tpr /= len(cv)\n",
    "    mean_tpr[-1] = 1.0\n",
    "    mean_auc = auc(mean_fpr, mean_tpr)\n",
    "    roc_data.append([mean_fpr, mean_tpr, ('Mean (area = %0.2f)' % mean_auc)])\n",
    "        \n",
    "    return roc_data"
   ]
  },
  {
   "cell_type": "markdown",
   "metadata": {},
   "source": [
    "**Generate the k-fold ROC curve and plot**"
   ]
  },
  {
   "cell_type": "code",
   "execution_count": 43,
   "metadata": {
    "collapsed": false
   },
   "outputs": [],
   "source": [
    "cross_val_num = 8\n",
    "roc_data = k_fold_roc(df_lsi_features, dimensions, cross_val_num)"
   ]
  },
  {
   "cell_type": "code",
   "execution_count": 45,
   "metadata": {
    "collapsed": false
   },
   "outputs": [
    {
     "data": {
      "image/png": "[encoded data removed]",
      "text/plain": [
       "<matplotlib.figure.Figure at 0x1d31f3c8>"
      ]
     },
     "metadata": {},
     "output_type": "display_data"
    }
   ],
   "source": [
    "#color palette\n",
    "# These are the \"Tableau 20\" colors as RGB.    \n",
    "tableau20 = [(31, 119, 180), (174, 199, 232), (255, 127, 14), (255, 187, 120),    \n",
    "             (44, 160, 44), (152, 223, 138), (214, 39, 40), (255, 152, 150),    \n",
    "             (148, 103, 189), (197, 176, 213), (140, 86, 75), (196, 156, 148),    \n",
    "             (227, 119, 194), (247, 182, 210), (127, 127, 127), (199, 199, 199),    \n",
    "             (188, 189, 34), (219, 219, 141), (23, 190, 207), (158, 218, 229)]    \n",
    "  \n",
    "# Scale the RGB values to the [0, 1] range, which is the format matplotlib accepts.    \n",
    "for i in range(len(tableau20)):    \n",
    "    r, g, b = tableau20[i]    \n",
    "    tableau20[i] = (r / 255., g / 255., b / 255.)   \n",
    "    \n",
    "    \n",
    "plt.plot([0, 1], [0, 1], '--', color=(0.6, 0.6, 0.6), label='Luck')\n",
    "\n",
    "i=0\n",
    "for roc in roc_data[:-1]:\n",
    "    plt.plot(roc[0], roc[1], lw=2, label=roc[2], color = tableau20[i])\n",
    "    i = i + 1\n",
    "\n",
    "roc = roc_data[-1]\n",
    "plt.plot(roc[0], roc[1], 'k-', lw=3, label=roc[2])\n",
    "    \n",
    "#backround grid details\n",
    "axes = plt.gca()\n",
    "axes.grid(b = True, which = 'both', axis = 'both', color = 'gray', linestyle = '-', alpha = 0.5, linewidth = 0.5) \n",
    "axes.set_axis_bgcolor('white')  \n",
    "\n",
    "#font scpecifications\n",
    "title_font = {'family' : 'arial', 'color'  : 'black', 'weight' : 'heavy','size': 20}\n",
    "axis_label_font = {'family' : 'arial', 'color'  : 'black', 'weight' : 'normal','size': 20}\n",
    "\n",
    "#figure size and tick style\n",
    "plt.rcParams[\"figure.figsize\"] = [6,6]\n",
    "plt.rc('axes',edgecolor='black',linewidth=1)\n",
    "plt.tick_params(which='both', axis='both', color='black', length=4, width=0.5)\n",
    "plt.rcParams['xtick.direction'] = 'in'\n",
    "plt.rcParams['ytick.direction'] = 'in'\n",
    "    \n",
    "#axis and label details\n",
    "plt.xlim([-0.05, 1.05])\n",
    "plt.ylim([-0.05, 1.05])\n",
    "plt.xlabel('False Positive Rate', fontsize=20, fontdict = axis_label_font)\n",
    "plt.ylabel('True Positive Rate', fontsize=20, fontdict = axis_label_font)\n",
    "    \n",
    "#title and axis labels\n",
    "plt.tick_params(axis='both', labelsize=20)\n",
    "plt.title(('%d-fold ROC analysis' % cross_val_num), y=1.05, fontdict = title_font)\n",
    "    \n",
    "#legend details\n",
    "legend = plt.legend(shadow = True, frameon = True, fancybox = False, ncol = 1\n",
    "                        , fontsize = 15, loc = 'lower right', bbox_to_anchor=(1.0, 0.0))\n",
    "frame = legend.get_frame()\n",
    "frame.set_facecolor('white')\n",
    "frame.set_edgecolor('black')\n",
    "\n",
    "plt.savefig('data/cv_and_roc_data/roc_adv_parse.png', bbox_inches='tight')\n",
    "    \n",
    "plt.show()\n"
   ]
  },
  {
   "cell_type": "markdown",
   "metadata": {},
   "source": [
    "The ROC analysis suggests the model does a good job at separating out the classes. "
   ]
  },
  {
   "cell_type": "markdown",
   "metadata": {},
   "source": [
    "**Fit a logistic regression model (one test-train split)**\n",
    "\n",
    "  1. Calculate train accuracy\n",
    "  2. Calculate test accuracy\n",
    "  3. Calculate the F1 score\n",
    "  4. Generate a confusion matrix"
   ]
  },
  {
   "cell_type": "code",
   "execution_count": 46,
   "metadata": {
    "collapsed": false
   },
   "outputs": [],
   "source": [
    "from sklearn.linear_model import LogisticRegression"
   ]
  },
  {
   "cell_type": "code",
   "execution_count": 47,
   "metadata": {
    "collapsed": false
   },
   "outputs": [
    {
     "name": "stdout",
     "output_type": "stream",
     "text": [
      "Train accuracy: 0.928319 \n",
      "\n",
      "Test accuracy: 0.924319 \n",
      "\n",
      "F1 score: 0.913094 \n",
      "\n",
      "Confusion matrix: \n",
      "\n",
      "-Legend\n",
      "[['True \"not disaster\"' 'False \"disaster\"']\n",
      " ['False \"not disaster\"' 'True \"disaster\"']]\n",
      "\n",
      "-Prediction\n",
      "[[522  29]\n",
      " [ 46 394]]\n"
     ]
    }
   ],
   "source": [
    "#make the X and y\n",
    "X = df_lsi_features[[i for i in range(dimensions)]]\n",
    "y = df_lsi_features[\"choose_one\"]\n",
    "\n",
    "#split into test and train\n",
    "X_train, X_test, y_train, y_test = cross_validation.train_test_split(X, y, train_size = 0.80)\n",
    "\n",
    "#make the model\n",
    "model = linear_model.LogisticRegression(class_weight = \"balanced\", C = 1)\n",
    "model.fit(X_train, y_train)\n",
    "y_pred = model.predict(X_test)\n",
    "\n",
    "#various \"fitness\" metrics\n",
    "print \"Train accuracy: %f \\n\" % model.score(X_train, y_train)\n",
    "print \"Test accuracy: %f \\n\" % model.score(X_test, y_test)\n",
    "print \"F1 score: %f \\n\" % metrics.f1_score(y_test, y_pred, labels=None, pos_label='Relevant', average='binary', sample_weight=None)\n",
    "\n",
    "#confusion matrix\n",
    "cm = metrics.confusion_matrix(y_test, model.predict(X_test))\n",
    "print \"Confusion matrix: \\n\"\n",
    "print \"-Legend\"\n",
    "print np.array([['True \"not disaster\"', 'False \"disaster\"'],['False \"not disaster\"', 'True \"disaster\"']])\n",
    "print \"\\n-Prediction\"\n",
    "print cm"
   ]
  },
  {
   "cell_type": "markdown",
   "metadata": {},
   "source": [
    "**For good measure, generate and save final model to use in online app**"
   ]
  },
  {
   "cell_type": "code",
   "execution_count": 45,
   "metadata": {
    "collapsed": false
   },
   "outputs": [
    {
     "data": {
      "text/plain": [
       "LogisticRegression(C=1, class_weight='balanced', dual=False,\n",
       "          fit_intercept=True, intercept_scaling=1, max_iter=100,\n",
       "          multi_class='ovr', n_jobs=1, penalty='l2', random_state=None,\n",
       "          solver='liblinear', tol=0.0001, verbose=0, warm_start=False)"
      ]
     },
     "execution_count": 45,
     "metadata": {},
     "output_type": "execute_result"
    }
   ],
   "source": [
    "#make the X and y\n",
    "X = df_lsi_features[[i for i in range(dimensions)]]\n",
    "y = df_lsi_features[\"choose_one\"]\n",
    "\n",
    "#make the modeldf_lsi_features[[i for i in range(dimensions)]]\n",
    "model = linear_model.LogisticRegression(class_weight = \"balanced\", C = 1)\n",
    "model.fit(X, y)"
   ]
  },
  {
   "cell_type": "code",
   "execution_count": 47,
   "metadata": {
    "collapsed": true
   },
   "outputs": [],
   "source": [
    "import dill"
   ]
  },
  {
   "cell_type": "code",
   "execution_count": 48,
   "metadata": {
    "collapsed": true
   },
   "outputs": [],
   "source": [
    "dill.dump(model, open(\"./model/log_reg_model.dill\", \"wb\"))"
   ]
  },
  {
   "cell_type": "markdown",
   "metadata": {},
   "source": [
    "Overall, the three scores are very good for this model. It may be desirable to change the cutoff for classification to lean towards false disaster prediction--the consequences of missing a disaster far outweigh the cost of misclassifying some. This is a balance of course as you don’t want to say everything is a disaster. "
   ]
  },
  {
   "cell_type": "markdown",
   "metadata": {},
   "source": [
    "# 8. Check out the \"topics\"\n",
    "\n",
    "---\n",
    "\n",
    "  1. Print out the top 15 topics with the top 20 tokens they are composed of\n",
    "  2. Plot some topics against each other with colors to indicate class\n",
    "  \n",
    "### **NOTE**: There is an online interactive version of this on the app\n",
    "### https://twitter-disaster-detection.herokuapp.com/about"
   ]
  },
  {
   "cell_type": "markdown",
   "metadata": {},
   "source": [
    "**Print the topics**"
   ]
  },
  {
   "cell_type": "code",
   "execution_count": 48,
   "metadata": {
    "collapsed": false
   },
   "outputs": [
    {
     "name": "stdout",
     "output_type": "stream",
     "text": [
      "Topic 0:\n",
      "0.732*\"?\" + 0.180*\"#\" + 0.142*\"i\" + 0.140*\"the\" + 0.138*\"a\" + 0.138*\".\" + 0.137*\"@\" + 0.123*\"!\" + 0.112*\"to\" + 0.110*\"you\" + 0.105*\"|~num~|\" + 0.101*\"in\" + 0.099*\":\" + 0.097*\"|~num_alpha~|\" + 0.096*\"of\" + 0.090*\"is\" + 0.090*\"and\" + 0.090*\"|~website~|\" + 0.086*\"-\" + 0.083*\"my\"\n",
      "\n",
      "Topic 1:\n",
      "0.650*\"?\" + -0.204*\"#\" + -0.165*\".\" + -0.162*\"|~num~|\" + -0.158*\":\" + -0.158*\"the\" + -0.144*\"in\" + -0.144*\"a\" + -0.141*\"of\" + -0.134*\"-\" + -0.126*\"|~website~|\" + -0.111*\"|~num_alpha~|\" + -0.106*\"to\" + -0.104*\"@\" + -0.103*\"...\" + -0.100*\"by\" + -0.089*\"and\" + -0.087*\"i\" + -0.080*\"on\" + -0.077*\"|~units~|\"\n",
      "\n",
      "Topic 2:\n",
      "0.215*\"more\" + 0.213*\":\" + 0.210*\"northern\" + 0.204*\"california\" + 0.203*\"wildfir\" + 0.202*\"latest\" + 0.200*\"raze\" + 0.195*\"famili\" + -0.187*\"!\" + 0.179*\"home\" + -0.176*\"i\" + -0.162*\"@\" + 0.153*\"news\" + -0.151*\"a\" + -0.151*\".\" + 0.143*\"-\" + 0.138*\"abc\" + 0.135*\"?\" + -0.126*\"you\" + 0.125*\"by\"\n",
      "\n",
      "Topic 3:\n",
      "0.328*\"sandstorm\" + 0.327*\"airport\" + 0.326*\"swallow\" + 0.311*\"minut\" + 0.303*\"under\" + 0.275*\"watch\" + 0.254*\"by\" + 0.241*\"get\" + 0.239*\"up\" + 0.205*\"thi\" + 0.152*\"a\" + -0.118*\"#\" + 0.097*\"raze\" + 0.093*\"latest\" + 0.092*\"wildfir\" + 0.091*\"northern\" + 0.085*\"california\" + 0.083*\"home\" + 0.083*\"more\" + -0.080*\"|~num_alpha~|\"\n",
      "\n",
      "Topic 4:\n",
      "0.271*\"suicid\" + 0.240*\"bomber\" + 0.193*\"bomb\" + 0.185*\"kill\" + -0.184*\"california\" + -0.181*\"wildfir\" + -0.176*\"raze\" + -0.173*\"northern\" + -0.172*\"!\" + -0.170*\"latest\" + -0.164*\"home\" + 0.153*\"mosqu\" + -0.153*\"more\" + 0.150*\"saudi\" + 0.142*\"in\" + 0.136*\"pkk\" + 0.134*\"turkey\" + 0.130*\"armi\" + 0.130*\"|~num~|\" + 0.129*\"trench\"\n",
      "\n",
      "Topic 5:\n",
      "0.431*\"famili\" + -0.283*\"#\" + 0.209*\"outbreak\" + 0.206*\"sue\" + 0.204*\"legionnaires'\" + 0.200*\"legionnair\" + 0.197*\"affect\" + 0.196*\"fatal\" + 0.191*\"than\" + 0.181*\"disea\" + 0.163*\"over\" + -0.156*\"northern\" + -0.153*\"california\" + -0.143*\"wildfir\" + -0.140*\"latest\" + -0.138*\"-\" + -0.136*\"raze\" + -0.132*\"home\" + 0.130*\"...\" + -0.115*\"news\"\n",
      "\n",
      "Topic 6:\n",
      "-0.573*\"#\" + 0.235*\"suicid\" + 0.215*\"bomber\" + 0.188*\"bomb\" + 0.155*\"pkk\" + 0.151*\"deton\" + 0.151*\"turkey\" + 0.149*\"trench\" + 0.143*\"old\" + 0.127*\"releas\" + 0.124*\"armi\" + 0.121*\"raze\" + 0.120*\"wildfir\" + 0.117*\"pic\" + 0.112*\"california\" + 0.109*\"who\" + 0.106*\"latest\" + 0.102*\"mosqu\" + 0.102*\"saudi\" + 0.100*\"northern\"\n",
      "\n",
      "Topic 7:\n",
      "0.252*\"#\" + -0.190*\"from\" + -0.183*\"malaysia\" + -0.182*\"obama\" + -0.176*\"declar\" + -0.175*\"wreckag\" + -0.171*\"'conclus\" + -0.171*\"confirmed'\" + -0.168*\"pm\" + -0.160*\"disast\" + -0.159*\":\" + 0.158*\"kill\" + 0.155*\"|~num~|\" + -0.149*\"|~num_alpha~|\" + -0.147*\"those\" + 0.145*\"than\" + -0.143*\"investig\" + -0.140*\"who\" + -0.138*\"for\" + -0.136*\"as\"\n",
      "\n",
      "Topic 8:\n",
      "-0.354*\"!\" + 0.218*\"disast\" + 0.209*\"obama\" + 0.204*\"declar\" + -0.203*\"|~num_alpha~|\" + 0.194*\"atom\" + 0.188*\"hiroshima\" + 0.175*\"devast\" + 0.159*\"bomb\" + 0.158*\"anniversari\" + -0.153*\"malaysia\" + -0.150*\"from\" + -0.142*\"wreckag\" + 0.142*\"japan\" + -0.135*\"who\" + -0.133*\"confirmed'\" + -0.133*\"'conclus\" + 0.127*\"typhoon\" + -0.121*\"pm\" + 0.121*\"saipan\"\n",
      "\n",
      "Topic 9:\n",
      "0.307*\"!\" + 0.271*\"obama\" + 0.261*\"declar\" + 0.242*\"disast\" + -0.214*\"#\" + -0.211*\"hiroshima\" + -0.195*\"bomb\" + 0.191*\"for\" + 0.189*\"kill\" + -0.181*\"atom\" + 0.166*\"typhoon\" + 0.154*\"saipan\" + -0.143*\"anniversari\" + -0.130*\"of\" + -0.128*\".\" + -0.125*\"the\" + -0.118*\"japan\" + 0.116*\"sign\" + 0.112*\"mosqu\" + 0.111*\"-\"\n",
      "\n",
      "Topic 10:\n",
      "0.558*\"!\" + 0.249*\"#\" + -0.210*\"|~units~|\" + -0.198*\"kill\" + 0.166*\"bomb\" + -0.136*\"crash\" + 0.123*\"obama\" + -0.122*\"in\" + 0.121*\"hiroshima\" + -0.121*\".\" + 0.119*\"declar\" + -0.115*\"fear\" + 0.111*\"disast\" + 0.111*\"atom\" + -0.106*\"helicopt\" + -0.101*\"ambul\" + -0.101*\"pakistani\" + -0.095*\"air\" + 0.093*\"devast\" + 0.092*\"anniversari\"\n",
      "\n",
      "Topic 11:\n",
      "-0.462*\"!\" + 0.202*\"#\" + -0.168*\"atom\" + -0.158*\"hiroshima\" + 0.158*\"obama\" + 0.156*\"declar\" + 0.154*\"disast\" + -0.146*\"anniversari\" + -0.128*\"kill\" + 0.128*\"armi\" + 0.125*\".\" + -0.122*\"japan\" + -0.121*\"after\" + 0.120*\"i\" + -0.114*\"|~num~|\" + -0.110*\"|~date~|\" + 0.104*\"trench\" + 0.102*\"my\" + 0.102*\"turkey\" + 0.101*\"pkk\"\n",
      "\n",
      "Topic 12:\n",
      "-0.342*\"spill\" + -0.341*\"oil\" + -0.302*\"costlier\" + -0.302*\"refugio\" + -0.301*\"bigger\" + -0.301*\"project\" + -0.271*\"been\" + -0.270*\"may\" + -0.252*\"have\" + -0.211*\"than\" + 0.093*\"famili\" + -0.076*\"migrant\" + -0.075*\":\" + -0.065*\"|~scales~|\" + 0.062*\"to\" + 0.058*\".\" + -0.057*\"plain\" + -0.056*\"rescuer\" + -0.054*\"video\" + -0.054*\"news\"\n",
      "\n",
      "Topic 13:\n",
      "-0.247*\"migrant\" + -0.204*\"|~scales~|\" + -0.186*\"pick\" + -0.181*\"rescuer\" + -0.180*\"fear\" + -0.179*\"search\" + 0.162*\"-\" + 0.161*\"at\" + -0.159*\"are\" + -0.149*\"water'\" + -0.148*\"'we'r\" + -0.143*\"bodi\" + 0.141*\"|~time~|\" + 0.139*\"attack\" + 0.123*\"pm\" + 0.122*\"via\" + 0.122*\"@\" + 0.118*\"|~num_alpha~|\" + -0.113*\"for\" + 0.111*\"|~num~|\"\n",
      "\n",
      "Topic 14:\n",
      "0.209*\"|~units~|\" + 0.197*\"crash\" + -0.187*\"migrant\" + 0.171*\"kill\" + 0.167*\"helicopt\" + 0.161*\"ambul\" + 0.160*\"air\" + -0.158*\"are\" + -0.156*\"you\" + -0.155*\"video\" + -0.154*\"|~scales~|\" + 0.154*\"pakistani\" + 0.150*\"!\" + -0.149*\"rescuer\" + -0.148*\"attack\" + -0.147*\"search\" + -0.141*\"bodi\" + -0.134*\"pick\" + -0.130*\"water'\" + -0.129*\"'we'r\"\n",
      "\n"
     ]
    }
   ],
   "source": [
    "for topic in topics:\n",
    "    print \"Topic %d:\" % topic[0]\n",
    "    print topic[1] + \"\\n\""
   ]
  },
  {
   "cell_type": "markdown",
   "metadata": {},
   "source": [
    "The topics seem to progressively become more relevant to disasters based on the words. The lower order ones will likely serve as better for identifying non-disasters while later ones disasters. This can be confirmed by plotting the topics against one another."
   ]
  },
  {
   "cell_type": "markdown",
   "metadata": {
    "collapsed": true
   },
   "source": [
    "**Plot topics**\n",
    "\n",
    "Topic 1 seems better for identifying non-disasters while topic 9 is better for disasters. Let’s check..."
   ]
  },
  {
   "cell_type": "code",
   "execution_count": 51,
   "metadata": {
    "collapsed": false
   },
   "outputs": [
    {
     "data": {
      "image/png": "[encoded data removed]",
      "text/plain": [
       "<matplotlib.figure.Figure at 0x1116bd68>"
      ]
     },
     "metadata": {},
     "output_type": "display_data"
    }
   ],
   "source": [
    "#set the two topics\n",
    "feature_1 = 1\n",
    "feature_2 = 9\n",
    "\n",
    "#extract the data for plotting\n",
    "feature_1_not_relevant = df_lsi_features[df_lsi_features[\"choose_one\"] == \"Not Relevant\"][feature_1]\n",
    "feature_2_not_relevant = df_lsi_features[df_lsi_features[\"choose_one\"] == \"Not Relevant\"][feature_2]\n",
    "feature_1_relevant = df_lsi_features[df_lsi_features[\"choose_one\"] == \"Relevant\"][feature_1]\n",
    "feature_2_relevant = df_lsi_features[df_lsi_features[\"choose_one\"] == \"Relevant\"][feature_2]\n",
    "\n",
    "#things to plot\n",
    "plt.scatter(feature_1_not_relevant, feature_2_not_relevant, c=\"b\", s=40, alpha=0.3, linewidths=0.0, label = \"Not Disaster\")\n",
    "plt.scatter(feature_1_relevant, feature_2_relevant, c=\"r\", s=40, alpha=0.3, linewidths=0.0, label = \"Disaster\")\n",
    "\n",
    "\n",
    "#backround grid details\n",
    "axes = plt.gca()\n",
    "axes.grid(b = True, which = 'both', axis = 'both', color = 'gray', linestyle = '-', alpha = 0.5, linewidth = 0.5) \n",
    "axes.set_axis_bgcolor('white')  \n",
    "\n",
    "#font scpecifications\n",
    "title_font = {'family' : 'arial', 'color'  : 'black', 'weight' : 'heavy','size': 20}\n",
    "axis_label_font = {'family' : 'arial', 'color'  : 'black', 'weight' : 'normal','size': 20}\n",
    "\n",
    "#figure size and tick style\n",
    "plt.rcParams[\"figure.figsize\"] = [6,6]\n",
    "plt.rc('axes',edgecolor='black',linewidth=1)\n",
    "plt.tick_params(which='both', axis='both', color='black', length=4, width=0.5)\n",
    "plt.rcParams['xtick.direction'] = 'in'\n",
    "plt.rcParams['ytick.direction'] = 'in'\n",
    "\n",
    "#axis range and labels (also specify if log or not)\n",
    "plt.xlim(-0.8, 0.4)\n",
    "#plt.xscale('log')\n",
    "plt.ylim(-0.4, 0.6)\n",
    "plt.xlabel(r'Topic ' + str(feature_1), y=3, fontsize=20, fontdict = axis_label_font)\n",
    "plt.ylabel(r'Topic ' + str(feature_2), fontsize=20, fontdict = axis_label_font)\n",
    "\n",
    "#title and axis labels\n",
    "plt.tick_params(axis='both', labelsize=20)\n",
    "plt.title('Features', y=1.05, fontdict = title_font)\n",
    "\n",
    "#legend details\n",
    "legend = plt.legend(shadow = True, frameon = True, fancybox = False, ncol = 1, fontsize = 15, loc = 'lower left')\n",
    "frame = legend.get_frame()\n",
    "#frame.set_width(100)\n",
    "frame.set_facecolor('white')\n",
    "frame.set_edgecolor('black')\n",
    "\n",
    "plt.savefig('data/cv_and_roc_data/topics-adv_parse.png', bbox_inches='tight')\n",
    "    \n",
    "plt.show()"
   ]
  },
  {
   "cell_type": "markdown",
   "metadata": {},
   "source": [
    "Indeed, the topics match our intuition based on what tokens they contain! Topic 1 pulls out many non-disaster tweets from the \"clump\" near the origin while topic 9 does the same (though more weakly so) for disaster tweets. With hundreds of topics to work with, good separation is possible."
   ]
  },
  {
   "cell_type": "markdown",
   "metadata": {},
   "source": [
    "**To be continued...**"
   ]
  }
 ],
 "metadata": {
  "kernelspec": {
   "display_name": "Python [Root]",
   "language": "python",
   "name": "Python [Root]"
  },
  "language_info": {
   "codemirror_mode": {
    "name": "ipython",
    "version": 2
   },
   "file_extension": ".py",
   "mimetype": "text/x-python",
   "name": "python",
   "nbconvert_exporter": "python",
   "pygments_lexer": "ipython2",
   "version": "2.7.12"
  }
 },
 "nbformat": 4,
 "nbformat_minor": 0
}
