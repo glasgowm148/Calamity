{
 "cells": [
  {
   "cell_type": "code",
   "execution_count": 1,
   "metadata": {},
   "outputs": [],
   "source": [
    "%matplotlib inline"
   ]
  },
  {
   "cell_type": "code",
   "execution_count": null,
   "metadata": {},
   "outputs": [],
   "source": []
  },
  {
   "cell_type": "code",
   "execution_count": 2,
   "metadata": {},
   "outputs": [],
   "source": [
    "import glob\n",
    "import gzip\n",
    "import json\n",
    "\n",
    "import numpy as np\n",
    "import pandas as pd"
   ]
  },
  {
   "cell_type": "code",
   "execution_count": null,
   "metadata": {},
   "outputs": [],
   "source": []
  },
  {
   "cell_type": "code",
   "execution_count": 3,
   "metadata": {},
   "outputs": [],
   "source": [
    "run_title = \"fasttext\""
   ]
  },
  {
   "cell_type": "code",
   "execution_count": 4,
   "metadata": {},
   "outputs": [
    {
     "ename": "FileNotFoundError",
     "evalue": "[Errno 2] File trec2019b_test_results_run_fasttext.csv does not exist: 'trec2019b_test_results_run_fasttext.csv'",
     "output_type": "error",
     "traceback": [
      "\u001b[0;31m---------------------------------------------------------------------------\u001b[0m",
      "\u001b[0;31mFileNotFoundError\u001b[0m                         Traceback (most recent call last)",
      "\u001b[0;32m<ipython-input-4-650fd9420ea1>\u001b[0m in \u001b[0;36m<module>\u001b[0;34m\u001b[0m\n\u001b[0;32m----> 1\u001b[0;31m category_df = pd.read_csv(\"trec2019b_test_results_run_%s.csv\" % run_title, dtype={\n\u001b[0m\u001b[1;32m      2\u001b[0m     \u001b[0;34m\"tweet_id\"\u001b[0m\u001b[0;34m:\u001b[0m \u001b[0mnp\u001b[0m\u001b[0;34m.\u001b[0m\u001b[0mint64\u001b[0m\u001b[0;34m,\u001b[0m\u001b[0;34m\u001b[0m\u001b[0;34m\u001b[0m\u001b[0m\n\u001b[1;32m      3\u001b[0m })\n\u001b[1;32m      4\u001b[0m priority_df = pd.read_csv(\"trec2019b_test_results_priority_run_%s.csv\" % run_title, dtype={\n\u001b[1;32m      5\u001b[0m     \u001b[0;34m\"tweet_id\"\u001b[0m\u001b[0;34m:\u001b[0m \u001b[0mnp\u001b[0m\u001b[0;34m.\u001b[0m\u001b[0mint64\u001b[0m\u001b[0;34m,\u001b[0m\u001b[0;34m\u001b[0m\u001b[0;34m\u001b[0m\u001b[0m\n",
      "\u001b[0;32m/opt/anaconda3/lib/python3.8/site-packages/pandas/io/parsers.py\u001b[0m in \u001b[0;36mparser_f\u001b[0;34m(filepath_or_buffer, sep, delimiter, header, names, index_col, usecols, squeeze, prefix, mangle_dupe_cols, dtype, engine, converters, true_values, false_values, skipinitialspace, skiprows, skipfooter, nrows, na_values, keep_default_na, na_filter, verbose, skip_blank_lines, parse_dates, infer_datetime_format, keep_date_col, date_parser, dayfirst, cache_dates, iterator, chunksize, compression, thousands, decimal, lineterminator, quotechar, quoting, doublequote, escapechar, comment, encoding, dialect, error_bad_lines, warn_bad_lines, delim_whitespace, low_memory, memory_map, float_precision)\u001b[0m\n\u001b[1;32m    674\u001b[0m         )\n\u001b[1;32m    675\u001b[0m \u001b[0;34m\u001b[0m\u001b[0m\n\u001b[0;32m--> 676\u001b[0;31m         \u001b[0;32mreturn\u001b[0m \u001b[0m_read\u001b[0m\u001b[0;34m(\u001b[0m\u001b[0mfilepath_or_buffer\u001b[0m\u001b[0;34m,\u001b[0m \u001b[0mkwds\u001b[0m\u001b[0;34m)\u001b[0m\u001b[0;34m\u001b[0m\u001b[0;34m\u001b[0m\u001b[0m\n\u001b[0m\u001b[1;32m    677\u001b[0m \u001b[0;34m\u001b[0m\u001b[0m\n\u001b[1;32m    678\u001b[0m     \u001b[0mparser_f\u001b[0m\u001b[0;34m.\u001b[0m\u001b[0m__name__\u001b[0m \u001b[0;34m=\u001b[0m \u001b[0mname\u001b[0m\u001b[0;34m\u001b[0m\u001b[0;34m\u001b[0m\u001b[0m\n",
      "\u001b[0;32m/opt/anaconda3/lib/python3.8/site-packages/pandas/io/parsers.py\u001b[0m in \u001b[0;36m_read\u001b[0;34m(filepath_or_buffer, kwds)\u001b[0m\n\u001b[1;32m    446\u001b[0m \u001b[0;34m\u001b[0m\u001b[0m\n\u001b[1;32m    447\u001b[0m     \u001b[0;31m# Create the parser.\u001b[0m\u001b[0;34m\u001b[0m\u001b[0;34m\u001b[0m\u001b[0;34m\u001b[0m\u001b[0m\n\u001b[0;32m--> 448\u001b[0;31m     \u001b[0mparser\u001b[0m \u001b[0;34m=\u001b[0m \u001b[0mTextFileReader\u001b[0m\u001b[0;34m(\u001b[0m\u001b[0mfp_or_buf\u001b[0m\u001b[0;34m,\u001b[0m \u001b[0;34m**\u001b[0m\u001b[0mkwds\u001b[0m\u001b[0;34m)\u001b[0m\u001b[0;34m\u001b[0m\u001b[0;34m\u001b[0m\u001b[0m\n\u001b[0m\u001b[1;32m    449\u001b[0m \u001b[0;34m\u001b[0m\u001b[0m\n\u001b[1;32m    450\u001b[0m     \u001b[0;32mif\u001b[0m \u001b[0mchunksize\u001b[0m \u001b[0;32mor\u001b[0m \u001b[0miterator\u001b[0m\u001b[0;34m:\u001b[0m\u001b[0;34m\u001b[0m\u001b[0;34m\u001b[0m\u001b[0m\n",
      "\u001b[0;32m/opt/anaconda3/lib/python3.8/site-packages/pandas/io/parsers.py\u001b[0m in \u001b[0;36m__init__\u001b[0;34m(self, f, engine, **kwds)\u001b[0m\n\u001b[1;32m    878\u001b[0m             \u001b[0mself\u001b[0m\u001b[0;34m.\u001b[0m\u001b[0moptions\u001b[0m\u001b[0;34m[\u001b[0m\u001b[0;34m\"has_index_names\"\u001b[0m\u001b[0;34m]\u001b[0m \u001b[0;34m=\u001b[0m \u001b[0mkwds\u001b[0m\u001b[0;34m[\u001b[0m\u001b[0;34m\"has_index_names\"\u001b[0m\u001b[0;34m]\u001b[0m\u001b[0;34m\u001b[0m\u001b[0;34m\u001b[0m\u001b[0m\n\u001b[1;32m    879\u001b[0m \u001b[0;34m\u001b[0m\u001b[0m\n\u001b[0;32m--> 880\u001b[0;31m         \u001b[0mself\u001b[0m\u001b[0;34m.\u001b[0m\u001b[0m_make_engine\u001b[0m\u001b[0;34m(\u001b[0m\u001b[0mself\u001b[0m\u001b[0;34m.\u001b[0m\u001b[0mengine\u001b[0m\u001b[0;34m)\u001b[0m\u001b[0;34m\u001b[0m\u001b[0;34m\u001b[0m\u001b[0m\n\u001b[0m\u001b[1;32m    881\u001b[0m \u001b[0;34m\u001b[0m\u001b[0m\n\u001b[1;32m    882\u001b[0m     \u001b[0;32mdef\u001b[0m \u001b[0mclose\u001b[0m\u001b[0;34m(\u001b[0m\u001b[0mself\u001b[0m\u001b[0;34m)\u001b[0m\u001b[0;34m:\u001b[0m\u001b[0;34m\u001b[0m\u001b[0;34m\u001b[0m\u001b[0m\n",
      "\u001b[0;32m/opt/anaconda3/lib/python3.8/site-packages/pandas/io/parsers.py\u001b[0m in \u001b[0;36m_make_engine\u001b[0;34m(self, engine)\u001b[0m\n\u001b[1;32m   1112\u001b[0m     \u001b[0;32mdef\u001b[0m \u001b[0m_make_engine\u001b[0m\u001b[0;34m(\u001b[0m\u001b[0mself\u001b[0m\u001b[0;34m,\u001b[0m \u001b[0mengine\u001b[0m\u001b[0;34m=\u001b[0m\u001b[0;34m\"c\"\u001b[0m\u001b[0;34m)\u001b[0m\u001b[0;34m:\u001b[0m\u001b[0;34m\u001b[0m\u001b[0;34m\u001b[0m\u001b[0m\n\u001b[1;32m   1113\u001b[0m         \u001b[0;32mif\u001b[0m \u001b[0mengine\u001b[0m \u001b[0;34m==\u001b[0m \u001b[0;34m\"c\"\u001b[0m\u001b[0;34m:\u001b[0m\u001b[0;34m\u001b[0m\u001b[0;34m\u001b[0m\u001b[0m\n\u001b[0;32m-> 1114\u001b[0;31m             \u001b[0mself\u001b[0m\u001b[0;34m.\u001b[0m\u001b[0m_engine\u001b[0m \u001b[0;34m=\u001b[0m \u001b[0mCParserWrapper\u001b[0m\u001b[0;34m(\u001b[0m\u001b[0mself\u001b[0m\u001b[0;34m.\u001b[0m\u001b[0mf\u001b[0m\u001b[0;34m,\u001b[0m \u001b[0;34m**\u001b[0m\u001b[0mself\u001b[0m\u001b[0;34m.\u001b[0m\u001b[0moptions\u001b[0m\u001b[0;34m)\u001b[0m\u001b[0;34m\u001b[0m\u001b[0;34m\u001b[0m\u001b[0m\n\u001b[0m\u001b[1;32m   1115\u001b[0m         \u001b[0;32melse\u001b[0m\u001b[0;34m:\u001b[0m\u001b[0;34m\u001b[0m\u001b[0;34m\u001b[0m\u001b[0m\n\u001b[1;32m   1116\u001b[0m             \u001b[0;32mif\u001b[0m \u001b[0mengine\u001b[0m \u001b[0;34m==\u001b[0m \u001b[0;34m\"python\"\u001b[0m\u001b[0;34m:\u001b[0m\u001b[0;34m\u001b[0m\u001b[0;34m\u001b[0m\u001b[0m\n",
      "\u001b[0;32m/opt/anaconda3/lib/python3.8/site-packages/pandas/io/parsers.py\u001b[0m in \u001b[0;36m__init__\u001b[0;34m(self, src, **kwds)\u001b[0m\n\u001b[1;32m   1889\u001b[0m         \u001b[0mkwds\u001b[0m\u001b[0;34m[\u001b[0m\u001b[0;34m\"usecols\"\u001b[0m\u001b[0;34m]\u001b[0m \u001b[0;34m=\u001b[0m \u001b[0mself\u001b[0m\u001b[0;34m.\u001b[0m\u001b[0musecols\u001b[0m\u001b[0;34m\u001b[0m\u001b[0;34m\u001b[0m\u001b[0m\n\u001b[1;32m   1890\u001b[0m \u001b[0;34m\u001b[0m\u001b[0m\n\u001b[0;32m-> 1891\u001b[0;31m         \u001b[0mself\u001b[0m\u001b[0;34m.\u001b[0m\u001b[0m_reader\u001b[0m \u001b[0;34m=\u001b[0m \u001b[0mparsers\u001b[0m\u001b[0;34m.\u001b[0m\u001b[0mTextReader\u001b[0m\u001b[0;34m(\u001b[0m\u001b[0msrc\u001b[0m\u001b[0;34m,\u001b[0m \u001b[0;34m**\u001b[0m\u001b[0mkwds\u001b[0m\u001b[0;34m)\u001b[0m\u001b[0;34m\u001b[0m\u001b[0;34m\u001b[0m\u001b[0m\n\u001b[0m\u001b[1;32m   1892\u001b[0m         \u001b[0mself\u001b[0m\u001b[0;34m.\u001b[0m\u001b[0munnamed_cols\u001b[0m \u001b[0;34m=\u001b[0m \u001b[0mself\u001b[0m\u001b[0;34m.\u001b[0m\u001b[0m_reader\u001b[0m\u001b[0;34m.\u001b[0m\u001b[0munnamed_cols\u001b[0m\u001b[0;34m\u001b[0m\u001b[0;34m\u001b[0m\u001b[0m\n\u001b[1;32m   1893\u001b[0m \u001b[0;34m\u001b[0m\u001b[0m\n",
      "\u001b[0;32mpandas/_libs/parsers.pyx\u001b[0m in \u001b[0;36mpandas._libs.parsers.TextReader.__cinit__\u001b[0;34m()\u001b[0m\n",
      "\u001b[0;32mpandas/_libs/parsers.pyx\u001b[0m in \u001b[0;36mpandas._libs.parsers.TextReader._setup_parser_source\u001b[0;34m()\u001b[0m\n",
      "\u001b[0;31mFileNotFoundError\u001b[0m: [Errno 2] File trec2019b_test_results_run_fasttext.csv does not exist: 'trec2019b_test_results_run_fasttext.csv'"
     ]
    }
   ],
   "source": [
    "category_df = pd.read_csv(\"trec2019b_test_results_run_%s.csv\" % run_title, dtype={\n",
    "    \"tweet_id\": np.int64,\n",
    "})\n",
    "priority_df = pd.read_csv(\"trec2019b_test_results_priority_run_%s.csv\" % run_title, dtype={\n",
    "    \"tweet_id\": np.int64,\n",
    "})"
   ]
  },
  {
   "cell_type": "code",
   "execution_count": 5,
   "metadata": {},
   "outputs": [],
   "source": [
    "header_map = {\n",
    "    \"Donations\": \"CallToAction-Donations\",\n",
    "    \"MovePeople\": \"CallToAction-MovePeople\",\n",
    "    \"Volunteer\": \"CallToAction-Volunteer\",\n",
    "    \"Advice\": \"Other-Advice\",\n",
    "    \"ContextualInformation\": \"Other-ContextualInformation\",\n",
    "    \"Discussion\": \"Other-Discussion\",\n",
    "    \"Irrelevant\": \"Other-Irrelevant\",\n",
    "    \"Sentiment\": \"Other-Sentiment\",\n",
    "    \"CleanUp\": \"Report-CleanUp\",\n",
    "    \"EmergingThreats\": \"Report-EmergingThreats\",\n",
    "    \"Factoid\": \"Report-Factoid\",\n",
    "    \"FirstPartyObservation\": \"Report-FirstPartyObservation\",\n",
    "    \"Hashtags\": \"Report-Hashtags\",\n",
    "    \"Location\": \"Report-Location\",\n",
    "    \"MultimediaShare\": \"Report-MultimediaShare\",\n",
    "    \"News\": \"Report-News\",\n",
    "    \"NewSubEvent\": \"Report-NewSubEvent\",\n",
    "    \"Official\": \"Report-Official\",\n",
    "    \"OriginalEvent\": \"Report-OriginalEvent\",\n",
    "    \"ServiceAvailable\": \"Report-ServiceAvailable\",\n",
    "    \"ThirdPartyObservation\": \"Report-ThirdPartyObservation\",\n",
    "    \"Weather\": \"Report-Weather\",\n",
    "    \"GoodsServices\": \"Request-GoodsServices\",\n",
    "    \"InformationWanted\": \"Request-InformationWanted\",\n",
    "    \"SearchAndRescue\": \"Request-SearchAndRescue\",\n",
    "}"
   ]
  },
  {
   "cell_type": "code",
   "execution_count": null,
   "metadata": {},
   "outputs": [],
   "source": []
  },
  {
   "cell_type": "code",
   "execution_count": 6,
   "metadata": {},
   "outputs": [],
   "source": [
    "topic_num_to_id_map = {}\n",
    "\n",
    "with open(\"../data/TRECIS-2019-B-Test.topics\", \"r\") as in_file:\n",
    "    topic_num = \"\"\n",
    "    topic_id = \"\"\n",
    "    \n",
    "    for line in in_file:\n",
    "        \n",
    "        if line.strip() == \"</top>\":\n",
    "            topic_num_to_id_map[topic_id] = topic_num\n",
    "        \n",
    "        if line.startswith(\"<num>\"):\n",
    "            topic_num = line.partition(\">\")[-1].partition(\"<\")[0]\n",
    "              \n",
    "        if line.startswith(\"<dataset>\"):\n",
    "            topic_id = line.partition(\">\")[-1].partition(\"<\")[0]"
   ]
  },
  {
   "cell_type": "code",
   "execution_count": 7,
   "metadata": {},
   "outputs": [
    {
     "data": {
      "text/plain": [
       "{'albertaWildfires2019': 'TRECIS-CTIT-H-Test-029',\n",
       " 'cycloneKenneth2019': 'TRECIS-CTIT-H-Test-030',\n",
       " 'philippinesEarthquake2019': 'TRECIS-CTIT-H-Test-031',\n",
       " 'coloradoStemShooting2019': 'TRECIS-CTIT-H-Test-032',\n",
       " 'southAfricaFloods2019': 'TRECIS-CTIT-H-Test-033',\n",
       " 'sandiegoSynagogueShooting2019': 'TRECIS-CTIT-H-Test-034'}"
      ]
     },
     "execution_count": 7,
     "metadata": {},
     "output_type": "execute_result"
    }
   ],
   "source": [
    "topic_num_to_id_map"
   ]
  },
  {
   "cell_type": "code",
   "execution_count": null,
   "metadata": {},
   "outputs": [],
   "source": []
  },
  {
   "cell_type": "code",
   "execution_count": 8,
   "metadata": {},
   "outputs": [
    {
     "name": "stdout",
     "output_type": "stream",
     "text": [
      "../data/2019/trecis2019-B-test.coloradoStemShooting2019.json.gz\n",
      "../data/2019/trecis2019-B-test.southAfricaFloods2019.json.gz\n",
      "../data/2019/trecis2019-B-test.cycloneKenneth2019.json.gz\n",
      "../data/2019/trecis2019-B-test.philippinesEarthquake2019.json.gz\n",
      "../data/2019/trecis2019-B-test.sandiegoSynagogueShooting2019.json.gz\n",
      "../data/2019/trecis2019-B-test.albertaWildfires2019.json.gz\n"
     ]
    }
   ],
   "source": [
    "tweet_id_to_topic_map = {}\n",
    "tweet_id_to_count_map = {}\n",
    "\n",
    "for file_path in glob.iglob(\"../data/2019/*2019*B-test*.json.gz\"):\n",
    "    print(file_path)\n",
    "    counter = 1\n",
    "    with gzip.open(file_path, \"rb\") as in_file:\n",
    "        for line_ in in_file:\n",
    "            line = line_.decode(\"utf8\")\n",
    "            tweet_entry = json.loads(line)\n",
    "            \n",
    "            tweet_id = np.int64(tweet_entry[\"allProperties\"][\"id\"])\n",
    "            tweet_topic = tweet_entry[\"topic\"]\n",
    "            \n",
    "            if ( '1100409564803956744' == tweet_entry[\"allProperties\"][\"id\"] ):\n",
    "                print(\"Found\")\n",
    "                print(tweet_entry[\"allProperties\"][\"id\"], tweet_id, tweet_entry[\"allProperties\"][\"id\"] == tweet_id)\n",
    "            \n",
    "            tweet_id_to_topic_map[tweet_id] = topic_num_to_id_map[tweet_topic]\n",
    "            tweet_id_to_count_map[tweet_id] = counter\n",
    "            \n",
    "            counter += 1"
   ]
  },
  {
   "cell_type": "code",
   "execution_count": null,
   "metadata": {},
   "outputs": [],
   "source": []
  },
  {
   "cell_type": "code",
   "execution_count": 9,
   "metadata": {},
   "outputs": [
    {
     "data": {
      "text/plain": [
       "(13916, 15000)"
      ]
     },
     "execution_count": 9,
     "metadata": {},
     "output_type": "execute_result"
    }
   ],
   "source": [
    "len(tweet_id_to_count_map), priority_df.shape[0]"
   ]
  },
  {
   "cell_type": "code",
   "execution_count": null,
   "metadata": {},
   "outputs": [],
   "source": []
  },
  {
   "cell_type": "code",
   "execution_count": 10,
   "metadata": {},
   "outputs": [],
   "source": [
    "category_map = {row[\"tweet_id\"]: header_map[row[\"label\"]] for idx, row in category_df.iterrows()}\n",
    "priority_map = {row[\"tweet_id\"]: row[\"priority\"] for idx, row in priority_df.iterrows()}"
   ]
  },
  {
   "cell_type": "code",
   "execution_count": null,
   "metadata": {},
   "outputs": [],
   "source": []
  },
  {
   "cell_type": "code",
   "execution_count": 11,
   "metadata": {},
   "outputs": [],
   "source": [
    "category_df[\"inc_id\"] = category_df[\"tweet_id\"].apply(tweet_id_to_topic_map.get)\n",
    "category_df[\"count\"] = category_df[\"tweet_id\"].apply(tweet_id_to_count_map.get)\n",
    "category_df[\"priority\"] = category_df[\"tweet_id\"].apply(priority_map.get)"
   ]
  },
  {
   "cell_type": "code",
   "execution_count": null,
   "metadata": {},
   "outputs": [],
   "source": []
  },
  {
   "cell_type": "code",
   "execution_count": 12,
   "metadata": {},
   "outputs": [],
   "source": [
    "priority_scorer = {\n",
    "    1 : 0.75,\n",
    "    0 : 0.25\n",
    "}\n",
    "\n",
    "with open(\"nyu-smapp_run_%s.csv\" % run_title, \"w\") as out_file:\n",
    "    for row in category_df.drop_duplicates(subset=\"tweet_id\").itertuples():\n",
    "        content = [\n",
    "            row.inc_id, \n",
    "            \"Q0\", \n",
    "            row.tweet_id,\n",
    "            row.count,\n",
    "            priority_scorer[row.priority],\n",
    "            str([header_map[row.label]]).replace(\"'\", '\"'),\n",
    "            \"nyu-smapp_%s\" % run_title\n",
    "        ]\n",
    "        out_file.write(\"\\t\".join([str(x) for x in content]) + \"\\n\")"
   ]
  },
  {
   "cell_type": "code",
   "execution_count": null,
   "metadata": {},
   "outputs": [],
   "source": []
  }
 ],
 "metadata": {
  "kernelspec": {
   "display_name": "Python 3",
   "language": "python",
   "name": "python3"
  },
  "language_info": {
   "codemirror_mode": {
    "name": "ipython",
    "version": 3
   },
   "file_extension": ".py",
   "mimetype": "text/x-python",
   "name": "python",
   "nbconvert_exporter": "python",
   "pygments_lexer": "ipython3",
   "version": "3.8.3"
  }
 },
 "nbformat": 4,
 "nbformat_minor": 2
}
