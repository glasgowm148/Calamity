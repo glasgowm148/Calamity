{
 "cells": [
  {
   "cell_type": "markdown",
   "metadata": {},
   "source": [
    "#Disaster Detection via Twitter\n",
    "\n",
    "**Final project for General Assembly Data Science course in Austin TX**\n",
    "\n",
    "Ryan B. Jadrich\n",
    "\n",
    "LinkedIn: [https://www.linkedin.com/in/ryan-jadrich-71190b5b](https://www.linkedin.com/in/ryan-jadrich-71190b5b)\n",
    "\n",
    "Email: rjadrich@gmail.com"
   ]
  },
  {
   "cell_type": "markdown",
   "metadata": {},
   "source": [
    "###1. Project summary\n",
    "---\n",
    "**Goal:** Create a predictive model to classify a tweet as pertaining to a disaster event or not, *solely* based on the tweet text.\n",
    "\n",
    "**Data:** 10,876 classified tweet entries in the \"Disasters on Social Media\" data set from CrowdFlower at http://www.crowdflower.com/data-for-everyone. Some examples of disasters include structural collapses, wildfires and terrorist attacks. However, this dataset also encompasses more \"minor\" events such as car accidents, etc. These were compiled by searching for tweets with disaster related keywords (i.e., hijacking, hurricane, and explosion) and then they were classified as \"Relevant\", \"Not Relevant\" or \"Can't Decide\" with \"Relevant\" indicating a disaster.\n",
    "\n",
    "**Auxiliary data:** Pretrained \"Google News\" dataset for word2vec at https://code.google.com/archive/p/word2vec/. This will be used to artificially boost the vocabulary of the model which is somewhat limited due to the smaller size of the tweet data set.\n",
    "\n",
    "**Machine learning tools** \n",
    "\n",
    "1. **Natural Language Toolkit (NLTK)** - For initial preprocessing and tokenization of tweets using the nltk.tokenize package.\n",
    "\n",
    "2. **GENSIM** - For seamless transformation from a high dimensional \"bag of words\" (BOW) feature space to a lower dimensional \"topic\" space (each topic expresses discovered relations amongst the words in the Tweet data set using Latent Semantic Indexing or LSI).\n",
    "\n",
    "3. **Scikit-Learn** - For trivial implementation the final Logistic Regression model which predicts \"disaster\" or \"not disaster\" based on each Tweets \"topic\" representation.\n",
    "\n",
    "**Using the model**: Clone the entire Git repository to your local machine and install any packages not already installed (likely NLTK and GENSIM). All data used by the notebook is included in the repository so, in principle, the notebook should be ready to deploy and improve upon. Please let me know of any major improvements!   :) "
   ]
  },
  {
   "cell_type": "markdown",
   "metadata": {},
   "source": [
    "**All of the required imports**"
   ]
  },
  {
   "cell_type": "code",
   "execution_count": 2,
   "metadata": {
    "collapsed": false
   },
   "outputs": [],
   "source": [
    "import numpy as np\n",
    "import pandas as pd\n",
    "import string\n",
    "from collections import defaultdict\n",
    "from nltk.tokenize import TweetTokenizer\n",
    "from nltk.stem.porter import PorterStemmer\n",
    "from gensim import corpora, models, similarities\n",
    "from sklearn import linear_model\n",
    "from sklearn import cross_validation\n",
    "from sklearn.metrics import roc_curve, auc\n",
    "from sklearn import metrics\n",
    "from scipy import interp\n",
    "import matplotlib.pyplot as plt\n",
    "import HTMLParser\n",
    "import sys\n",
    "import json\n",
    "import tokensplicer\n",
    "from nltk.corpus import brown\n",
    "import re\n",
    "from copy import deepcopy\n",
    "%matplotlib inline "
   ]
  },
  {
   "cell_type": "markdown",
   "metadata": {
    "collapsed": true
   },
   "source": [
    "###2. Check out the data\n",
    "---"
   ]
  },
  {
   "cell_type": "code",
   "execution_count": 2,
   "metadata": {
    "collapsed": false
   },
   "outputs": [
    {
     "name": "stdout",
     "output_type": "stream",
     "text": [
      "Index([u'_unit_id', u'_golden', u'_unit_state', u'_trusted_judgments',\n",
      "       u'_last_judgment_at', u'choose_one', u'choose_one:confidence',\n",
      "       u'choose_one_gold', u'keyword', u'location', u'text', u'tweetid',\n",
      "       u'userid'],\n",
      "      dtype='object')\n"
     ]
    }
   ],
   "source": [
    "df = pd.read_csv(\"data/tweets/disaster-tweets.csv\")\n",
    "print df.columns"
   ]
  },
  {
   "cell_type": "markdown",
   "metadata": {},
   "source": [
    "**What is relevant?**\n",
    "\n",
    "1. **_choose_one** - classification (\"Relevant\", \"Not Relevant\", or \"Can't Decide\")\n",
    "\n",
    "2. **_choose_one_confidence** - the certainty of the final classification\n",
    "\n",
    "3. **_text** - this is the actual tweet text\n",
    "\n",
    "**Other, somewhat, relevant details**\n",
    "\n",
    "1. **_golden** - \"TRUE\" or \"FALSE\" to indicate if the assigned classification is at the \"golden\" level, meaning hundreds of people voted on the classification. If not, five to six people voted on the classification. This is really supposed to be used as a final test set, but I don't do this.\n",
    "\n",
    "2. **_unit_state** - indicates if the judgement on classifying the tweets is \"finalized\", \"golden\" (this is like super finalized) or \"not finalized\". All tweets are either \"finalized\" or \"golden\".\n",
    "\n",
    "3. **keyword** - while not studied here, understanding what keywords are faithful indicators of disaster could be useful and improve model performance.\n",
    "\n",
    "There are 10,876 total tweets with a fairly even representation of both \"Relevant\" and \"Not Relevant\" classes. Very few are labeled as \"Can't Decide\" and they will not be relevant to the binary model developed (discussed below)."
   ]
  },
  {
   "cell_type": "markdown",
   "metadata": {},
   "source": [
    "**Only keep the columns relevant to this work**"
   ]
  },
  {
   "cell_type": "code",
   "execution_count": 3,
   "metadata": {
    "collapsed": true
   },
   "outputs": [],
   "source": [
    "df = df[[\"choose_one\", \"text\", \"choose_one:confidence\"]]"
   ]
  },
  {
   "cell_type": "markdown",
   "metadata": {},
   "source": [
    "**Check for any duplicate tweets and keep only one of the instances**"
   ]
  },
  {
   "cell_type": "code",
   "execution_count": 4,
   "metadata": {
    "collapsed": false
   },
   "outputs": [
    {
     "name": "stdout",
     "output_type": "stream",
     "text": [
      "Total tweets: 10876\n",
      "Total unique tweets: 10678\n"
     ]
    },
    {
     "name": "stderr",
     "output_type": "stream",
     "text": [
      "C:\\Users\\rbj428\\AppData\\Local\\Continuum\\Anaconda2\\lib\\site-packages\\pandas\\util\\decorators.py:81: FutureWarning: the 'cols' keyword is deprecated, use 'subset' instead\n",
      "  warnings.warn(msg, FutureWarning)\n"
     ]
    }
   ],
   "source": [
    "print \"Total tweets: %d\" % len(df)\n",
    "df = df.drop_duplicates(cols = [\"text\"]).reset_index() #this also resets the index otherwise the numbers will have gaps\n",
    "print \"Total unique tweets: %d\" % len(df)"
   ]
  },
  {
   "cell_type": "markdown",
   "metadata": {},
   "source": [
    "Indeed, there were a bunch of duplicates! This may be due to re-tweeting CrowdFlower not carefully checking for identical text."
   ]
  },
  {
   "cell_type": "markdown",
   "metadata": {
    "collapsed": true
   },
   "source": [
    "###3. Clean and tokenize all the tweets\n",
    "---\n",
    "1. Convert hyphens and apostrophes from utf8 to ascii\n",
    "2. Remove all remaining utf8 characters\n",
    "3. Clean any HTML tags using HTMLParser module\n",
    "4. Break on hyphens\n",
    "5. Employ NLTK for initial tweet tokenization\n",
    "  * Keep handles (no username) and hashtags (with text) and reduce length (e.g., looooooovvvvveeee to looovvveee)\n",
    "6. Split up hastag text using **new** token splitter functionality\n",
    "7. Replace the top 90% (http://www.datagenetics.com/blog/october52012/index.html) of emoticons with **|-happy-|**, **|-sad-|** or **|-inert-|** tokens\n",
    "7. Introduce special tokens\n",
    "  * **|-num-|** for numbers (detect comma separation as in 1,000,000)\n",
    "  * **|-num_alpha-|** for mixed numerical and alphabetical (maybe useful for interstates, planes, trains, ...) \n",
    "    * Make sure not to convert handles! These are typically mixed numeric and alphabetic\n",
    "  * **|-num_units-|** for zero, one, ..., ten\n",
    "  * **|-num_tens-|** for ten, twenty, ..., ninety\n",
    "  * **|-num_scales-|** for hundred, thousand, ..., billion\n",
    "  * **|-website-|** for any hyperlinks\n",
    "9. Stem words using NLTK Porter stemmer (e.g., fires becomes fire)\n",
    "\n",
    "**NOTE:** stop words (i.e., high frequency words like \"and\") are not removed as is commonly done in natural language processing tasks. Interestingly, keeping them helps improve the final model performance--perhaps by allowing for better word-word relations to be encoded in the discovered \"topics\"."
   ]
  },
  {
   "cell_type": "markdown",
   "metadata": {},
   "source": [
    "**Assortment of function definitions for cleaning and tokenizing**"
   ]
  },
  {
   "cell_type": "code",
   "execution_count": 5,
   "metadata": {
    "collapsed": true
   },
   "outputs": [],
   "source": [
    "#initialize splitter\n",
    "split = tokensplicer.Token_Splicer()\n",
    "\n",
    "#make a modified brown corpus and train the model\n",
    "modified_brown = [word.lower() for word in brown.words() \n",
    "                  if (len(word) > 2 or word.lower() \n",
    "                      in (\"a i an as at be bi by do he hi if in is it \" +\n",
    "                      \"me my no of or on so to up us we\").split(\" \"))]\n",
    "\n",
    "#initialize the splitter\n",
    "split.make_freq(modified_brown)\n",
    "\n",
    "\n",
    "#go through and find all utf8 hyphens and apostrophes and convert to ascii\n",
    "def utf8_to_ascii(tweet):\n",
    "    utf8_hyphens = \"\\xe2\\x80\\x90 \\xe2\\x80\\x91 \\xe2\\x80\\x92 \\xe2\\x80\\x93 \\xe2\\x80\\x94\".split()\n",
    "    utf8_aposts = \"\\xe2\\x80\\x98 \\xe2\\x80\\x99 \\xe2\\x80\\x9b \\xe2\\x80\\xb2 \\xe2\\x80\\xb5\".split()\n",
    "    return_tweet = tweet\n",
    "    for utf8_hyphen in utf8_hyphens:\n",
    "        return_tweet = return_tweet.replace(utf8_hyphen,\"-\")\n",
    "    for utf8_apost in utf8_aposts:\n",
    "        return_tweet = return_tweet.replace(utf8_apost,\"'\")\n",
    "    return return_tweet\n",
    "\n",
    "#breaks up tags using new \"advanced\" parser\n",
    "def break_tag(tag):\n",
    "    return split.max_prob_split([tag.lower()], 5)\n",
    "\n",
    "#function to break up any tags or handles into words if in a normal format\n",
    "#clean up hash tags which can contain useful information\n",
    "def clean_tags(split_tweet):\n",
    "    split_tweet_return = []\n",
    "    for entry in split_tweet:\n",
    "        if (entry[0] == \"@\" and len(entry) > 1):\n",
    "            split_tweet_return.append(\"@\")\n",
    "            #split_tweet_return.append(entry[1:])\n",
    "            for tag_comp in break_tag(entry[1:]):\n",
    "                split_tweet_return.append(tag_comp)\n",
    "        elif (entry[0] == \"#\" and len(entry) > 1):\n",
    "            split_tweet_return.append(\"#\")\n",
    "            for tag_comp in break_tag(entry[1:]):\n",
    "                split_tweet_return.append(tag_comp)\n",
    "        else:\n",
    "            split_tweet_return.append(entry)\n",
    "    return split_tweet_return\n",
    "\n",
    "\n",
    "###########################################################################################################\n",
    "\n",
    "#go through and label any numeric entries as a special numeric token\n",
    "def num_token(split_tweet):\n",
    "    num = \"0 1 2 3 4 5 6 7 8 9 ,\".split()\n",
    "    split_tweet_return = []\n",
    "    for entry in split_tweet:\n",
    "        if entry == \",\":\n",
    "            split_tweet_return.append(entry)\n",
    "        else:\n",
    "            is_other = False\n",
    "            for char in entry:\n",
    "                if char not in num:\n",
    "                    is_other = True\n",
    "                    break\n",
    "            if is_other:\n",
    "                split_tweet_return.append(entry) \n",
    "            else:\n",
    "                split_tweet_return.append(\"|-num-|\")\n",
    "    return split_tweet_return\n",
    "\n",
    "#go through and label any mixed number and letter entries as a special numalpha token\n",
    "#make sure that this does not label anything as num_alpha that came from a handle (which is common)\n",
    "def num_alpha_token(split_tweet):\n",
    "    num = \"0 1 2 3 4 5 6 7 8 9\".split()\n",
    "    alpha = \"a b c d e f g h i j k l m n o p q r s t u v w x y z\".split()\n",
    "    split_tweet_return = []\n",
    "    prior_entry = \"\"\n",
    "    for entry in split_tweet:\n",
    "        has_num = False\n",
    "        has_alpha = False\n",
    "        has_other = False\n",
    "        for char in entry:\n",
    "            if char in num:\n",
    "                has_num = True\n",
    "            elif char in alpha:\n",
    "                has_alpha = True\n",
    "            else:\n",
    "                has_other = True     \n",
    "        if (has_num and has_alpha and not has_other and (prior_entry != \"@\")):\n",
    "            split_tweet_return.append(\"|-num_alpha-|\")\n",
    "        else:\n",
    "            split_tweet_return.append(entry) \n",
    "        prior_entry = entry[:]\n",
    "    return split_tweet_return\n",
    "\n",
    "#go through and label any numeric words with special tokens\n",
    "def word_num_token(split_tweet):\n",
    "    units = [\n",
    "        \"zero\", \"one\", \"two\", \"three\", \"four\", \"five\", \"six\", \"seven\", \"eight\",\n",
    "        \"nine\", \"ten\", \"eleven\", \"twelve\", \"thirteen\", \"fourteen\", \"fifteen\",\n",
    "        \"sixteen\", \"seventeen\", \"eighteen\", \"nineteen\"]\n",
    "    tens = [\"twenty\", \"thirty\", \"forty\", \"fifty\", \"sixty\", \"seventy\", \"eighty\", \"ninety\"]\n",
    "    scales = [\"hundred\", \"thousand\", \"million\", \"billion\", \"trillion\"]\n",
    "    split_tweet_return = []\n",
    "    for entry in split_tweet:\n",
    "        if entry in units:\n",
    "            split_tweet_return.append(\"|-num_units-|\")\n",
    "        elif entry in tens:\n",
    "            split_tweet_return.append(\"|-num_tens-|\")\n",
    "        elif entry in scales:\n",
    "            split_tweet_return.append(\"|-num_scales-|\")\n",
    "        else:\n",
    "            split_tweet_return.append(entry)\n",
    "    return split_tweet_return\n",
    "\n",
    "#tokenize a web address if present\n",
    "def website_tokenize(split_tweet):\n",
    "    split_tweet_return = []\n",
    "    for entry in split_tweet:\n",
    "        if entry[0:4] == \"http\":\n",
    "            split_tweet_return.append(\"|-website-|\")\n",
    "        else:\n",
    "            split_tweet_return.append(entry)\n",
    "    return split_tweet_return\n",
    "\n",
    "\n",
    "\n",
    "#########################################################################################################\n",
    "\n",
    "\n",
    "#classify the top 90% emoticons into three major categories\n",
    "def classify_emoticons(split_tweet):\n",
    "    #these features make up most smileys which is ~90% of all emoticons\n",
    "    happy = \":) :D ;) :-) =) (: ;-) XD =D :P =] D: ;D :]\".split(\" \")\n",
    "    sad = \":( :-( =(\".split(\" \")\n",
    "    inert = \":/ :o =/\".split(\" \")\n",
    "    \n",
    "    return_split_tweet = []\n",
    "    \n",
    "    for entry in split_tweet:\n",
    "        if entry in happy:\n",
    "            return_split_tweet.append(\"|-happy-|\")\n",
    "        elif entry in sad:\n",
    "            return_split_tweet.append(\"|-sad-|\")\n",
    "        elif entry in inert:\n",
    "            return_split_tweet.append(\"|-inert-|\")\n",
    "        else:\n",
    "            return_split_tweet.append(entry)\n",
    "\n",
    "    return return_split_tweet"
   ]
  },
  {
   "cell_type": "markdown",
   "metadata": {},
   "source": [
    "**Pipeline for performing the full tokenizaton**"
   ]
  },
  {
   "cell_type": "code",
   "execution_count": null,
   "metadata": {
    "collapsed": true
   },
   "outputs": [],
   "source": [
    "def tweet_to_tokens(tweet):"
   ]
  },
  {
   "cell_type": "markdown",
   "metadata": {},
   "source": [
    "**Function to use the various cleaning functions**\n",
    "\n",
    "This is just the coded up version of the cleaning and tokenization scheme outlined above."
   ]
  },
  {
   "cell_type": "code",
   "execution_count": 6,
   "metadata": {
    "collapsed": true
   },
   "outputs": [],
   "source": [
    "#function to clean and tokenize the tweets all in one fell swoop\n",
    "#needed function definitions are defined immediately above\n",
    "def clean_and_tokenize(df):\n",
    "    #convert some common utf8 hyphen and apostrophe symbols to ascii \n",
    "    df[\"text\"] = df[\"text\"].apply(utf8_to_ascii)\n",
    "    #go through and convert or remove any remaining utf8 characters\n",
    "    df[\"text\"] = df[\"text\"].apply(lambda(tweet): tweet.decode(\"utf8\").encode('ascii',  errors='ignore'))\n",
    "    #clean up any html tags\n",
    "    html_parser = HTMLParser.HTMLParser()\n",
    "    df[\"text\"] = df[\"text\"].apply(html_parser.unescape)\n",
    "    #split text on hyphenations\n",
    "    df[\"text\"] = df[\"text\"].apply(lambda(tweet): tweet.replace(\"-\", \" \"))\n",
    "    #start out tokenization using NLTK casual twitter token (store in text_tokenized)\n",
    "    tknzr = TweetTokenizer(strip_handles=False, reduce_len=True)\n",
    "    df[\"text_tokenized\"] = df[\"text\"].apply(tknzr.tokenize)\n",
    "    #split up the tags\n",
    "    df[\"text_tokenized\"] = df[\"text_tokenized\"].apply(clean_tags)    \n",
    "    #group emoticons\n",
    "    df[\"text_tokenized\"] = df[\"text_tokenized\"].apply(classify_emoticons)\n",
    "    #lowercase everything\n",
    "    df[\"text_tokenized\"] = df[\"text_tokenized\"].apply(lambda(split_tweet): [entry.lower() for entry in split_tweet])\n",
    "    #tokenize numbers \n",
    "    df[\"text_tokenized\"] = df[\"text_tokenized\"].apply(num_token)\n",
    "    #tokenize mixed alphabetical and numeric entries\n",
    "    df[\"text_tokenized\"] = df[\"text_tokenized\"].apply(num_alpha_token)\n",
    "    #tokenize any words that are numbers into base units, tens, and scales\n",
    "    df[\"text_tokenized\"] = df[\"text_tokenized\"].apply(word_num_token)\n",
    "    #tokenize website links\n",
    "    df[\"text_tokenized\"] = df[\"text_tokenized\"].apply(website_tokenize)\n",
    "    #actually modify the emojis\n",
    "    #df[\"text_tokenized\"] = df[\"text_tokenized\"].apply(downgrade_emoji)\n",
    "    #go through and stem everything using the Porter Stemmer\n",
    "    st = PorterStemmer()\n",
    "    df[\"text_tokenized_stemmed\"] = df[\"text_tokenized\"].apply(lambda(split_tweet): [st.stem(entry) for entry in split_tweet])\n",
    "    #send back the modified dataframe    \n",
    "    return df"
   ]
  },
  {
   "cell_type": "markdown",
   "metadata": {},
   "source": [
    "**Clean and tokenize the tweets**"
   ]
  },
  {
   "cell_type": "code",
   "execution_count": 7,
   "metadata": {
    "collapsed": false
   },
   "outputs": [],
   "source": [
    "df = clean_and_tokenize(df)"
   ]
  },
  {
   "cell_type": "markdown",
   "metadata": {},
   "source": [
    "**Comparison of some raw and tokenized tweets**"
   ]
  },
  {
   "cell_type": "code",
   "execution_count": 8,
   "metadata": {
    "collapsed": false,
    "scrolled": true
   },
   "outputs": [
    {
     "name": "stdout",
     "output_type": "stream",
     "text": [
      "Original:\n",
      "'She tasted like a feast after a famine. And he was starving.' TRUSTING JACK @writes4coffee http://t.co/sTo58qa94c #IARTG #RWA #tw4rw #RRBC\n",
      "\n",
      "Tokenized:\n",
      "[u\"'\", u'she', u'tast', u'like', u'a', u'feast', u'after', u'a', u'famin', u'.', u'and', u'he', u'wa', u'starv', u'.', u\"'\", u'trust', u'jack', u'@', u'write', u'of', u'fee', u'|-num_alpha-|', u'|-website-|', u'#', u'i', u'a', u'rtg', u'#', u'a', u'rw', u'#', u'|-num_alpha-|', u'#', u'rrbc']\n"
     ]
    }
   ],
   "source": [
    "tweet_num = 5000 #5000\n",
    "print \"Original:\"\n",
    "print df[\"text\"][tweet_num] + \"\\n\"\n",
    "print \"Tokenized:\"\n",
    "print df[\"text_tokenized_stemmed\"][tweet_num]"
   ]
  },
  {
   "cell_type": "code",
   "execution_count": 10,
   "metadata": {
    "collapsed": false
   },
   "outputs": [
    {
     "name": "stdout",
     "output_type": "stream",
     "text": [
      "Original:\n",
      "Bloor/Ossington arsonist also burned a mattress on Northumberland St #cbcto http://t.co/wpDvT31sne\n",
      "\n",
      "Tokenized:\n",
      "[u'bloor', u'/', u'ossington', u'arsonist', u'also', u'burn', u'a', u'mattress', u'on', u'northumberland', u'st', u'#', u'to', u'cbc', u'|-website-|']\n"
     ]
    }
   ],
   "source": [
    "tweet_num = 600\n",
    "print \"Original:\"\n",
    "print df[\"text\"][tweet_num] + \"\\n\"\n",
    "print \"Tokenized:\"\n",
    "print df[\"text_tokenized_stemmed\"][tweet_num]"
   ]
  },
  {
   "cell_type": "markdown",
   "metadata": {},
   "source": [
    "###4. Mapping low frequency words onto high frequency analogs\n",
    "---\n",
    "**Low frequency words**: occur *once* in the whole cleaned and tokenized tweet data set.\n",
    "\n",
    "**High frequency words**: occur greater than *once* in the whole cleaned and tokenized tweet data set.\n",
    "\n",
    "**NOTE**: low frequency words also encompass those with no occurrence (as in a new tweet outside of the dataset). Word2vec would be used to map in that case as well.\n",
    "\n",
    "For this I employ the pre-trained word2vec vectors from the Google News dataset. Word2vec is an unsupervised machine learning tool that creates vector representations of words by analyzing a large text corpus (here, Google News). Importantly, the similarity between two words can be quantified by the angle (theta in cartoon below) between the two word vectors.\n",
    "\n",
    "Mapping a low frequency *stemmed* token via word2vec amounts to finding the most similar high frequency *stemmed* token by comparing all base *unstemmed* words. This procedure is depicted in the following cartoon where arrows represent a mapping and some actual examples (from mapping procedure carried out below) are shown.\n",
    "\n",
    "![mapping_visual2](data/images/mapping_procedure-adv_parse.png)"
   ]
  },
  {
   "cell_type": "markdown",
   "metadata": {},
   "source": [
    "**Load in the pre-trained Google News word vectors**\n",
    "\n",
    "If cloning this repository, download file \"GoogleNews-vectors-negative300.bin.gz\" from https://drive.google.com/file/d/0B7XkCwpI5KDYNlNUTTlSS21pQmM/edit?usp=sharing and place in the \"data\" folder. It is not included due to its large size.\n",
    "\n",
    "**NOTE**: loading this will eat up a lot of RAM"
   ]
  },
  {
   "cell_type": "code",
   "execution_count": 11,
   "metadata": {
    "collapsed": false
   },
   "outputs": [],
   "source": [
    "w2v_model = models.word2vec.Word2Vec.load_word2vec_format('data/trained_google_vectors/GoogleNews-vectors-negative300.bin.gz', binary=True)"
   ]
  },
  {
   "cell_type": "markdown",
   "metadata": {},
   "source": [
    "**Functions to perform the similarity mapping**"
   ]
  },
  {
   "cell_type": "code",
   "execution_count": 12,
   "metadata": {
    "collapsed": false
   },
   "outputs": [],
   "source": [
    "#create the actual mapping dictionary for the low frequency words\n",
    "def create_low_2_high_map(stem_map_low, stem_map_high):\n",
    "    #loop over the low stemmed tokens and find a mapping to a high for each\n",
    "    print \"Creating low-to-high frequency token mapping via word2vec:\"\n",
    "    print \"Number of low frequency tokens to map: %d\" % len(stem_map_low)\n",
    "    print \"Number of high frequency tokens to choose from: %d\" % len(stem_map_high)\n",
    "    iteration = 0\n",
    "    low_2_high_map = {}\n",
    "    for low_token_stemmed in stem_map_low:\n",
    "        sys.stdout.write('\\r' + \"Mapping token number =  \" + (\"%d\" % iteration))\n",
    "        low_token = stem_map_low[low_token_stemmed][0] #only one entry for each low token\n",
    "        #find the most similar high stemmed token\n",
    "        max_similarity = 0.0\n",
    "        max_high_token_stemmed = \"\"\n",
    "        for high_token_stemmed in stem_map_high:\n",
    "            for high_token in stem_map_high[high_token_stemmed]:\n",
    "                try:\n",
    "                    similarity_1 = w2v_model.similarity(low_token, high_token)\n",
    "                except:\n",
    "                    similarity_1 = -1.0    \n",
    "                try:\n",
    "                    similarity_2 = w2v_model.similarity(low_token.title(), high_token)\n",
    "                except:\n",
    "                    similarity_2 = -1.0      \n",
    "                try:\n",
    "                    similarity_3 = w2v_model.similarity(low_token, high_token.title())\n",
    "                except:\n",
    "                    similarity_3 = -1.0      \n",
    "                try:\n",
    "                    similarity_4 = w2v_model.similarity(low_token.title(), high_token.title())\n",
    "                except:\n",
    "                    similarity_4 = -1.0\n",
    "                \n",
    "                similarity = max([similarity_1, similarity_2, similarity_3, similarity_4])\n",
    "                    \n",
    "                if similarity > max_similarity:\n",
    "                    max_similarity = similarity\n",
    "                    max_high_token_stemmed = high_token_stemmed\n",
    "                    \n",
    "        if max_high_token_stemmed:\n",
    "            low_2_high_map[low_token_stemmed] = max_high_token_stemmed\n",
    "        else:\n",
    "            low_2_high_map[low_token_stemmed] = \"|-no_w2v-|\"\n",
    "        iteration = iteration + 1  \n",
    "    return low_2_high_map\n",
    "\n",
    "#removes doubles of a any token entry\n",
    "def remove_clones(token_list):\n",
    "    token_list_cleaned = []\n",
    "    for token in token_list:\n",
    "        if token not in token_list_cleaned:\n",
    "            token_list_cleaned.append(token)\n",
    "    return token_list_cleaned\n",
    "\n",
    "#initialize the mapping of low frequency words onto high frequency words\n",
    "def create_token_mappings(df):\n",
    "    #create a stemmed word to full word map to use with word2vec\n",
    "    #make sure to only use words for the mapping so check if only alphabetical characters\n",
    "    print \"Creating fundamental token map\"\n",
    "    st = PorterStemmer() \n",
    "    texts = df[\"text_tokenized\"]\n",
    "    stem_map = {}\n",
    "    for text in texts:\n",
    "        for token in text:\n",
    "            if is_word(token):\n",
    "                token_stemmed = st.stem(token)\n",
    "                if token_stemmed in stem_map:\n",
    "                    stem_map[token_stemmed].append(token)\n",
    "                else:\n",
    "                    stem_map[token_stemmed] = [token]\n",
    "                                   \n",
    "    #create separate high frequency (>1 occurence) and low frequency (=1) stemmmed-unstemmed maps\n",
    "    print \"Separating into high and low frequency maps\"\n",
    "    stem_map_high = {}\n",
    "    stem_map_low = {}\n",
    "    for token_stemmed in stem_map:\n",
    "        token_list = stem_map[token_stemmed] \n",
    "        if len(token_list) > 1:\n",
    "            stem_map_high[token_stemmed] = remove_clones(token_list)\n",
    "        else:\n",
    "            stem_map_low[token_stemmed] = token_list\n",
    "    \n",
    "    #create a mapping from the low stems to a suitable high stem using word2vec to calculate similarities\n",
    "    #between the underlying unstemmed words contained in each \n",
    "    low_2_high_map = create_low_2_high_map(stem_map_low, stem_map_high)\n",
    "    \n",
    "    return (stem_map_high, stem_map_low, low_2_high_map)\n",
    "\n",
    "#this actually loops through and replaces all of the low frequency stemmed tokens with the high frequency analogs\n",
    "def map_low_frequency_tokens(split_tweet, low_2_high_map):\n",
    "    split_tweet_return = []\n",
    "    for token_stemmed in split_tweet:\n",
    "        if token_stemmed in low_2_high_map:\n",
    "            split_tweet_return.append(low_2_high_map[token_stemmed])\n",
    "        else:\n",
    "            split_tweet_return.append(token_stemmed)\n",
    "    return split_tweet_return\n",
    "\n",
    "#checks of a token is likely a word\n",
    "def is_word(token):\n",
    "    alpha = \"a b c d e f g h i j k l m n o p q r s t u v w x y z\".split()\n",
    "    for char in token:\n",
    "        if ((char not in alpha) and (char != \"'\")):\n",
    "            return False\n",
    "    return True"
   ]
  },
  {
   "cell_type": "markdown",
   "metadata": {},
   "source": [
    "**Create low-to-high stemmed word token mappings**\n",
    "\n",
    "**NOTE**: if this notebook has been cloned from the GitHub repository, these mappings will already be included and can be read in in directly instead. In this case, do not execute the following code box."
   ]
  },
  {
   "cell_type": "code",
   "execution_count": 13,
   "metadata": {
    "collapsed": false
   },
   "outputs": [
    {
     "name": "stdout",
     "output_type": "stream",
     "text": [
      "Creating fundamental token map\n",
      "Separating into high and low frequency maps\n",
      "Creating low-to-high frequency token mapping via word2vec:\n",
      "Number of low frequency tokens to map: 7530\n",
      "Number of high frequency tokens to choose from: 6780\n",
      "Mapping token number =  7529"
     ]
    }
   ],
   "source": [
    "#make the mapping for low frequecy words and write to a json file for safe keeping\n",
    "stem_map_high, stem_map_low, low_2_high_map = create_token_mappings(df[[\"text_tokenized\",\"text_tokenized_stemmed\"]])\n",
    "with open('data/word_2_vec_token_mappings/low_2_high_map-adv_parse.json', 'w') as fp:\n",
    "    json.dump(low_2_high_map, fp)\n",
    "with open('data/word_2_vec_token_mappings/stem_map_high-adv_parse.json', 'w') as fp:\n",
    "    json.dump(stem_map_high, fp)\n",
    "with open('data/word_2_vec_token_mappings/stem_map_low-adv_parse.json', 'w') as fp:\n",
    "    json.dump(stem_map_low, fp)"
   ]
  },
  {
   "cell_type": "markdown",
   "metadata": {},
   "source": [
    "**Read in low-to-high stemmed word token mappings from file**"
   ]
  },
  {
   "cell_type": "code",
   "execution_count": 3,
   "metadata": {
    "collapsed": false
   },
   "outputs": [],
   "source": [
    "#load in the stored low_2_high_map\n",
    "stem_map_high = json.load(open('data/word_2_vec_token_mappings/stem_map_high-adv_parse.json'))\n",
    "stem_map_low = json.load(open('data/word_2_vec_token_mappings/stem_map_low-adv_parse.json'))\n",
    "low_2_high_map = json.load(open('data/word_2_vec_token_mappings/low_2_high_map-adv_parse.json'))"
   ]
  },
  {
   "cell_type": "markdown",
   "metadata": {},
   "source": [
    "**Example mapping**"
   ]
  },
  {
   "cell_type": "code",
   "execution_count": 14,
   "metadata": {
    "collapsed": false
   },
   "outputs": [
    {
     "name": "stdout",
     "output_type": "stream",
     "text": [
      "[u'judicial']\n"
     ]
    }
   ],
   "source": [
    "print stem_map_low[\"judici\"]"
   ]
  },
  {
   "cell_type": "code",
   "execution_count": 15,
   "metadata": {
    "collapsed": false
   },
   "outputs": [
    {
     "name": "stdout",
     "output_type": "stream",
     "text": [
      "administr\n"
     ]
    }
   ],
   "source": [
    "print low_2_high_map[\"judici\"]"
   ]
  },
  {
   "cell_type": "code",
   "execution_count": 16,
   "metadata": {
    "collapsed": false
   },
   "outputs": [
    {
     "name": "stdout",
     "output_type": "stream",
     "text": [
      "[u'administrative', u'administration', u'administrator']\n"
     ]
    }
   ],
   "source": [
    "print stem_map_high[\"administr\"]"
   ]
  },
  {
   "cell_type": "markdown",
   "metadata": {},
   "source": [
    "**Perform the word2vec mapping**"
   ]
  },
  {
   "cell_type": "code",
   "execution_count": 17,
   "metadata": {
    "collapsed": false
   },
   "outputs": [],
   "source": [
    "#create a new column of tweets that are now mapped according to word2vec\n",
    "df[\"text_tokenized_stemmed_w2v\"] = df[\"text_tokenized_stemmed\"].apply(lambda x: map_low_frequency_tokens(x, low_2_high_map))"
   ]
  },
  {
   "cell_type": "code",
   "execution_count": 18,
   "metadata": {
    "collapsed": false
   },
   "outputs": [
    {
     "name": "stdout",
     "output_type": "stream",
     "text": [
      "Fraction of tweets mapped: 0.433508\n"
     ]
    }
   ],
   "source": [
    "#amount of tweets where words have been mapped\n",
    "print \"Fraction of tweets mapped: %f\" % (float(len(df[df['text_tokenized_stemmed'] != df['text_tokenized_stemmed_w2v']])) / float(len(df)))"
   ]
  },
  {
   "cell_type": "markdown",
   "metadata": {},
   "source": [
    "###5. Converting tweets into features for modeling\n",
    "---\n",
    "\n",
    "**Some useful definitions:**\n",
    "1. **Bag of words (BOW)**:  this is a vector representation of the form [1,0,0,2,4,0,...,0] where each dimension denotes a particular word and the number specifies how many times that word appears in a particular document (tweet in this case). There is a dimension for every word that appears at least twice (in this case) in the whole \"corpus\" of tweets (this is our \"dictionary\"). Since tweets are short the vectors are very sparse (mostly full of 0's). Please see https://en.wikipedia.org/wiki/Bag-of-words_model for more details.\n",
    "2. **Term frequency–inverse document frequency (TFIDF)**: rescaled BOW vectors where each word count is penalized (shrunk) in accord with how many of the documents contains the word--effectively adjusting the word counts for how unique each word is. For example, \"and\" will be heavily penalized, reflecting low information content and common usage. Since this is just a rescaling of each BOW element the new vectors are of the same *high* dimensionality. Please see https://en.wikipedia.org/wiki/Tf%E2%80%93idf for more details.\n",
    "3. **Latent semantic indexing (LSI)**: through a standard mathematical scheme from linear algebra--singular value decomposition (SVD--the TFIDF vectors are mapped onto a user specified, smaller dimensional space where the new dimensions are linear combinations of the old TFIDF dimensions. These new dimensions (commonly called \"topics\") are constructed so that they describe as much variance in the data as possible with rapidly diminishing returns for each new dimension. The outcome is a much more compact vectorial representation of each tweet. Please see for https://en.wikipedia.org/wiki/Latent_semantic_analysis more details.\n",
    "\n",
    "**Workflow**\n",
    "1. Create a dictionary and corpus\n",
    "  * Dictionary: use words from all of the tweets for more tokens\n",
    "  * Corpus: composed of the tweets with the greatest certainty in their classification. Convert to a BOW representation using the dictionary and then to a TFIDF analog.\n",
    "2. Create LSI features data frame of desired dimensionality from the dictionary and TFIDF tweet corpus (the dictionary just relates the new features to the actual words and is not really part of the dimensionality reduction)"
   ]
  },
  {
   "cell_type": "markdown",
   "metadata": {},
   "source": [
    "**Functions to create the dictionary, corpus and LSI features data frame**"
   ]
  },
  {
   "cell_type": "code",
   "execution_count": 19,
   "metadata": {
    "collapsed": true
   },
   "outputs": [],
   "source": [
    "#makes the gensim dictionary and corpus\n",
    "def make_dictionary_and_corpus(df_dictionary, df_corpus):\n",
    "    #the tokenized and stemmed data form our texts database \n",
    "    texts = df_dictionary\n",
    "    \n",
    "    #check how frequently a given word appears and remove it if only one occurrence\n",
    "    frequency = defaultdict(int)\n",
    "    for text in texts:\n",
    "        for token in text:\n",
    "            frequency[token] += 1\n",
    "    texts = [[token for token in text if frequency[token] > 1] for text in texts]\n",
    "    \n",
    "    #create a gensim dictionary\n",
    "    dictionary = corpora.Dictionary(texts)\n",
    "    \n",
    "    #create a new texts of only the ones I will analyze\n",
    "    texts = df_corpus    \n",
    "    \n",
    "    #create the bag of words corpus\n",
    "    corpus = [dictionary.doc2bow(text) for text in texts]\n",
    "    #corpus = [token_word2vec_map(text, frequency) for text in texts]\n",
    "    \n",
    "    #create a tfidf wrapper and convert the corpus to a tfidf format\n",
    "    tfidf = models.TfidfModel(corpus)\n",
    "    corpus_tfidf = tfidf[corpus]\n",
    "    \n",
    "    #return a tuple with the dictionary and corpus\n",
    "    return (dictionary, corpus_tfidf, corpus)\n",
    "\n",
    "#clean the features for use in dataframe\n",
    "def remove_doc_label(doc):\n",
    "    cleaned_doc = []\n",
    "    for element in doc:\n",
    "        cleaned_doc.append(element[1])\n",
    "    return cleaned_doc\n",
    "\n",
    "#takes as input the tweet dataframe, dictionary, corpus and dimensions for the tweets and returns \n",
    "#a new dataframe with each tweet characterized by the new lower dimensional features\n",
    "#also returns the topics if desired\n",
    "def latent_semantic_analysis(df, dictionary, corpus_tfidf, dimensions, return_topics = False, n_topics = 10, n_words = 10):\n",
    "    #create a lsi wrapper around the tfidf wrapper\n",
    "    lsi = models.LsiModel(corpus_tfidf, id2word=dictionary, num_topics=dimensions, power_iters=5)\n",
    "    corpus_lsi = lsi[corpus_tfidf]\n",
    "    \n",
    "    #create the features for a new dataframe\n",
    "    features = []\n",
    "    for doc in corpus_lsi:\n",
    "        features.append(remove_doc_label(doc))\n",
    "        \n",
    "    #create a new dataframe with the features\n",
    "    df_features = pd.DataFrame(data = features)\n",
    "    \n",
    "    #create a merged dataframe from the input (the indicies should match since I reset them earlier on)\n",
    "    df_merged = pd.concat([df[\"choose_one\"], df_features], axis=1)\n",
    "    \n",
    "    #return the new features dataframe devoid of columns that contain nothing\n",
    "    if return_topics:\n",
    "        return (df_merged.fillna(0), lsi.print_topics(n_topics, num_words = n_words))\n",
    "    else:\n",
    "        return df_merged.fillna(0)"
   ]
  },
  {
   "cell_type": "markdown",
   "metadata": {},
   "source": [
    "**Create data frames for constructing the dictionary and corpus**\n",
    "\n",
    "**Dictionary**: use all the tweets to get maximal word recognition, thus maximizing generalizability to new tweets. Tokens that appear only once are excluded.\n",
    "\n",
    "**Corpus**: only employ tweets of 100% confidence in classification to ensure the reliability of the predictive model. Some of the tweets with less than 100% appeared incorrectly labeled upon personal inspection."
   ]
  },
  {
   "cell_type": "code",
   "execution_count": 20,
   "metadata": {
    "collapsed": true
   },
   "outputs": [],
   "source": [
    "#create separate full and dictionary dataframes\n",
    "df_full = df[[\"choose_one\",\"text_tokenized_stemmed\",\"text_tokenized_stemmed_w2v\"]]\n",
    "df_filtered = df[[\"choose_one\",\"text_tokenized_stemmed\",\"text_tokenized_stemmed_w2v\"]][df[\"choose_one:confidence\"] == 1].reset_index()"
   ]
  },
  {
   "cell_type": "markdown",
   "metadata": {},
   "source": [
    "**Make dictionary and corpus**"
   ]
  },
  {
   "cell_type": "code",
   "execution_count": 21,
   "metadata": {
    "collapsed": false
   },
   "outputs": [],
   "source": [
    "#generate the dictionary and the corpus for our tweets\n",
    "tweet_type = \"text_tokenized_stemmed_w2v\"\n",
    "dictionary, corpus_tfidf, corpus_bow = make_dictionary_and_corpus(df_full[tweet_type], df_filtered[tweet_type])"
   ]
  },
  {
   "cell_type": "code",
   "execution_count": 22,
   "metadata": {
    "collapsed": false
   },
   "outputs": [
    {
     "name": "stdout",
     "output_type": "stream",
     "text": [
      "Dictionary(6970 unique tokens: [u'sinjar', u'yellow', u'jihad', u'lore', u'lord']...)\n"
     ]
    }
   ],
   "source": [
    "print dictionary"
   ]
  },
  {
   "cell_type": "code",
   "execution_count": 23,
   "metadata": {
    "collapsed": false
   },
   "outputs": [
    {
     "name": "stdout",
     "output_type": "stream",
     "text": [
      "# total tweets: 10678\n",
      "# high certainty tweets: 4953\n",
      "# lower certainty tweets: 5725\n"
     ]
    }
   ],
   "source": [
    "print \"# total tweets: %d\" % len(df_full)\n",
    "print \"# high certainty tweets: %d\" % len(df_filtered)\n",
    "print \"# lower certainty tweets: %d\" % (len(df_full)-len(df_filtered))"
   ]
  },
  {
   "cell_type": "markdown",
   "metadata": {
    "collapsed": true
   },
   "source": [
    "###6. Decide on a model dimensionality and check accuracy\n",
    "\n",
    "---\n",
    "\n",
    "**Model used**: logistic regression (see: https://en.wikipedia.org/wiki/Logistic_regression).\n",
    "\n",
    "**Why**: logistic regression is one of the simplest models (linear in the features), making it particularly well suited to high dimensional problems. As dimensionality increases linear separability of the classes improves. Additionally, such highly constrained models suffer little from the so called \"curse of dimensionality\" which plagues weakly constrained models such as k-nearest neighbors (see https://en.wikipedia.org/wiki/Curse_of_dimensionality for details on this phenomenon).\n",
    "\n",
    "**Two tests across a range of dimensions**:\n",
    "\n",
    "1. k-fold cross validation error to assess how well the model will generalize to new tweets.\n",
    "  * Unfortunately this does not account well for testing generalizability to tweets with new (non-dictionary) tokens. Ideally, the word2vec mapping will remedy the relatively small dictionary.\n",
    "2. Training error to fit the whole dataset.\n",
    "\n",
    "With this analysis we will decide on a good dimensionality (or number of topics) for the model."
   ]
  },
  {
   "cell_type": "code",
   "execution_count": 24,
   "metadata": {
    "collapsed": false
   },
   "outputs": [],
   "source": [
    "def score_across_dim(df, dictionary, corpus_tfidf, power, samples, cross_val_num):\n",
    "    #select model\n",
    "    model = linear_model.LogisticRegression(class_weight = \"auto\")\n",
    "    \n",
    "    #list for returning dimensions\n",
    "    dimensions_used = np.unique(np.logspace(0, power, num=samples, endpoint=True, base=10.0, dtype=int))\n",
    "    \n",
    "    #list for returning the average score from k-fold validation\n",
    "    scores_cv = []\n",
    "    scores_absolute = []\n",
    "    \n",
    "    #loop over the dimensions for performing the k-fold validation\n",
    "    for dimensions in dimensions_used:\n",
    "        #calculate model dataframe\n",
    "        df_model = latent_semantic_analysis(df, dictionary, corpus_tfidf, dimensions)\n",
    "        #actual validation\n",
    "        scores = cross_validation.cross_val_score(model, \n",
    "                                                  df_model[[i for i in range(dimensions)]], \n",
    "                                                  df_model[\"choose_one\"],\n",
    "                                                  cv=cross_val_num)\n",
    "        #compute average score\n",
    "        scores_cv.append(np.average(scores))\n",
    "        \n",
    "        \n",
    "        #create the vectors for fitting\n",
    "        X = df_model[[i for i in range(dimensions)]]\n",
    "        y = df_model[\"choose_one\"]\n",
    "        #fit the model\n",
    "        model.fit(X, y)\n",
    "        #compute score\n",
    "        scores_absolute.append(model.score(X, y))\n",
    "        \n",
    "        #print out current dimensionality\n",
    "        sys.stdout.write('\\r' + \"Calculating fit for dimensions = \" + (\"%d\" % dimensions))\n",
    "    \n",
    "    return (dimensions_used, scores_cv, scores_absolute)"
   ]
  },
  {
   "cell_type": "markdown",
   "metadata": {},
   "source": [
    "**Calculate train and 8-fold CV test scores for the logistic regression fit across a range of dimensions**"
   ]
  },
  {
   "cell_type": "code",
   "execution_count": 25,
   "metadata": {
    "collapsed": false
   },
   "outputs": [
    {
     "name": "stdout",
     "output_type": "stream",
     "text": [
      "Calculating fit for dimensions = 1000"
     ]
    }
   ],
   "source": [
    "#w2v fitting\n",
    "dimensions_used, scores_cv, scores_absolute = score_across_dim(df_filtered, dictionary, corpus_tfidf, 3, 100, 8)"
   ]
  },
  {
   "cell_type": "code",
   "execution_count": 41,
   "metadata": {
    "collapsed": false
   },
   "outputs": [],
   "source": [
    "#write out the cv data to a file\n",
    "scores_df = pd.DataFrame(zip(dimensions_used, scores_cv, scores_absolute), columns = [\"dimensions_used\", \"scores_cv\", \"scores_absolute\"])\n",
    "scores_df.to_csv(\"data/cv_and_roc_data/score_data.csv\")"
   ]
  },
  {
   "cell_type": "markdown",
   "metadata": {
    "collapsed": false
   },
   "source": [
    "**Plot the cross validation and complete fit scores**"
   ]
  },
  {
   "cell_type": "code",
   "execution_count": 27,
   "metadata": {
    "collapsed": false
   },
   "outputs": [
    {
     "data": {
      "image/png": "[encoded data removed]",
      "text/plain": [
       "<matplotlib.figure.Figure at 0x173fdf5f8>"
      ]
     },
     "metadata": {},
     "output_type": "display_data"
    }
   ],
   "source": [
    "#things to plot\n",
    "plt.plot(dimensions_used, scores_absolute, c=\"r\", linestyle = '-', linewidth = 2, label = \"Train\")\n",
    "plt.plot(dimensions_used, scores_cv, c=\"b\", linestyle = '-', linewidth = 2, label = \"8-fold cross validation\")\n",
    "\n",
    "#backround grid details\n",
    "axes = plt.gca()\n",
    "axes.grid(b = True, which = 'both', axis = 'both', color = 'gray', linestyle = '-', alpha = 0.5, linewidth = 0.5) \n",
    "axes.set_axis_bgcolor('white')  \n",
    "\n",
    "#font scpecifications\n",
    "title_font = {'family' : 'arial', 'color'  : 'black', 'weight' : 'heavy','size': 20}\n",
    "axis_label_font = {'family' : 'arial', 'color'  : 'black', 'weight' : 'normal','size': 20}\n",
    "\n",
    "#figure size and tick style\n",
    "plt.rcParams[\"figure.figsize\"] = [6,6]\n",
    "plt.rc('axes',edgecolor='black',linewidth=1)\n",
    "plt.tick_params(which='both', axis='both', color='black', length=4, width=0.5)\n",
    "plt.rcParams['xtick.direction'] = 'in'\n",
    "plt.rcParams['ytick.direction'] = 'in'\n",
    "\n",
    "#axis range and labels (also specify if log or not)\n",
    "plt.xlim(1, 1000)\n",
    "plt.xscale('log')\n",
    "plt.ylim(0.70, 0.95)\n",
    "plt.xlabel(r'Topics (Dimensions)', y=3, fontsize=20, fontdict = axis_label_font)\n",
    "plt.ylabel(r'Accuracy', fontsize=20, fontdict = axis_label_font)\n",
    "\n",
    "#title and axis labels\n",
    "plt.tick_params(axis='both', labelsize=20)\n",
    "plt.title('Logistic Regression Fit', y=1.05, fontdict = title_font)\n",
    "\n",
    "#legend details\n",
    "legend = plt.legend(shadow = True, frameon = True, fancybox = False, ncol = 1, fontsize = 15, loc = 'lower right')\n",
    "frame = legend.get_frame()\n",
    "#frame.set_width(100)\n",
    "frame.set_facecolor('white')\n",
    "frame.set_edgecolor('black')\n",
    "\n",
    "plt.savefig('data/cv_and_roc_data/cross_validation_adv_parse.png', bbox_inches='tight')\n",
    "\n",
    "plt.show()"
   ]
  },
  {
   "cell_type": "markdown",
   "metadata": {},
   "source": [
    "**Best cross validation score**"
   ]
  },
  {
   "cell_type": "code",
   "execution_count": 28,
   "metadata": {
    "collapsed": false
   },
   "outputs": [
    {
     "name": "stdout",
     "output_type": "stream",
     "text": [
      "(0.88290420693422489, 327)\n"
     ]
    }
   ],
   "source": [
    "max_score = 0\n",
    "for entry in zip(scores_cv, dimensions_used):\n",
    "    if entry[0] > max_score:\n",
    "        max_score = entry[0]\n",
    "        max_d = entry[1]\n",
    "print (max_score, max_d)"
   ]
  },
  {
   "cell_type": "markdown",
   "metadata": {},
   "source": [
    "**Check out all the scores**"
   ]
  },
  {
   "cell_type": "code",
   "execution_count": 29,
   "metadata": {
    "collapsed": false
   },
   "outputs": [
    {
     "name": "stdout",
     "output_type": "stream",
     "text": [
      "[(0.51947372824843518, 1), (0.73631522602367427, 2), (0.74701994455257792, 3), (0.75086591272035741, 4), (0.75833503776351097, 5), (0.78075023092551854, 6), (0.77953826933783033, 7), (0.77872920995729578, 8), (0.77893310281257755, 9), (0.77953989892908238, 10), (0.78963097516089731, 11), (0.79669459549961286, 12), (0.79669362680985822, 13), (0.79790753947995752, 14), (0.79750366225863289, 15), (0.79810947914468933, 16), (0.79568067035776457, 17), (0.80053177167474421, 18), (0.80295373111887691, 20), (0.80133789441800285, 21), (0.8160719280497305, 23), (0.8126484235085466, 24), (0.81547523729631377, 26), (0.83525741997378822, 28), (0.83040926267257009, 30), (0.83262994335346863, 32), (0.84090877181354406, 35), (0.84858015801258846, 37), (0.84817856812180525, 40), (0.85140697812477184, 43), (0.85039663260251741, 46), (0.85241471587939488, 49), (0.85180857328590187, 53), (0.84938530784981481, 57), (0.84898403839612124, 61), (0.85120504373038686, 65), (0.85584832999994442, 70), (0.85746579523800115, 75), (0.8592822645575835, 81), (0.86069681195452963, 86), (0.8598887307503742, 93), (0.86311714180741017, 100), (0.86251393690526235, 107), (0.86352558947354041, 114), (0.86534271126206508, 123), (0.86453463322011781, 132), (0.86796531281153011, 141), (0.86514045221431302, 151), (0.86574496416248459, 162), (0.86796661564127642, 174), (0.86675531073880818, 187), (0.86554204737544316, 200), (0.87381957405984179, 215), (0.87785737020484866, 231), (0.87927159294842772, 247), (0.87765738900101375, 265), (0.87462700911947089, 284), (0.88169322879326262, 305), (0.88290420693422489, 327), (0.87422051675202939, 351), (0.87260533252009775, 376), (0.8707885406552871, 403), (0.87139370085612355, 432), (0.87341504963992145, 464), (0.86957690688317424, 497), (0.87240241889526449, 533), (0.87300758542051715, 572), (0.87078919101609087, 613), (0.86916976837120652, 657), (0.8703836820953752, 705), (0.87058529183639299, 756), (0.87098949898143174, 811), (0.87118915447783007, 869), (0.87240567913183809, 932), (0.87139402550949074, 1000)]\n"
     ]
    }
   ],
   "source": [
    "print zip(scores_cv, dimensions_used)"
   ]
  },
  {
   "cell_type": "markdown",
   "metadata": {},
   "source": [
    "**Conclusion**: Overall, 250 dimensions seems to be a good number as rapidly diminishing returns are found beyond this. The CV accuracy for this dimensionality is ~0.863, not so bad. This is the dimensionality employed for the rest of the notebook."
   ]
  },
  {
   "cell_type": "markdown",
   "metadata": {},
   "source": [
    "###7. Make and test a model with desired dimensionality\n",
    "\n",
    "---\n",
    "\n",
    "1. Create a k-fold receiver operating characteristic (ROC) curve (see: https://en.wikipedia.org/wiki/Receiver_operating_characteristic for more details).\n",
    "  * This checks how well the model \"separates\" the two classes by plotting the \"true positive rate\" vs the \"false positive rate\" while moving the probability cutoff for classifying into one of the two categories (the default for classification is 50%).\n",
    "2. Calculate various scores (train and test accuracies as well as the F1 score)\n",
    "3. Generate a confusion matrix to see where the model goes wrong in classification"
   ]
  },
  {
   "cell_type": "markdown",
   "metadata": {},
   "source": [
    "**Create the model and grab a few topics to look at later**\n",
    "\n",
    "I have chosen the top 10 topics and the top 10 tokens of each"
   ]
  },
  {
   "cell_type": "code",
   "execution_count": 30,
   "metadata": {
    "collapsed": true
   },
   "outputs": [],
   "source": [
    "dimensions = 250\n",
    "df_lsi_features, topics = latent_semantic_analysis(df_filtered, dictionary, corpus_tfidf, dimensions, True, 15, 10)"
   ]
  },
  {
   "cell_type": "markdown",
   "metadata": {},
   "source": [
    "**Function to perform a k-fold ROC analysis and plot the results**"
   ]
  },
  {
   "cell_type": "code",
   "execution_count": 31,
   "metadata": {
    "collapsed": false
   },
   "outputs": [],
   "source": [
    "#so a dimensionality of ~100 seems perfectly fine... lets use this dimensionality and create a k-fold ROC curve\n",
    "def k_fold_roc(df, dim, cross_val_num):\n",
    "    #model used\n",
    "    model = linear_model.LogisticRegression()\n",
    "    \n",
    "    #create X and y data but need as a numpy array for easy cv ROC implementation\n",
    "    #also need to usue dummies for the ROC curve so convert them en route\n",
    "    X = pd.DataFrame.as_matrix(df[[i for i in range(dim)]])\n",
    "    y = pd.get_dummies(df[\"choose_one\"])[\"Relevant\"]\n",
    "    \n",
    "    #create the cross validation entity to extract the dat from sequentially\n",
    "    cv = cross_validation.StratifiedKFold(y, n_folds = cross_val_num)\n",
    "    \n",
    "    mean_tpr = 0.0\n",
    "    mean_fpr = np.linspace(0, 1, 100)\n",
    "    all_tpr = []\n",
    "\n",
    "    roc_data = []\n",
    "    for i, (train, test) in enumerate(cv):\n",
    "        probas_ = model.fit(X[train], y[train]).predict_proba(X[test])\n",
    "        \n",
    "        fpr, tpr, thresholds = roc_curve(y[test], probas_[:, 1])\n",
    "        mean_tpr += interp(mean_fpr, fpr, tpr)\n",
    "        mean_tpr[0] = 0.0\n",
    "        roc_auc = auc(fpr, tpr)\n",
    "        \n",
    "        roc_data.append([fpr, tpr, ('%d (area = %0.2f)' % (i, roc_auc))])\n",
    "    \n",
    "    mean_tpr /= len(cv)\n",
    "    mean_tpr[-1] = 1.0\n",
    "    mean_auc = auc(mean_fpr, mean_tpr)\n",
    "    roc_data.append([mean_fpr, mean_tpr, ('Mean (area = %0.2f)' % mean_auc)])\n",
    "        \n",
    "    return roc_data"
   ]
  },
  {
   "cell_type": "markdown",
   "metadata": {},
   "source": [
    "**Generate the k-fold ROC curve and plot**"
   ]
  },
  {
   "cell_type": "code",
   "execution_count": 32,
   "metadata": {
    "collapsed": false
   },
   "outputs": [],
   "source": [
    "cross_val_num = 8\n",
    "roc_data = k_fold_roc(df_lsi_features, dimensions, cross_val_num)"
   ]
  },
  {
   "cell_type": "code",
   "execution_count": 33,
   "metadata": {
    "collapsed": false
   },
   "outputs": [
    {
     "data": {
      "image/png": "[encoded data removed]",
      "text/plain": [
       "<matplotlib.figure.Figure at 0x6326eda0>"
      ]
     },
     "metadata": {},
     "output_type": "display_data"
    }
   ],
   "source": [
    "#color palette\n",
    "# These are the \"Tableau 20\" colors as RGB.    \n",
    "tableau20 = [(31, 119, 180), (174, 199, 232), (255, 127, 14), (255, 187, 120),    \n",
    "             (44, 160, 44), (152, 223, 138), (214, 39, 40), (255, 152, 150),    \n",
    "             (148, 103, 189), (197, 176, 213), (140, 86, 75), (196, 156, 148),    \n",
    "             (227, 119, 194), (247, 182, 210), (127, 127, 127), (199, 199, 199),    \n",
    "             (188, 189, 34), (219, 219, 141), (23, 190, 207), (158, 218, 229)]    \n",
    "  \n",
    "# Scale the RGB values to the [0, 1] range, which is the format matplotlib accepts.    \n",
    "for i in range(len(tableau20)):    \n",
    "    r, g, b = tableau20[i]    \n",
    "    tableau20[i] = (r / 255., g / 255., b / 255.)   \n",
    "    \n",
    "    \n",
    "plt.plot([0, 1], [0, 1], '--', color=(0.6, 0.6, 0.6), label='Luck')\n",
    "\n",
    "i=0\n",
    "for roc in roc_data[:-1]:\n",
    "    plt.plot(roc[0], roc[1], lw=2, label=roc[2], color = tableau20[i])\n",
    "    i = i + 1\n",
    "\n",
    "roc = roc_data[-1]\n",
    "plt.plot(roc[0], roc[1], 'k-', lw=3, label=roc[2])\n",
    "    \n",
    "#backround grid details\n",
    "axes = plt.gca()\n",
    "axes.grid(b = True, which = 'both', axis = 'both', color = 'gray', linestyle = '-', alpha = 0.5, linewidth = 0.5) \n",
    "axes.set_axis_bgcolor('white')  \n",
    "\n",
    "#font scpecifications\n",
    "title_font = {'family' : 'arial', 'color'  : 'black', 'weight' : 'heavy','size': 20}\n",
    "axis_label_font = {'family' : 'arial', 'color'  : 'black', 'weight' : 'normal','size': 20}\n",
    "\n",
    "#figure size and tick style\n",
    "plt.rcParams[\"figure.figsize\"] = [6,6]\n",
    "plt.rc('axes',edgecolor='black',linewidth=1)\n",
    "plt.tick_params(which='both', axis='both', color='black', length=4, width=0.5)\n",
    "plt.rcParams['xtick.direction'] = 'in'\n",
    "plt.rcParams['ytick.direction'] = 'in'\n",
    "    \n",
    "#axis and label details\n",
    "plt.xlim([-0.05, 1.05])\n",
    "plt.ylim([-0.05, 1.05])\n",
    "plt.xlabel('False Positive Rate', fontsize=20, fontdict = axis_label_font)\n",
    "plt.ylabel('True Positive Rate', fontsize=20, fontdict = axis_label_font)\n",
    "    \n",
    "#title and axis labels\n",
    "plt.tick_params(axis='both', labelsize=20)\n",
    "plt.title(('%d-fold ROC analysis' % cross_val_num), y=1.05, fontdict = title_font)\n",
    "    \n",
    "#legend details\n",
    "legend = plt.legend(shadow = True, frameon = True, fancybox = False, ncol = 1\n",
    "                        , fontsize = 15, loc = 'lower right', bbox_to_anchor=(1.0, 0.0))\n",
    "frame = legend.get_frame()\n",
    "frame.set_facecolor('white')\n",
    "frame.set_edgecolor('black')\n",
    "\n",
    "plt.savefig('data/cv_and_roc_data/roc_adv_parse.png', bbox_inches='tight')\n",
    "    \n",
    "plt.show()\n"
   ]
  },
  {
   "cell_type": "markdown",
   "metadata": {},
   "source": [
    "The ROC analysis suggests the model does a good job at separating out the classes. "
   ]
  },
  {
   "cell_type": "markdown",
   "metadata": {},
   "source": [
    "**Fit a logistic regression model (one test-train split)**\n",
    "\n",
    "  1. Calculate train accuracy\n",
    "  2. Calculate test accuracy\n",
    "  3. Calculate the F1 score\n",
    "  4. Generate a confusion matrix"
   ]
  },
  {
   "cell_type": "code",
   "execution_count": 49,
   "metadata": {
    "collapsed": false
   },
   "outputs": [
    {
     "name": "stdout",
     "output_type": "stream",
     "text": [
      "Train accuracy: 0.918223 \n",
      "\n",
      "Test accuracy: 0.911201 \n",
      "\n",
      "F1 score: 0.894988 \n",
      "\n",
      "Confusion matrix: \n",
      "\n",
      "-Legend\n",
      "[['True \"not disaster\"' 'False \"disaster\"']\n",
      " ['False \"not disaster\"' 'True \"disaster\"']]\n",
      "\n",
      "-Prediction\n",
      "[[528  29]\n",
      " [ 59 375]]\n"
     ]
    }
   ],
   "source": [
    "#make the X and y\n",
    "X = df_lsi_features[[i for i in range(dimensions)]]\n",
    "y = df_lsi_features[\"choose_one\"]\n",
    "\n",
    "#split into test and train\n",
    "X_train, X_test, y_train, y_test = cross_validation.train_test_split(X, y, train_size=0.80)\n",
    "\n",
    "#make the model\n",
    "model = linear_model.LogisticRegression()\n",
    "model.fit(X_train, y_train)\n",
    "y_pred = model.predict(X_test)\n",
    "\n",
    "#various \"fitness\" metrics\n",
    "print \"Train accuracy: %f \\n\" % model.score(X_train, y_train)\n",
    "print \"Test accuracy: %f \\n\" % model.score(X_test, y_test)\n",
    "print \"F1 score: %f \\n\" % metrics.f1_score(y_test, y_pred, labels=None, pos_label='Relevant', average='binary', sample_weight=None)\n",
    "\n",
    "#confusion matrix\n",
    "cm = metrics.confusion_matrix(y_test, model.predict(X_test))\n",
    "print \"Confusion matrix: \\n\"\n",
    "print \"-Legend\"\n",
    "print np.array([['True \"not disaster\"', 'False \"disaster\"'],['False \"not disaster\"', 'True \"disaster\"']])\n",
    "print \"\\n-Prediction\"\n",
    "print cm"
   ]
  },
  {
   "cell_type": "markdown",
   "metadata": {},
   "source": [
    "Overall, the three scores are very good for this model. It may be desirable to change the cutoff for classification to lean towards false disaster prediction--the consequences of missing a disaster far outweigh the cost of misclassifying some. This is a balance of course as you don’t want to say everything is a disaster. "
   ]
  },
  {
   "cell_type": "markdown",
   "metadata": {},
   "source": [
    "**Check out where the model is going wrong** \n",
    "\n",
    "For this I will create two new dataframes of incorrectly identified disasters or not"
   ]
  },
  {
   "cell_type": "code",
   "execution_count": 50,
   "metadata": {
    "collapsed": false
   },
   "outputs": [],
   "source": [
    "df_test = y_test\n",
    "index_vals = df_test.index\n",
    "df_pred = pd.DataFrame(y_pred, columns = [\"predicted\"]).set_index(keys = index_vals)"
   ]
  },
  {
   "cell_type": "code",
   "execution_count": 51,
   "metadata": {
    "collapsed": false
   },
   "outputs": [],
   "source": [
    "df_wrong = pd.concat([df_test, df_pred, df_filtered['text_tokenized_stemmed_w2v']], axis=1)"
   ]
  },
  {
   "cell_type": "code",
   "execution_count": 52,
   "metadata": {
    "collapsed": false
   },
   "outputs": [],
   "source": [
    "df_wrong = df_wrong.dropna()\n",
    "df_wrong = df_wrong[df_wrong[\"choose_one\"] != df_wrong[\"predicted\"]]"
   ]
  },
  {
   "cell_type": "code",
   "execution_count": 53,
   "metadata": {
    "collapsed": false
   },
   "outputs": [],
   "source": [
    "df_wrong_false_disaster = df_wrong[df_wrong[\"predicted\"] == \"Relevant\"]\n",
    "df_wrong_false_non_disaster = df_wrong[df_wrong[\"predicted\"] == \"Not Relevant\"]"
   ]
  },
  {
   "cell_type": "code",
   "execution_count": 54,
   "metadata": {
    "collapsed": false
   },
   "outputs": [
    {
     "name": "stdout",
     "output_type": "stream",
     "text": [
      "29\n",
      "59\n"
     ]
    },
    {
     "data": {
      "text/html": [
       "<div>\n",
       "<table border=\"1\" class=\"dataframe\">\n",
       "  <thead>\n",
       "    <tr style=\"text-align: right;\">\n",
       "      <th></th>\n",
       "      <th>choose_one</th>\n",
       "      <th>predicted</th>\n",
       "      <th>text_tokenized_stemmed_w2v</th>\n",
       "    </tr>\n",
       "  </thead>\n",
       "  <tbody>\n",
       "    <tr>\n",
       "      <th>10</th>\n",
       "      <td>Relevant</td>\n",
       "      <td>Not Relevant</td>\n",
       "      <td>[we'r, shake, ..., it', an, earthquak]</td>\n",
       "    </tr>\n",
       "    <tr>\n",
       "      <th>62</th>\n",
       "      <td>Relevant</td>\n",
       "      <td>Not Relevant</td>\n",
       "      <td>[@, navista7, steve, these, fire, out, here, a...</td>\n",
       "    </tr>\n",
       "    <tr>\n",
       "      <th>150</th>\n",
       "      <td>Relevant</td>\n",
       "      <td>Not Relevant</td>\n",
       "      <td>[#, omg, !, i, don't, believ, thi, ., #, rip, ...</td>\n",
       "    </tr>\n",
       "    <tr>\n",
       "      <th>194</th>\n",
       "      <td>Relevant</td>\n",
       "      <td>Not Relevant</td>\n",
       "      <td>[annihil, in, syria, :, syrian, armi, grind, '...</td>\n",
       "    </tr>\n",
       "    <tr>\n",
       "      <th>245</th>\n",
       "      <td>Relevant</td>\n",
       "      <td>Not Relevant</td>\n",
       "      <td>[#, turkey, invad, #, israel, halfway, to, #, ...</td>\n",
       "    </tr>\n",
       "    <tr>\n",
       "      <th>249</th>\n",
       "      <td>Relevant</td>\n",
       "      <td>Not Relevant</td>\n",
       "      <td>[@, huffman, again, ?, ?, tch, !, thought, of,...</td>\n",
       "    </tr>\n",
       "    <tr>\n",
       "      <th>272</th>\n",
       "      <td>Relevant</td>\n",
       "      <td>Not Relevant</td>\n",
       "      <td>[victorinox, swiss, armi, date, women', rubber...</td>\n",
       "    </tr>\n",
       "    <tr>\n",
       "      <th>289</th>\n",
       "      <td>Relevant</td>\n",
       "      <td>Not Relevant</td>\n",
       "      <td>[thousand, attend, a, ralli, organ, by, peac, ...</td>\n",
       "    </tr>\n",
       "    <tr>\n",
       "      <th>326</th>\n",
       "      <td>Relevant</td>\n",
       "      <td>Not Relevant</td>\n",
       "      <td>[suspect, serial, arsonist, in, east, bay, und...</td>\n",
       "    </tr>\n",
       "    <tr>\n",
       "      <th>436</th>\n",
       "      <td>Relevant</td>\n",
       "      <td>Not Relevant</td>\n",
       "      <td>[@, |-no_w2v-|, that', good, to, hear, ., mine...</td>\n",
       "    </tr>\n",
       "    <tr>\n",
       "      <th>542</th>\n",
       "      <td>Relevant</td>\n",
       "      <td>Not Relevant</td>\n",
       "      <td>[did, anyon, els, see, that, flame, fall, to, ...</td>\n",
       "    </tr>\n",
       "    <tr>\n",
       "      <th>634</th>\n",
       "      <td>Relevant</td>\n",
       "      <td>Not Relevant</td>\n",
       "      <td>[', i, came, to, kill, indian, ..., for, fun, ...</td>\n",
       "    </tr>\n",
       "    <tr>\n",
       "      <th>769</th>\n",
       "      <td>Relevant</td>\n",
       "      <td>Not Relevant</td>\n",
       "      <td>[the, cryptic, word, that, guid, pilot, on, th...</td>\n",
       "    </tr>\n",
       "    <tr>\n",
       "      <th>949</th>\n",
       "      <td>Relevant</td>\n",
       "      <td>Not Relevant</td>\n",
       "      <td>[memori, day, of, |-num-|, year, hiroshima, an...</td>\n",
       "    </tr>\n",
       "    <tr>\n",
       "      <th>1015</th>\n",
       "      <td>Relevant</td>\n",
       "      <td>Not Relevant</td>\n",
       "      <td>[learn, from, the, legaci, of, a, catastroph, ...</td>\n",
       "    </tr>\n",
       "    <tr>\n",
       "      <th>1277</th>\n",
       "      <td>Relevant</td>\n",
       "      <td>Not Relevant</td>\n",
       "      <td>[bbc, forc, to, retract, fals, claim, about, c...</td>\n",
       "    </tr>\n",
       "    <tr>\n",
       "      <th>1279</th>\n",
       "      <td>Relevant</td>\n",
       "      <td>Not Relevant</td>\n",
       "      <td>[', the, cyclon, deriv, it, power, from, a, ca...</td>\n",
       "    </tr>\n",
       "    <tr>\n",
       "      <th>1287</th>\n",
       "      <td>Relevant</td>\n",
       "      <td>Not Relevant</td>\n",
       "      <td>[bbc, forc, to, retract, fals, claim, about, c...</td>\n",
       "    </tr>\n",
       "    <tr>\n",
       "      <th>1396</th>\n",
       "      <td>Relevant</td>\n",
       "      <td>Not Relevant</td>\n",
       "      <td>[#, ?, ?, #, ?, ?, #, ?, ?, ?, #, ?, ?, ?, |-n...</td>\n",
       "    </tr>\n",
       "    <tr>\n",
       "      <th>1398</th>\n",
       "      <td>Relevant</td>\n",
       "      <td>Not Relevant</td>\n",
       "      <td>[#, ?, ?, #, ?, ?, #, ?, ?, ?, #, ?, ?, ?, |-n...</td>\n",
       "    </tr>\n",
       "    <tr>\n",
       "      <th>1401</th>\n",
       "      <td>Relevant</td>\n",
       "      <td>Not Relevant</td>\n",
       "      <td>[#, ?, ?, #, ?, ?, ?, #, ?, ?, ?, #, ?, ?, ?, ...</td>\n",
       "    </tr>\n",
       "    <tr>\n",
       "      <th>1499</th>\n",
       "      <td>Relevant</td>\n",
       "      <td>Not Relevant</td>\n",
       "      <td>[the, far, right, racist, #, a, or, liber, man...</td>\n",
       "    </tr>\n",
       "    <tr>\n",
       "      <th>1571</th>\n",
       "      <td>Relevant</td>\n",
       "      <td>Not Relevant</td>\n",
       "      <td>[@, |-no_w2v-|, liter, just, look, that, up, !...</td>\n",
       "    </tr>\n",
       "    <tr>\n",
       "      <th>1618</th>\n",
       "      <td>Relevant</td>\n",
       "      <td>Not Relevant</td>\n",
       "      <td>[great, photo, by, the, |-no_w2v-|, sean, anto...</td>\n",
       "    </tr>\n",
       "    <tr>\n",
       "      <th>1715</th>\n",
       "      <td>Relevant</td>\n",
       "      <td>Not Relevant</td>\n",
       "      <td>[@, david, republican, hi, david, in, |-num-|,...</td>\n",
       "    </tr>\n",
       "    <tr>\n",
       "      <th>1858</th>\n",
       "      <td>Relevant</td>\n",
       "      <td>Not Relevant</td>\n",
       "      <td>[@, i, i, a, _amtal, @, sgc72, ', thousand, of...</td>\n",
       "    </tr>\n",
       "    <tr>\n",
       "      <th>1882</th>\n",
       "      <td>Relevant</td>\n",
       "      <td>Not Relevant</td>\n",
       "      <td>[@, michael, |-num_alpha-|, california, is, in...</td>\n",
       "    </tr>\n",
       "    <tr>\n",
       "      <th>1955</th>\n",
       "      <td>Relevant</td>\n",
       "      <td>Not Relevant</td>\n",
       "      <td>[totooo, !, totooo, !, ', @, hi, to, i, calm, ...</td>\n",
       "    </tr>\n",
       "    <tr>\n",
       "      <th>1988</th>\n",
       "      <td>Relevant</td>\n",
       "      <td>Not Relevant</td>\n",
       "      <td>[gn, see, unnecessari, death, result, from, ea...</td>\n",
       "    </tr>\n",
       "    <tr>\n",
       "      <th>2035</th>\n",
       "      <td>Relevant</td>\n",
       "      <td>Not Relevant</td>\n",
       "      <td>[watch, a, man, electrocut, on, the, roof, of,...</td>\n",
       "    </tr>\n",
       "    <tr>\n",
       "      <th>2162</th>\n",
       "      <td>Relevant</td>\n",
       "      <td>Not Relevant</td>\n",
       "      <td>[@, film, |-num-|, doctor, we, must, leav, imm...</td>\n",
       "    </tr>\n",
       "    <tr>\n",
       "      <th>2430</th>\n",
       "      <td>Relevant</td>\n",
       "      <td>Not Relevant</td>\n",
       "      <td>[cinema, cinema, on, antioch, shoot, :, ', we,...</td>\n",
       "    </tr>\n",
       "    <tr>\n",
       "      <th>2455</th>\n",
       "      <td>Relevant</td>\n",
       "      <td>Not Relevant</td>\n",
       "      <td>[tk, said, they, can, see, smoke, come, from, ...</td>\n",
       "    </tr>\n",
       "    <tr>\n",
       "      <th>2697</th>\n",
       "      <td>Relevant</td>\n",
       "      <td>Not Relevant</td>\n",
       "      <td>[dlh, issu, hazard, weather, outlook, (, hwo, ...</td>\n",
       "    </tr>\n",
       "    <tr>\n",
       "      <th>2788</th>\n",
       "      <td>Relevant</td>\n",
       "      <td>Not Relevant</td>\n",
       "      <td>[oh, god, susan, is, follow, them, to, the, ho...</td>\n",
       "    </tr>\n",
       "    <tr>\n",
       "      <th>2864</th>\n",
       "      <td>Relevant</td>\n",
       "      <td>Not Relevant</td>\n",
       "      <td>[@, christ, i, |-num_alpha-|, pleas, support, ...</td>\n",
       "    </tr>\n",
       "    <tr>\n",
       "      <th>3031</th>\n",
       "      <td>Relevant</td>\n",
       "      <td>Not Relevant</td>\n",
       "      <td>[urgent, !, save, the, salt, river, #, hors, w...</td>\n",
       "    </tr>\n",
       "    <tr>\n",
       "      <th>3162</th>\n",
       "      <td>Relevant</td>\n",
       "      <td>Not Relevant</td>\n",
       "      <td>[#, is, tan, tajik, #, mud, slide, #, a, chin,...</td>\n",
       "    </tr>\n",
       "    <tr>\n",
       "      <th>3228</th>\n",
       "      <td>Relevant</td>\n",
       "      <td>Not Relevant</td>\n",
       "      <td>[chernobyl, disast, googl, the, free, illustr,...</td>\n",
       "    </tr>\n",
       "    <tr>\n",
       "      <th>3276</th>\n",
       "      <td>Relevant</td>\n",
       "      <td>Not Relevant</td>\n",
       "      <td>[@, dinner, with, juli, becaus, it, been, obli...</td>\n",
       "    </tr>\n",
       "    <tr>\n",
       "      <th>3358</th>\n",
       "      <td>Relevant</td>\n",
       "      <td>Not Relevant</td>\n",
       "      <td>[wow, the, name, #, leg, i, on, is, eas, |-no_...</td>\n",
       "    </tr>\n",
       "    <tr>\n",
       "      <th>3537</th>\n",
       "      <td>Relevant</td>\n",
       "      <td>Not Relevant</td>\n",
       "      <td>[rainstorm, downtown, gloucest, #, gloucest, #...</td>\n",
       "    </tr>\n",
       "    <tr>\n",
       "      <th>3541</th>\n",
       "      <td>Relevant</td>\n",
       "      <td>Not Relevant</td>\n",
       "      <td>[approach, rainstorm, |-website-|]</td>\n",
       "    </tr>\n",
       "    <tr>\n",
       "      <th>3555</th>\n",
       "      <td>Relevant</td>\n",
       "      <td>Not Relevant</td>\n",
       "      <td>[tomorrow', even, commut, receiv, a, red, ligh...</td>\n",
       "    </tr>\n",
       "    <tr>\n",
       "      <th>3957</th>\n",
       "      <td>Relevant</td>\n",
       "      <td>Not Relevant</td>\n",
       "      <td>[fire, truck, siren, for, the, past, |-num_uni...</td>\n",
       "    </tr>\n",
       "    <tr>\n",
       "      <th>3994</th>\n",
       "      <td>Relevant</td>\n",
       "      <td>Not Relevant</td>\n",
       "      <td>[@, dirk_trossen, i'v, still, got, some, of, t...</td>\n",
       "    </tr>\n",
       "    <tr>\n",
       "      <th>4003</th>\n",
       "      <td>Relevant</td>\n",
       "      <td>Not Relevant</td>\n",
       "      <td>[well, thi, storm, hit, out, of, no, where, !,...</td>\n",
       "    </tr>\n",
       "    <tr>\n",
       "      <th>4174</th>\n",
       "      <td>Relevant</td>\n",
       "      <td>Not Relevant</td>\n",
       "      <td>[british, diver, neil, anthoni, fear, found, d...</td>\n",
       "    </tr>\n",
       "    <tr>\n",
       "      <th>4262</th>\n",
       "      <td>Relevant</td>\n",
       "      <td>Not Relevant</td>\n",
       "      <td>[@, the, of, color, dude, @, take, i, georg, n...</td>\n",
       "    </tr>\n",
       "    <tr>\n",
       "      <th>4277</th>\n",
       "      <td>Relevant</td>\n",
       "      <td>Not Relevant</td>\n",
       "      <td>[@, a, damn, i, |-no_w2v-|, arrest, report, :,...</td>\n",
       "    </tr>\n",
       "    <tr>\n",
       "      <th>4452</th>\n",
       "      <td>Relevant</td>\n",
       "      <td>Not Relevant</td>\n",
       "      <td>[@, peter, dutton, _mp, you, didn't, ', stare,...</td>\n",
       "    </tr>\n",
       "    <tr>\n",
       "      <th>4526</th>\n",
       "      <td>Relevant</td>\n",
       "      <td>Not Relevant</td>\n",
       "      <td>[tornado, :, el, nino, may, give, canada', twi...</td>\n",
       "    </tr>\n",
       "    <tr>\n",
       "      <th>4649</th>\n",
       "      <td>Relevant</td>\n",
       "      <td>Not Relevant</td>\n",
       "      <td>[thank, you, to, @, news, |-no_w2v-|, !, our, ...</td>\n",
       "    </tr>\n",
       "    <tr>\n",
       "      <th>4693</th>\n",
       "      <td>Relevant</td>\n",
       "      <td>Not Relevant</td>\n",
       "      <td>[aug, |-num-|, |-num-|, kill, |-num-|, with, r...</td>\n",
       "    </tr>\n",
       "    <tr>\n",
       "      <th>4710</th>\n",
       "      <td>Relevant</td>\n",
       "      <td>Not Relevant</td>\n",
       "      <td>[weather, forecast, for, thailand, a, whirlwin...</td>\n",
       "    </tr>\n",
       "    <tr>\n",
       "      <th>4809</th>\n",
       "      <td>Relevant</td>\n",
       "      <td>Not Relevant</td>\n",
       "      <td>[a, few, more, photo, from, thi, morn, windsto...</td>\n",
       "    </tr>\n",
       "    <tr>\n",
       "      <th>4858</th>\n",
       "      <td>Relevant</td>\n",
       "      <td>Not Relevant</td>\n",
       "      <td>[watertown, gazett, owner, charg, in, wreck, |...</td>\n",
       "    </tr>\n",
       "    <tr>\n",
       "      <th>4899</th>\n",
       "      <td>Relevant</td>\n",
       "      <td>Not Relevant</td>\n",
       "      <td>[the, first, piec, of, wreckag, from, the, fir...</td>\n",
       "    </tr>\n",
       "    <tr>\n",
       "      <th>4947</th>\n",
       "      <td>Relevant</td>\n",
       "      <td>Not Relevant</td>\n",
       "      <td>[#, ?, ?, ?, #, ?, ?, #, ?, ?, ?, #, ?, ?, ?, ...</td>\n",
       "    </tr>\n",
       "  </tbody>\n",
       "</table>\n",
       "</div>"
      ],
      "text/plain": [
       "     choose_one     predicted  \\\n",
       "10     Relevant  Not Relevant   \n",
       "62     Relevant  Not Relevant   \n",
       "150    Relevant  Not Relevant   \n",
       "194    Relevant  Not Relevant   \n",
       "245    Relevant  Not Relevant   \n",
       "249    Relevant  Not Relevant   \n",
       "272    Relevant  Not Relevant   \n",
       "289    Relevant  Not Relevant   \n",
       "326    Relevant  Not Relevant   \n",
       "436    Relevant  Not Relevant   \n",
       "542    Relevant  Not Relevant   \n",
       "634    Relevant  Not Relevant   \n",
       "769    Relevant  Not Relevant   \n",
       "949    Relevant  Not Relevant   \n",
       "1015   Relevant  Not Relevant   \n",
       "1277   Relevant  Not Relevant   \n",
       "1279   Relevant  Not Relevant   \n",
       "1287   Relevant  Not Relevant   \n",
       "1396   Relevant  Not Relevant   \n",
       "1398   Relevant  Not Relevant   \n",
       "1401   Relevant  Not Relevant   \n",
       "1499   Relevant  Not Relevant   \n",
       "1571   Relevant  Not Relevant   \n",
       "1618   Relevant  Not Relevant   \n",
       "1715   Relevant  Not Relevant   \n",
       "1858   Relevant  Not Relevant   \n",
       "1882   Relevant  Not Relevant   \n",
       "1955   Relevant  Not Relevant   \n",
       "1988   Relevant  Not Relevant   \n",
       "2035   Relevant  Not Relevant   \n",
       "2162   Relevant  Not Relevant   \n",
       "2430   Relevant  Not Relevant   \n",
       "2455   Relevant  Not Relevant   \n",
       "2697   Relevant  Not Relevant   \n",
       "2788   Relevant  Not Relevant   \n",
       "2864   Relevant  Not Relevant   \n",
       "3031   Relevant  Not Relevant   \n",
       "3162   Relevant  Not Relevant   \n",
       "3228   Relevant  Not Relevant   \n",
       "3276   Relevant  Not Relevant   \n",
       "3358   Relevant  Not Relevant   \n",
       "3537   Relevant  Not Relevant   \n",
       "3541   Relevant  Not Relevant   \n",
       "3555   Relevant  Not Relevant   \n",
       "3957   Relevant  Not Relevant   \n",
       "3994   Relevant  Not Relevant   \n",
       "4003   Relevant  Not Relevant   \n",
       "4174   Relevant  Not Relevant   \n",
       "4262   Relevant  Not Relevant   \n",
       "4277   Relevant  Not Relevant   \n",
       "4452   Relevant  Not Relevant   \n",
       "4526   Relevant  Not Relevant   \n",
       "4649   Relevant  Not Relevant   \n",
       "4693   Relevant  Not Relevant   \n",
       "4710   Relevant  Not Relevant   \n",
       "4809   Relevant  Not Relevant   \n",
       "4858   Relevant  Not Relevant   \n",
       "4899   Relevant  Not Relevant   \n",
       "4947   Relevant  Not Relevant   \n",
       "\n",
       "                             text_tokenized_stemmed_w2v  \n",
       "10               [we'r, shake, ..., it', an, earthquak]  \n",
       "62    [@, navista7, steve, these, fire, out, here, a...  \n",
       "150   [#, omg, !, i, don't, believ, thi, ., #, rip, ...  \n",
       "194   [annihil, in, syria, :, syrian, armi, grind, '...  \n",
       "245   [#, turkey, invad, #, israel, halfway, to, #, ...  \n",
       "249   [@, huffman, again, ?, ?, tch, !, thought, of,...  \n",
       "272   [victorinox, swiss, armi, date, women', rubber...  \n",
       "289   [thousand, attend, a, ralli, organ, by, peac, ...  \n",
       "326   [suspect, serial, arsonist, in, east, bay, und...  \n",
       "436   [@, |-no_w2v-|, that', good, to, hear, ., mine...  \n",
       "542   [did, anyon, els, see, that, flame, fall, to, ...  \n",
       "634   [', i, came, to, kill, indian, ..., for, fun, ...  \n",
       "769   [the, cryptic, word, that, guid, pilot, on, th...  \n",
       "949   [memori, day, of, |-num-|, year, hiroshima, an...  \n",
       "1015  [learn, from, the, legaci, of, a, catastroph, ...  \n",
       "1277  [bbc, forc, to, retract, fals, claim, about, c...  \n",
       "1279  [', the, cyclon, deriv, it, power, from, a, ca...  \n",
       "1287  [bbc, forc, to, retract, fals, claim, about, c...  \n",
       "1396  [#, ?, ?, #, ?, ?, #, ?, ?, ?, #, ?, ?, ?, |-n...  \n",
       "1398  [#, ?, ?, #, ?, ?, #, ?, ?, ?, #, ?, ?, ?, |-n...  \n",
       "1401  [#, ?, ?, #, ?, ?, ?, #, ?, ?, ?, #, ?, ?, ?, ...  \n",
       "1499  [the, far, right, racist, #, a, or, liber, man...  \n",
       "1571  [@, |-no_w2v-|, liter, just, look, that, up, !...  \n",
       "1618  [great, photo, by, the, |-no_w2v-|, sean, anto...  \n",
       "1715  [@, david, republican, hi, david, in, |-num-|,...  \n",
       "1858  [@, i, i, a, _amtal, @, sgc72, ', thousand, of...  \n",
       "1882  [@, michael, |-num_alpha-|, california, is, in...  \n",
       "1955  [totooo, !, totooo, !, ', @, hi, to, i, calm, ...  \n",
       "1988  [gn, see, unnecessari, death, result, from, ea...  \n",
       "2035  [watch, a, man, electrocut, on, the, roof, of,...  \n",
       "2162  [@, film, |-num-|, doctor, we, must, leav, imm...  \n",
       "2430  [cinema, cinema, on, antioch, shoot, :, ', we,...  \n",
       "2455  [tk, said, they, can, see, smoke, come, from, ...  \n",
       "2697  [dlh, issu, hazard, weather, outlook, (, hwo, ...  \n",
       "2788  [oh, god, susan, is, follow, them, to, the, ho...  \n",
       "2864  [@, christ, i, |-num_alpha-|, pleas, support, ...  \n",
       "3031  [urgent, !, save, the, salt, river, #, hors, w...  \n",
       "3162  [#, is, tan, tajik, #, mud, slide, #, a, chin,...  \n",
       "3228  [chernobyl, disast, googl, the, free, illustr,...  \n",
       "3276  [@, dinner, with, juli, becaus, it, been, obli...  \n",
       "3358  [wow, the, name, #, leg, i, on, is, eas, |-no_...  \n",
       "3537  [rainstorm, downtown, gloucest, #, gloucest, #...  \n",
       "3541                 [approach, rainstorm, |-website-|]  \n",
       "3555  [tomorrow', even, commut, receiv, a, red, ligh...  \n",
       "3957  [fire, truck, siren, for, the, past, |-num_uni...  \n",
       "3994  [@, dirk_trossen, i'v, still, got, some, of, t...  \n",
       "4003  [well, thi, storm, hit, out, of, no, where, !,...  \n",
       "4174  [british, diver, neil, anthoni, fear, found, d...  \n",
       "4262  [@, the, of, color, dude, @, take, i, georg, n...  \n",
       "4277  [@, a, damn, i, |-no_w2v-|, arrest, report, :,...  \n",
       "4452  [@, peter, dutton, _mp, you, didn't, ', stare,...  \n",
       "4526  [tornado, :, el, nino, may, give, canada', twi...  \n",
       "4649  [thank, you, to, @, news, |-no_w2v-|, !, our, ...  \n",
       "4693  [aug, |-num-|, |-num-|, kill, |-num-|, with, r...  \n",
       "4710  [weather, forecast, for, thailand, a, whirlwin...  \n",
       "4809  [a, few, more, photo, from, thi, morn, windsto...  \n",
       "4858  [watertown, gazett, owner, charg, in, wreck, |...  \n",
       "4899  [the, first, piec, of, wreckag, from, the, fir...  \n",
       "4947  [#, ?, ?, ?, #, ?, ?, #, ?, ?, ?, #, ?, ?, ?, ...  "
      ]
     },
     "execution_count": 54,
     "metadata": {},
     "output_type": "execute_result"
    }
   ],
   "source": [
    "print len(df_wrong_false_disaster)\n",
    "print len(df_wrong_false_non_disaster)\n",
    "df_wrong_false_non_disaster"
   ]
  },
  {
   "cell_type": "code",
   "execution_count": 55,
   "metadata": {
    "collapsed": false
   },
   "outputs": [
    {
     "data": {
      "text/plain": [
       "[u'#',\n",
       " u'?',\n",
       " u'?',\n",
       " u'?',\n",
       " u'#',\n",
       " u'?',\n",
       " u'?',\n",
       " u'#',\n",
       " u'?',\n",
       " u'?',\n",
       " u'?',\n",
       " u'#',\n",
       " u'?',\n",
       " u'?',\n",
       " u'?',\n",
       " u'|-num_alpha-|',\n",
       " u':',\n",
       " u'aircraft',\n",
       " u'debri',\n",
       " u'found',\n",
       " u'on',\n",
       " u'la',\n",
       " u'reunion',\n",
       " u'is',\n",
       " u'from',\n",
       " u'miss',\n",
       " u'malaysia',\n",
       " u'airlin',\n",
       " u'...',\n",
       " u'|-website-|']"
      ]
     },
     "execution_count": 55,
     "metadata": {},
     "output_type": "execute_result"
    }
   ],
   "source": [
    "df_filtered['text_tokenized_stemmed_w2v'][4947]"
   ]
  },
  {
   "cell_type": "markdown",
   "metadata": {},
   "source": [
    "###8. Check out the \"topics\"\n",
    "\n",
    "---\n",
    "\n",
    "  1. Print out the top 10 topics with the top ten tokens they are composed of\n",
    "  2. Plot some topics against each other with colors to indicate class"
   ]
  },
  {
   "cell_type": "markdown",
   "metadata": {},
   "source": [
    "**Print the topics**"
   ]
  },
  {
   "cell_type": "code",
   "execution_count": 56,
   "metadata": {
    "collapsed": false
   },
   "outputs": [
    {
     "name": "stdout",
     "output_type": "stream",
     "text": [
      "Topic 0:\n",
      "0.403*\"?\" + 0.237*\"#\" + 0.196*\"'\" + 0.185*\"the\" + 0.184*\".\" + 0.177*\"a\" + 0.170*\"i\" + 0.168*\"@\" + 0.167*\"|-num-|\" + 0.149*\":\"\n",
      "\n",
      "Topic 1:\n",
      "-0.826*\"?\" + 0.156*\"'\" + 0.147*\"|-num-|\" + 0.145*\":\" + 0.106*\"#\" + 0.105*\"of\" + 0.098*\"famili\" + 0.098*\"in\" + 0.092*\"by\" + 0.091*\"|-website-|\"\n",
      "\n",
      "Topic 2:\n",
      "-0.280*\"'\" + -0.228*\"?\" + -0.215*\"famili\" + 0.212*\"a\" + 0.210*\"airport\" + 0.210*\"sandstorm\" + 0.208*\"swallow\" + 0.205*\"minut\" + 0.195*\"under\" + 0.192*\"watch\"\n",
      "\n",
      "Topic 3:\n",
      "0.281*\"by\" + 0.239*\"airport\" + 0.238*\"sandstorm\" + 0.237*\"swallow\" + 0.224*\"minut\" + 0.221*\"under\" + 0.207*\"raze\" + 0.203*\"wildfir\" + 0.203*\"northern\" + 0.202*\"latest\"\n",
      "\n",
      "Topic 4:\n",
      "0.447*\"'\" + -0.254*\"#\" + 0.224*\"famili\" + -0.223*\"california\" + -0.219*\"northern\" + -0.210*\"wildfir\" + -0.202*\"latest\" + -0.201*\"raze\" + -0.197*\"home\" + 0.172*\"legionnair\"\n",
      "\n",
      "Topic 5:\n",
      "0.298*\"suicid\" + 0.266*\"bomber\" + 0.210*\"bomb\" + 0.201*\"kill\" + 0.191*\"#\" + 0.177*\"mosqu\" + 0.172*\"saudi\" + 0.172*\"|-num-|\" + 0.148*\"?\" + 0.146*\"pkk\"\n",
      "\n",
      "Topic 6:\n",
      "0.569*\"#\" + -0.198*\"bomb\" + -0.196*\"suicid\" + -0.184*\"bomber\" + -0.156*\"pkk\" + -0.152*\"turkey\" + -0.152*\"trench\" + -0.151*\"deton\" + -0.146*\"old\" + 0.140*\"|-num-|\"\n",
      "\n",
      "Topic 7:\n",
      "0.372*\"legionnair\" + -0.365*\"'\" + 0.257*\"famili\" + 0.206*\"than\" + 0.204*\"outbreak\" + 0.200*\"|-num-|\" + 0.198*\"sue\" + 0.196*\"affect\" + 0.192*\"fatal\" + 0.170*\"disea\"\n",
      "\n",
      "Topic 8:\n",
      "-0.267*\"hiroshima\" + -0.266*\"atom\" + -0.247*\"bomb\" + -0.232*\"anniversari\" + 0.216*\"kill\" + -0.210*\"obama\" + -0.205*\"declar\" + -0.204*\"disast\" + -0.199*\"japan\" + -0.195*\"devast\"\n",
      "\n",
      "Topic 9:\n",
      "0.354*\"obama\" + 0.345*\"declar\" + 0.329*\"disast\" + -0.281*\"#\" + 0.223*\"for\" + 0.217*\"typhoon\" + 0.203*\"saipan\" + 0.174*\"kill\" + -0.166*\"|-num_alpha-|\" + 0.159*\"devast\"\n",
      "\n",
      "Topic 10:\n",
      "0.393*\"!\" + 0.270*\"#\" + -0.182*\"kill\" + -0.175*\"|-num_units-|\" + 0.145*\"armi\" + 0.138*\"|-num_alpha-|\" + 0.133*\"obama\" + 0.132*\"trench\" + 0.131*\"declar\" + 0.129*\"turkey\"\n",
      "\n",
      "Topic 11:\n",
      "0.411*\"'\" + 0.403*\"!\" + -0.186*\"|-num_alpha-|\" + -0.184*\"confirm\" + -0.179*\"malaysia\" + 0.163*\"#\" + -0.150*\"wreckag\" + -0.137*\"pm\" + -0.134*\"from\" + -0.128*\"conclus\"\n",
      "\n",
      "Topic 12:\n",
      "-0.591*\"!\" + 0.263*\"'\" + 0.262*\"#\" + 0.182*\".\" + -0.160*\"|-num-|\" + -0.114*\"|-num_alpha-|\" + -0.109*\"confirm\" + -0.109*\"malaysia\" + -0.101*\"pm\" + -0.100*\":\"\n",
      "\n",
      "Topic 13:\n",
      "0.342*\"spill\" + 0.341*\"oil\" + 0.301*\"refugio\" + 0.301*\"costlier\" + 0.301*\"bigger\" + 0.300*\"project\" + 0.267*\"may\" + 0.267*\"been\" + 0.244*\"have\" + 0.210*\"than\"\n",
      "\n",
      "Topic 14:\n",
      "0.243*\"fear\" + 0.240*\"|-num_units-|\" + 0.230*\"crash\" + 0.221*\"helicopt\" + 0.211*\"ambul\" + -0.210*\"attack\" + 0.206*\"pakistani\" + 0.205*\"air\" + -0.178*\"|-num-|\" + 0.175*\"!\"\n",
      "\n"
     ]
    }
   ],
   "source": [
    "for topic in topics:\n",
    "    print \"Topic %d:\" % topic[0]\n",
    "    print topic[1] + \"\\n\""
   ]
  },
  {
   "cell_type": "markdown",
   "metadata": {},
   "source": [
    "The topics seem to progressively become more relevant to disasters based on the words. The lower order ones will likely serve as better for identifying non-disasters while later ones disasters. This can be confirmed by plotting the topics against one another."
   ]
  },
  {
   "cell_type": "markdown",
   "metadata": {
    "collapsed": true
   },
   "source": [
    "**Plot topics**\n",
    "\n",
    "Topic 1 seems better for identifying non-disasters while topic 9 is better for disasters. Let’s check..."
   ]
  },
  {
   "cell_type": "code",
   "execution_count": 60,
   "metadata": {
    "collapsed": false
   },
   "outputs": [
    {
     "data": {
      "image/png": "[encoded data removed]",
      "text/plain": [
       "<matplotlib.figure.Figure at 0x1771f0c50>"
      ]
     },
     "metadata": {},
     "output_type": "display_data"
    }
   ],
   "source": [
    "#set the two topics\n",
    "feature_1 = 1\n",
    "feature_2 = 5\n",
    "\n",
    "#extract the data for plotting\n",
    "feature_1_not_relevant = df_lsi_features[df_lsi_features[\"choose_one\"] == \"Not Relevant\"][feature_1]\n",
    "feature_2_not_relevant = df_lsi_features[df_lsi_features[\"choose_one\"] == \"Not Relevant\"][feature_2]\n",
    "feature_1_relevant = df_lsi_features[df_lsi_features[\"choose_one\"] == \"Relevant\"][feature_1]\n",
    "feature_2_relevant = df_lsi_features[df_lsi_features[\"choose_one\"] == \"Relevant\"][feature_2]\n",
    "\n",
    "#things to plot\n",
    "plt.scatter(feature_1_not_relevant, feature_2_not_relevant, c=\"b\", s=40, alpha=0.3, linewidths=0.0, label = \"Not Disaster\")\n",
    "plt.scatter(feature_1_relevant, feature_2_relevant, c=\"r\", s=40, alpha=0.3, linewidths=0.0, label = \"Disaster\")\n",
    "\n",
    "\n",
    "#backround grid details\n",
    "axes = plt.gca()\n",
    "axes.grid(b = True, which = 'both', axis = 'both', color = 'gray', linestyle = '-', alpha = 0.5, linewidth = 0.5) \n",
    "axes.set_axis_bgcolor('white')  \n",
    "\n",
    "#font scpecifications\n",
    "title_font = {'family' : 'arial', 'color'  : 'black', 'weight' : 'heavy','size': 20}\n",
    "axis_label_font = {'family' : 'arial', 'color'  : 'black', 'weight' : 'normal','size': 20}\n",
    "\n",
    "#figure size and tick style\n",
    "plt.rcParams[\"figure.figsize\"] = [6,6]\n",
    "plt.rc('axes',edgecolor='black',linewidth=1)\n",
    "plt.tick_params(which='both', axis='both', color='black', length=4, width=0.5)\n",
    "plt.rcParams['xtick.direction'] = 'in'\n",
    "plt.rcParams['ytick.direction'] = 'in'\n",
    "\n",
    "#axis range and labels (also specify if log or not)\n",
    "plt.xlim(-0.8, 0.4)\n",
    "#plt.xscale('log')\n",
    "plt.ylim(-0.4, 0.6)\n",
    "plt.xlabel(r'Topic ' + str(feature_1), y=3, fontsize=20, fontdict = axis_label_font)\n",
    "plt.ylabel(r'Topic ' + str(feature_2), fontsize=20, fontdict = axis_label_font)\n",
    "\n",
    "#title and axis labels\n",
    "plt.tick_params(axis='both', labelsize=20)\n",
    "plt.title('Features', y=1.05, fontdict = title_font)\n",
    "\n",
    "#legend details\n",
    "legend = plt.legend(shadow = True, frameon = True, fancybox = False, ncol = 1, fontsize = 15, loc = 'lower left')\n",
    "frame = legend.get_frame()\n",
    "#frame.set_width(100)\n",
    "frame.set_facecolor('white')\n",
    "frame.set_edgecolor('black')\n",
    "\n",
    "plt.savefig('data/cv_and_roc_data/topics-adv_parse.png', bbox_inches='tight')\n",
    "    \n",
    "plt.show()"
   ]
  },
  {
   "cell_type": "markdown",
   "metadata": {},
   "source": [
    "Indeed, the topics match our intuition based on what tokens they contain! Topic 1 pulls out many non-disaster tweets from the \"clump\" near the origin while topic 9 does the same (though more weakly so) for disaster tweets. With hundreds of topics to work with, good separation is possible."
   ]
  },
  {
   "cell_type": "markdown",
   "metadata": {},
   "source": [
    "#To be continued..."
   ]
  },
  {
   "cell_type": "code",
   "execution_count": null,
   "metadata": {
    "collapsed": true
   },
   "outputs": [],
   "source": [
    "from numpy import log\n",
    "\n",
    "class Word_Splicer:\n",
    "\n",
    "    def __init__(self):\n",
    "        self.frequencies = {}\n",
    "        self.split_sequence_locker = {}\n",
    "\n",
    "    def make_freq(self, word_bank):\n",
    "        word_bank_L = [word for word in word_bank]\n",
    "        for token in word_bank_L:               \n",
    "            if token in self.frequencies:\n",
    "                self.frequencies[token] = self.frequencies[token] + 1.0\n",
    "            elif token.isalpha():\n",
    "                self.frequencies[token] = 1.0\n",
    "                \n",
    "    def log_freq(self, token):\n",
    "        if token in self.frequencies:\n",
    "            return log(self.frequencies[token])\n",
    "        elif token.isalpha() and len(token) < 3:\n",
    "            return -10.0\n",
    "        else:\n",
    "            return 0.0\n",
    "\n",
    "    def gen_sequence(self, num_splits, splits, max_pos):\n",
    "        if len(splits) == 0:\n",
    "            min_split = 1\n",
    "        else:\n",
    "            min_split = splits[-1] + 1\n",
    "\n",
    "        if len(splits) < num_splits:\n",
    "            for new_split in range(min_split, max_pos + 1):\n",
    "                splits_out = deepcopy(splits)\n",
    "                splits_out.append(new_split)\n",
    "                self.gen_sequence(num_splits, deepcopy(splits_out), max_pos)\n",
    "        else:\n",
    "            self.split_sequence_locker[(num_splits, max_pos)].append(splits)\n",
    "            \n",
    "    def break_tokens(self, conjoined_tokens, split_sequence):\n",
    "        broken_tokens = []\n",
    "        \n",
    "        split_h = split_sequence[0]\n",
    "        broken_tokens.append(conjoined_tokens[:split_h])\n",
    "        for i in range(0, len(split_sequence) - 1):\n",
    "            split_l = split_sequence[i]\n",
    "            split_h = split_sequence[i + 1]\n",
    "            broken_tokens.append(conjoined_tokens[split_l:split_h])   \n",
    "        split_l = split_sequence[-1]\n",
    "        broken_tokens.append(conjoined_tokens[split_l:])\n",
    "        \n",
    "        return broken_tokens\n",
    "        \n",
    "    def max_prob_split(self, conjoined_tokens, degree):\n",
    "        \n",
    "        max_pos = len(conjoined_tokens) - 1\n",
    "        \n",
    "        #max_proba = -1.0*(10.0**20.0)\n",
    "        max_proba = self.log_freq(conjoined_tokens)\n",
    "        max_broken_tokens = deepcopy(conjoined_tokens)\n",
    "        \n",
    "        #for num_splits in range(1, max_pos + 1):\n",
    "        for num_splits in range(1, degree + 1):\n",
    "            if (num_splits, max_pos) not in self.split_sequence_locker:\n",
    "                self.split_sequence_locker[(num_splits, max_pos)] = []\n",
    "                self.gen_sequence(num_splits, [], max_pos)\n",
    "                \n",
    "            for split_sequence in self.split_sequence_locker[(num_splits, max_pos)]:\n",
    "                broken_tokens = self.break_tokens(conjoined_tokens, split_sequence)\n",
    "                proba = sum([self.log_freq(token) for token in broken_tokens])\n",
    "                if (proba > max_proba):\n",
    "                    max_proba = proba\n",
    "                    max_broken_tokens = broken_tokens\n",
    "        \n",
    "        return max_broken_tokens"
   ]
  },
  {
   "cell_type": "code",
   "execution_count": null,
   "metadata": {
    "collapsed": true
   },
   "outputs": [],
   "source": []
  },
  {
   "cell_type": "code",
   "execution_count": 3,
   "metadata": {
    "collapsed": true
   },
   "outputs": [],
   "source": [
    "import re"
   ]
  },
  {
   "cell_type": "code",
   "execution_count": 2,
   "metadata": {
    "collapsed": true
   },
   "outputs": [],
   "source": [
    "def utf8_to_ascii(tweet):\n",
    "    utf8_hyphens = \"\\xe2\\x80\\x90 \\xe2\\x80\\x91 \\xe2\\x80\\x92 \\xe2\\x80\\x93 \\xe2\\x80\\x94\".split()\n",
    "    utf8_aposts = \"\\xe2\\x80\\x98 \\xe2\\x80\\x99 \\xe2\\x80\\x9b \\xe2\\x80\\xb2 \\xe2\\x80\\xb5\".split()\n",
    "    for utf8_hyphen in utf8_hyphens:\n",
    "        tweet = re.sub(utf8_hyphen, \"-\", tweet)\n",
    "    for utf8_apost in utf8_aposts:\n",
    "        tweet = re.sub(utf8_apost, \"-\", tweet)\n",
    "    return tweet"
   ]
  },
  {
   "cell_type": "code",
   "execution_count": 161,
   "metadata": {
    "collapsed": true
   },
   "outputs": [],
   "source": [
    "def hyphen_split(tweet):\n",
    "    split_tweet = re.sub(r'([a-zA-Z])-([a-zA-Z])', lambda m: '%s %s' % (m.groups()), tweet)\n",
    "    split_tweet = re.sub(r'(\\b)-([a-zA-Z])', lambda m: '%s %s' % (m.groups()), split_tweet)\n",
    "    split_tweet = re.sub(r'([a-zA-Z])-(\\b)', lambda m: '%s %s' % (m.groups()), split_tweet)\n",
    "    return split_tweet"
   ]
  },
  {
   "cell_type": "code",
   "execution_count": null,
   "metadata": {
    "collapsed": true
   },
   "outputs": [],
   "source": [
    "def special_tokens_pre_split(tweet):\n",
    "    phone_num = r'^(?:(?:\\+?1\\s*(?:[.-]\\s*)?)?(?:\\(\\s*([2-9]1[02-9]|[2-9][02-8]1|[2-9][02-8][02-9])\\s*\\)|([2-9]1[02-9]|[2-9][02-8]1|[2-9][02-8][02-9]))\\s*(?:[.-]\\s*)?)?([2-9]1[02-9]|[2-9][02-9]1|[2-9][02-9]{2})\\s*(?:[.-]\\s*)?([0-9]{4})(?:\\s*(?:#|x\\.?|ext\\.?|extension)\\s*(\\d+))?$'\n",
    "    token = re.sub(phone_num, \"|~phone_num~|\", token)"
   ]
  },
  {
   "cell_type": "code",
   "execution_count": 19,
   "metadata": {
    "collapsed": true
   },
   "outputs": [],
   "source": [
    "#apply after lowering case of tweets\n",
    "def special_tokens(split_tweet):    \n",
    "    \n",
    "    #regular expressions for the various special tokens\n",
    "    num = r'^[0-9,]+\\.?[0-9]*$'\n",
    "    num_alpha = r'^[a-z0-9]*(?:(?:[a-z][0-9])|(?:[0-9][a-z]))[a-z0-9]*$'\n",
    "    email = r'^[a-z0-9\\-\\.]+@[a-z0-9\\-\\.]+\\.[a-z]{2,3}$'\n",
    "    website = r'^[a-z0-9\\-\\./\\:]+\\.[a-z]{2,3}$'\n",
    "    num_alpha_other = r'^(?=.*[a-z])(?=.*[0-9])(?=.*[^a-z0-9]).*$'\n",
    "    units = r'''^(?:zero|one|two|three|four|five|six|seven|eight|nine|ten|eleven|twelve|thirteen|fourteen|fifteen|sixteen|seventeen|eighteen|nineteen)$'''\n",
    "    tens = r'^(?:twent|thirt|fort|fift|sixt|sevent|eight|ninet)[a-z]{1,3}$'\n",
    "    scales = r'^(?:hundred|thousand|million)[a-z]{0,1}$'\n",
    "    \n",
    "    #loop over tokens and attempt to replace (order can matter so change with caution)\n",
    "    split_tweet_mapped = []\n",
    "    for token in split_tweet:\n",
    "        token = re.sub(num, \"|~num~|\", token)\n",
    "        token = re.sub(num_alpha, \"|~num_alpha~|\", token)\n",
    "        token = re.sub(email, \"|~email~|\", token)\n",
    "        token = re.sub(website, \"|~website~|\", token)\n",
    "        token = re.sub(num_alpha_other, \"|~num_alpha_other~|\", token)\n",
    "        token = re.sub(units, \"|~units~|\", token)\n",
    "        token = re.sub(tens, \"|~tens~|\", token)\n",
    "        token = re.sub(scales, \"|~scales~|\", token)\n",
    "        \n",
    "        split_tweet_mapped.append(token)\n",
    "    \n",
    "    return split_tweet_mapped"
   ]
  },
  {
   "cell_type": "code",
   "execution_count": 19,
   "metadata": {
    "collapsed": true
   },
   "outputs": [],
   "source": [
    "#apply before lowering case of tweets\n",
    "def emoticon_token_map(split_tweet):    \n",
    "    #regular expressions for the various special tokens\n",
    "    standard_emoticon = r'^[<>]?[:;=8].?(?:([\\)\\]\\}>dDpP3])|([\\(\\[\\{<])|([\\\\/@])|([oO\\$]))$'\n",
    "    reversed_emoticon = r'^(?:([\\(\\[\\{<dDpP3])|([\\)\\]\\}>])|([\\\\/@])|([oO\\$])).?[:;=8][<>]?$'\n",
    "    #twitter_emojis = \n",
    "     \n",
    "    #loop over tokens and replace\n",
    "    split_tweet_mapped = []\n",
    "    for token in split_tweet:\n",
    "        match = re.search(standard_emoticon, token)\n",
    "        if not match:\n",
    "            match = re.search(reversed_emoticon, token)\n",
    "        if match:\n",
    "            if match.group(1):\n",
    "                split_tweet_mapped.append(\"|~happy~|\")\n",
    "            elif match.group(2):\n",
    "                split_tweet_mapped.append(\"|~sad~|\")\n",
    "            elif match.group(3):\n",
    "                split_tweet_mapped.append(\"|~angry~|\")\n",
    "            elif match.group(4):\n",
    "                split_tweet_mapped.append(\"|~suprised~|\")\n",
    "        else:\n",
    "            split_tweet_mapped.append(token)\n",
    "            \n",
    "    return split_tweet_mapped"
   ]
  },
  {
   "cell_type": "code",
   "execution_count": 35,
   "metadata": {
    "collapsed": false
   },
   "outputs": [
    {
     "data": {
      "text/plain": [
       "['|~suprised~|', '|~happy~|']"
      ]
     },
     "execution_count": 35,
     "metadata": {},
     "output_type": "execute_result"
    }
   ],
   "source": [
    "emoticon_token_map([\"O8\",\":)\"])"
   ]
  },
  {
   "cell_type": "code",
   "execution_count": 20,
   "metadata": {
    "collapsed": false
   },
   "outputs": [
    {
     "data": {
      "text/plain": [
       "['|~website~|',\n",
       " '|~num_alpha~|',\n",
       " '|~num~|',\n",
       " '|~email~|',\n",
       " '|~num_alpha_other~|',\n",
       " '|~scales~|',\n",
       " '+1 (585) 490-6971']"
      ]
     },
     "execution_count": 20,
     "metadata": {},
     "output_type": "execute_result"
    }
   ],
   "source": [
    "stringy = [\"www.google.com\", \"64yu\", \"68,8963989.99\", \"ryan.jadrich34@google.yahoo.com\", \"33hdg,hsy5\", \"millions\", \"+1 (585) 490-6971\"]\n",
    "special_tokens(stringy)    "
   ]
  },
  {
   "cell_type": "code",
   "execution_count": null,
   "metadata": {
    "collapsed": true
   },
   "outputs": [],
   "source": [
    " happy = \":) :D ;) :-) =) (: ;-) XD =D :P =] D: ;D :]\".split(\" \")\n",
    "    sad = \":( :-( =(\".split(\" \")\n",
    "    inert = \":/ :o =/\".split(\" \")"
   ]
  },
  {
   "cell_type": "code",
   "execution_count": 164,
   "metadata": {
    "collapsed": false
   },
   "outputs": [
    {
     "data": {
      "text/plain": [
       "' -tweet me now- 585-490-6971'"
      ]
     },
     "execution_count": 164,
     "metadata": {},
     "output_type": "execute_result"
    }
   ],
   "source": [
    "hyphen_split(\" -tweet-me-now- 585-490-6971\")"
   ]
  },
  {
   "cell_type": "code",
   "execution_count": 170,
   "metadata": {
    "collapsed": true
   },
   "outputs": [],
   "source": [
    "def mixed_tokens(tweet):    \n",
    "    num = r'[\\s\\n\\r\\t\\f]+[0-9,]+[\\s\\n\\r\\t\\f]+'\n",
    "    num_alpha = r'[\\s\\n\\r\\t\\f]+[a-z0-9]*[a-z]+[a-z0-9]*[0-9]+[\\s\\n\\r\\t\\f]+'\n",
    "    \n",
    "    tweet = re.sub(num, \" |~num~| \", tweet)\n",
    "    tweet = re.sub(num_alpha, \" |~num_alpha~| \", tweet)\n",
    "    \n",
    "    return tweet"
   ]
  },
  {
   "cell_type": "code",
   "execution_count": 230,
   "metadata": {
    "collapsed": false
   },
   "outputs": [
    {
     "data": {
      "text/plain": [
       "'|~num~|'"
      ]
     },
     "execution_count": 230,
     "metadata": {},
     "output_type": "execute_result"
    }
   ],
   "source": [
    "mixed_tokens(\"657657\")"
   ]
  },
  {
   "cell_type": "code",
   "execution_count": 226,
   "metadata": {
    "collapsed": true
   },
   "outputs": [],
   "source": [
    "def mixed_tokens(tweet):    \n",
    "    num = r'^[0-9,]+'\n",
    "    num_alpha = r'^[a-z0-9]*[a-z][0-9]$[a-z0-9]*'\n",
    "    website = r''\n",
    "    \n",
    "    \n",
    "    tweet = re.sub(num, \"|~num~|\", tweet)\n",
    "    tweet = re.sub(num_alpha, \"|~num_alpha~|\", tweet)\n",
    "    \n",
    "    return tweet"
   ]
  },
  {
   "cell_type": "code",
   "execution_count": null,
   "metadata": {
    "collapsed": true
   },
   "outputs": [],
   "source": [
    "bob24 35gt jju78%"
   ]
  },
  {
   "cell_type": "code",
   "execution_count": 37,
   "metadata": {
    "collapsed": false
   },
   "outputs": [
    {
     "data": {
      "text/plain": [
       "(' tim hh6 6654', 1)"
      ]
     },
     "execution_count": 37,
     "metadata": {},
     "output_type": "execute_result"
    }
   ],
   "source": [
    "re.subn(r'[\\s\\n\\r\\t\\f]+[\\w\\d]+[\\s\\n\\r\\t\\f]+', \" tim \", \" bob24 hh6 6654\")"
   ]
  },
  {
   "cell_type": "code",
   "execution_count": 12,
   "metadata": {
    "collapsed": false
   },
   "outputs": [
    {
     "data": {
      "text/plain": [
       "['12', '45', '55', 'bob24', '35gt', 'jju78']"
      ]
     },
     "execution_count": 12,
     "metadata": {},
     "output_type": "execute_result"
    }
   ],
   "source": [
    "re.findall(r'[\\w\\d]+', \"12,45,55 bob24 35gt jju78%\")"
   ]
  },
  {
   "cell_type": "code",
   "execution_count": 36,
   "metadata": {
    "collapsed": false
   },
   "outputs": [
    {
     "data": {
      "text/plain": [
       "['gt']"
      ]
     },
     "execution_count": 36,
     "metadata": {},
     "output_type": "execute_result"
    }
   ],
   "source": [
    "#[A-Za-z']+(?=,)\n",
    " \n",
    "re.findall(r'[A-Za-z]+(?=[\\s\\n\\r\\t\\f])', \"12,45,55 bob24 35gt jju78%\") "
   ]
  },
  {
   "cell_type": "code",
   "execution_count": 34,
   "metadata": {
    "collapsed": true
   },
   "outputs": [],
   "source": [
    "def mixed_tokens(tweet):    \n",
    "    num = r'\\b[\\d,]+\\b'\n",
    "    num_alpha = r'\\b\\w+\\b'\n",
    "    \n",
    "    tweet = re.sub(num_alpha, \"|num_alpha|\", tweet)\n",
    "    tweet = re.sub(num, \"|num|\", tweet)\n",
    "    \n",
    "    return tweet"
   ]
  },
  {
   "cell_type": "code",
   "execution_count": 110,
   "metadata": {
    "collapsed": true
   },
   "outputs": [],
   "source": [
    "def mixed_tokens(tweet):    \n",
    "    num = r'\\b[0-9,]+\\b'\n",
    "    num_alpha = r'[\\s\\n\\r\\t\\f]+[\\w\\d]+[\\s\\n\\r\\t\\f]+'\n",
    "    \n",
    "    tweet = re.sub(num, \" |~num~| \", tweet)\n",
    "    tweet = re.sub(num_alpha, \" |~num_alpha~| \", tweet)\n",
    "    \n",
    "    return tweet"
   ]
  },
  {
   "cell_type": "code",
   "execution_count": 138,
   "metadata": {
    "collapsed": true
   },
   "outputs": [],
   "source": [
    "def mixed_tokens(token):\n",
    "    num = r'\\b[0-9,]+\\b'\n",
    "    num_alpha = r'\\b(?=.*[a-z])(?=.*[0-9])\\b'\n",
    "    \n",
    "    \n",
    "    \n",
    "    #token = re.sub(num, \"|~num~|\", token)\n",
    "    token = re.sub(num_alpha, \"|~num_alpha~|\", token)\n",
    "    \n",
    "    return token"
   ]
  },
  {
   "cell_type": "code",
   "execution_count": 139,
   "metadata": {
    "collapsed": false
   },
   "outputs": [
    {
     "data": {
      "text/plain": [
       "'|~num_alpha~|666www124555'"
      ]
     },
     "execution_count": 139,
     "metadata": {},
     "output_type": "execute_result"
    }
   ],
   "source": [
    "mixed_tokens(\"666www124555\")"
   ]
  },
  {
   "cell_type": "code",
   "execution_count": 9,
   "metadata": {
    "collapsed": true
   },
   "outputs": [],
   "source": [
    "#apply after lowering case of tweets\n",
    "def special_tokens(tweet):    \n",
    "    \n",
    "    #regular expressions for the various special tokens\n",
    "    email = r'\\b[a-z0-9\\-\\.]+@[a-z0-9\\-\\.]+\\.[a-z]{2,3}\\b'\n",
    "    website = r'[^][a-z0-9\\-\\./\\:]+\\.[a-z]{2,3}\\b'\n",
    "    num = r'\\b[0-9,]+\\.?[0-9]*\\b'\n",
    "    num_alpha = r'\\b[a-z0-9]*(?:(?:[a-z][0-9])|(?:[0-9][a-z]))[a-z0-9]*\\b'\n",
    "    num_alpha_other = r'\\b(?=[^\\s]*[a-z])(?=[^\\s]*[0-9])(?=[^\\s]*[^a-z0-9\\s])[^\\s]*\\b'\n",
    "    units = r'''\\b(?:zero|one|two|three|four|five|six|seven|eight|nine|ten|eleven|twelve|thirteen|fourteen|fifteen|sixteen|seventeen|eighteen|nineteen)\\b'''\n",
    "    tens = r'\\b(?:twent|thirt|fort|fift|sixt|sevent|eight|ninet)[a-z]{1,3}\\b'\n",
    "    scales = r'\\b(?:hundred|thousand|million)[a-z]{0,1}\\b'\n",
    "    phone_num = r'\\b(?:(?:\\+?1\\s*(?:[.-]\\s*)?)?(?:\\(\\s*([2-9]1[02-9]|[2-9][02-8]1|[2-9][02-8][02-9])\\s*\\)|([2-9]1[02-9]|[2-9][02-8]1|[2-9][02-8][02-9]))\\s*(?:[.-]\\s*)?)?([2-9]1[02-9]|[2-9][02-9]1|[2-9][02-9]{2})\\s*(?:[.-]\\s*)?([0-9]{4})(?:\\s*(?:#|x\\.?|ext\\.?|extension)\\s*(\\d+))?\\b'\n",
    "    \n",
    "    tweet_mapped = re.sub(phone_num, \"|~phone_num~|\", tweet)\n",
    "    tweet_mapped = re.sub(email, \"|~email~|\", tweet_mapped)\n",
    "    tweet_mapped = re.sub(website, \"|~website~|\", tweet_mapped)\n",
    "    tweet_mapped = re.sub(num, \"|~num~|\", tweet_mapped)\n",
    "    tweet_mapped = re.sub(num_alpha, \"|~num_alpha~|\", tweet_mapped)\n",
    "    tweet_mapped = re.sub(num_alpha_other, \"|~num_alpha_other~|\", tweet_mapped)\n",
    "    tweet_mapped = re.sub(units, \"|~units~|\", tweet_mapped)\n",
    "    tweet_mapped = re.sub(tens, \"|~tens~|\", tweet_mapped)\n",
    "    tweet_mapped = re.sub(scales, \"|~scales~|\", tweet_mapped)\n",
    "    \n",
    "    return tweet_mapped"
   ]
  },
  {
   "cell_type": "code",
   "execution_count": 10,
   "metadata": {
    "collapsed": false
   },
   "outputs": [
    {
     "data": {
      "text/plain": [
       "'www.yahoobb.com |~num_alpha~| |~num~|,|~phone_num~|.|~num~| steve is an idiot www.google.com |~email~| |~email~| |~num_alpha~||~num~||~num_alpha~| |~scales~| |~scales~| (|~num~|) |~phone_num~| my name is wazzup |~num_alpha~|-sg'"
      ]
     },
     "execution_count": 10,
     "metadata": {},
     "output_type": "execute_result"
    }
   ],
   "source": [
    "tweet = \"www.yahoobb.com 64yu 68,8963989.99 steve is an idiot www.google.com ryan.jadrich34@google.yahoo.com bob@yahoo.com 33hdg,hsy5 millions hundreds (585) 490-6971 my name is wazzup 5535gsg7-sg\"\n",
    "special_tokens(tweet)"
   ]
  },
  {
   "cell_type": "code",
   "execution_count": 253,
   "metadata": {
    "collapsed": false
   },
   "outputs": [
    {
     "data": {
      "text/plain": [
       "'|~website~| |~email~|'"
      ]
     },
     "execution_count": 253,
     "metadata": {},
     "output_type": "execute_result"
    }
   ],
   "source": [
    "tweet = \"yahoo.goog.com bob@gmail.com\"\n",
    "special_tokens(tweet)"
   ]
  },
  {
   "cell_type": "code",
   "execution_count": 22,
   "metadata": {
    "collapsed": false
   },
   "outputs": [
    {
     "ename": "AttributeError",
     "evalue": "'list' object has no attribute 'join'",
     "output_type": "error",
     "traceback": [
      "\u001b[1;31m---------------------------------------------------------------------------\u001b[0m",
      "\u001b[1;31mAttributeError\u001b[0m                            Traceback (most recent call last)",
      "\u001b[1;32m<ipython-input-22-32c367db24e1>\u001b[0m in \u001b[0;36m<module>\u001b[1;34m()\u001b[0m\n\u001b[1;32m----> 1\u001b[1;33m \u001b[1;33m[\u001b[0m\u001b[1;34mr'\\)'\u001b[0m\u001b[1;33m,\u001b[0m \u001b[1;34mr'\\]'\u001b[0m\u001b[1;33m,\u001b[0m \u001b[1;34mr'd'\u001b[0m\u001b[1;33m,\u001b[0m \u001b[1;34mr'D'\u001b[0m\u001b[1;33m,\u001b[0m \u001b[1;34mr'p'\u001b[0m\u001b[1;33m,\u001b[0m \u001b[1;34mr'P'\u001b[0m\u001b[1;33m,\u001b[0m \u001b[1;34mr'\\}'\u001b[0m\u001b[1;33m]\u001b[0m\u001b[1;33m.\u001b[0m\u001b[0mjoin\u001b[0m\u001b[1;33m(\u001b[0m\u001b[1;33m)\u001b[0m\u001b[1;33m\u001b[0m\u001b[0m\n\u001b[0m",
      "\u001b[1;31mAttributeError\u001b[0m: 'list' object has no attribute 'join'"
     ]
    }
   ],
   "source": [
    "[r'\\)', r'\\]', r'd', r'D', r'p', r'P', r'\\}'].join()"
   ]
  },
  {
   "cell_type": "code",
   "execution_count": null,
   "metadata": {
    "collapsed": true
   },
   "outputs": [],
   "source": []
  }
 ],
 "metadata": {
  "kernelspec": {
   "display_name": "Python 2",
   "language": "python",
   "name": "python2"
  },
  "language_info": {
   "codemirror_mode": {
    "name": "ipython",
    "version": 2
   },
   "file_extension": ".py",
   "mimetype": "text/x-python",
   "name": "python",
   "nbconvert_exporter": "python",
   "pygments_lexer": "ipython2",
   "version": "2.7.10"
  }
 },
 "nbformat": 4,
 "nbformat_minor": 0
}
