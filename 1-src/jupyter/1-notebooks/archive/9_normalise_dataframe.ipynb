{
 "cells": [
  {
   "cell_type": "code",
   "execution_count": 1,
   "metadata": {},
   "outputs": [],
   "source": [
    "import pandas as pd\n",
    "import numpy as np"
   ]
  },
  {
   "cell_type": "code",
   "execution_count": 2,
   "metadata": {},
   "outputs": [],
   "source": [
    "run = \"before_selection\" # before_selection"
   ]
  },
  {
   "cell_type": "code",
   "execution_count": null,
   "metadata": {},
   "outputs": [],
   "source": []
  },
  {
   "cell_type": "markdown",
   "metadata": {},
   "source": [
    "# Merge\n",
    "\n",
    "This notebook merges the information types, topics and ground truth set.\n",
    "\n",
    "Outputs:\n",
    "- `df_int.csv`\n",
    "- `df_char.csv`"
   ]
  },
  {
   "cell_type": "code",
   "execution_count": 3,
   "metadata": {},
   "outputs": [],
   "source": [
    "def clean_dataset_char(df):\n",
    "    df = df.loc[:, ~df.columns.str.contains('^Unnamed')]\n",
    "    #df.dropna(inplace=True)\n",
    "    return df\n",
    "\n",
    "\n",
    "def clean_dataset_int(df):\n",
    "    #df = df.loc[:, ~df.columns.str.contains('^Unnamed')]\n",
    "    #    df.round()\n",
    "    df.replace(np.nan,0)\n",
    "    indices_to_keep = ~df.isin([np.nan, np.inf, -np.inf]).any(1)\n",
    "    df.astype(int)\n",
    "    df = df.replace(r'\\D+', '', regex=True)\n",
    "    return df[indices_to_keep].astype(np.float64)"
   ]
  },
  {
   "cell_type": "code",
   "execution_count": 4,
   "metadata": {},
   "outputs": [
    {
     "data": {
      "text/html": [
       "<div>\n",
       "<style scoped>\n",
       "    .dataframe tbody tr th:only-of-type {\n",
       "        vertical-align: middle;\n",
       "    }\n",
       "\n",
       "    .dataframe tbody tr th {\n",
       "        vertical-align: top;\n",
       "    }\n",
       "\n",
       "    .dataframe thead th {\n",
       "        text-align: right;\n",
       "    }\n",
       "</style>\n",
       "<table border=\"1\" class=\"dataframe\">\n",
       "  <thead>\n",
       "    <tr style=\"text-align: right;\">\n",
       "      <th></th>\n",
       "      <th>tweet_id</th>\n",
       "      <th>priority</th>\n",
       "      <th>category</th>\n",
       "      <th>postCategories_x</th>\n",
       "      <th>eventID</th>\n",
       "      <th>eventType</th>\n",
       "    </tr>\n",
       "  </thead>\n",
       "  <tbody>\n",
       "    <tr>\n",
       "      <th>0</th>\n",
       "      <td>1128285482784366592</td>\n",
       "      <td>0.75</td>\n",
       "      <td>location</td>\n",
       "      <td>12</td>\n",
       "      <td>papuaNewguineaEarthquake2020</td>\n",
       "      <td>Unknown</td>\n",
       "    </tr>\n",
       "    <tr>\n",
       "      <th>1</th>\n",
       "      <td>1128285482784366592</td>\n",
       "      <td>0.75</td>\n",
       "      <td>factoid</td>\n",
       "      <td>12</td>\n",
       "      <td>papuaNewguineaEarthquake2020</td>\n",
       "      <td>Unknown</td>\n",
       "    </tr>\n",
       "    <tr>\n",
       "      <th>2</th>\n",
       "      <td>1128285665186197504</td>\n",
       "      <td>0.25</td>\n",
       "      <td>location</td>\n",
       "      <td>12</td>\n",
       "      <td>papuaNewguineaEarthquake2020</td>\n",
       "      <td>Unknown</td>\n",
       "    </tr>\n",
       "    <tr>\n",
       "      <th>3</th>\n",
       "      <td>1128285665186197504</td>\n",
       "      <td>0.25</td>\n",
       "      <td>factoid</td>\n",
       "      <td>12</td>\n",
       "      <td>papuaNewguineaEarthquake2020</td>\n",
       "      <td>Unknown</td>\n",
       "    </tr>\n",
       "    <tr>\n",
       "      <th>4</th>\n",
       "      <td>1128285665186197504</td>\n",
       "      <td>0.25</td>\n",
       "      <td>hashtags</td>\n",
       "      <td>12</td>\n",
       "      <td>papuaNewguineaEarthquake2020</td>\n",
       "      <td>Unknown</td>\n",
       "    </tr>\n",
       "  </tbody>\n",
       "</table>\n",
       "</div>"
      ],
      "text/plain": [
       "              tweet_id  priority  category  postCategories_x  \\\n",
       "0  1128285482784366592      0.75  location                12   \n",
       "1  1128285482784366592      0.75   factoid                12   \n",
       "2  1128285665186197504      0.25  location                12   \n",
       "3  1128285665186197504      0.25   factoid                12   \n",
       "4  1128285665186197504      0.25  hashtags                12   \n",
       "\n",
       "                        eventID eventType  \n",
       "0  papuaNewguineaEarthquake2020   Unknown  \n",
       "1  papuaNewguineaEarthquake2020   Unknown  \n",
       "2  papuaNewguineaEarthquake2020   Unknown  \n",
       "3  papuaNewguineaEarthquake2020   Unknown  \n",
       "4  papuaNewguineaEarthquake2020   Unknown  "
      ]
     },
     "execution_count": 4,
     "metadata": {},
     "output_type": "execute_result"
    }
   ],
   "source": [
    "# Labelled Tweets\n",
    "\n",
    "# Output of Load Dataset\n",
    "dataset_labelled = pd.read_csv(\"dataset_labelled_tweets.csv\")\n",
    "dataset_labelled['category'] = dataset_labelled['category'].str.lower()\n",
    "dataset_labelled.head()\n",
    "\n"
   ]
  },
  {
   "cell_type": "code",
   "execution_count": 5,
   "metadata": {},
   "outputs": [
    {
     "data": {
      "text/html": [
       "<div>\n",
       "<style scoped>\n",
       "    .dataframe tbody tr th:only-of-type {\n",
       "        vertical-align: middle;\n",
       "    }\n",
       "\n",
       "    .dataframe tbody tr th {\n",
       "        vertical-align: top;\n",
       "    }\n",
       "\n",
       "    .dataframe thead th {\n",
       "        text-align: right;\n",
       "    }\n",
       "</style>\n",
       "<table border=\"1\" class=\"dataframe\">\n",
       "  <thead>\n",
       "    <tr style=\"text-align: right;\">\n",
       "      <th></th>\n",
       "      <th>0</th>\n",
       "      <th>1</th>\n",
       "      <th>2</th>\n",
       "      <th>3</th>\n",
       "      <th>4</th>\n",
       "      <th>5</th>\n",
       "      <th>6</th>\n",
       "      <th>7</th>\n",
       "      <th>8</th>\n",
       "      <th>9</th>\n",
       "      <th>...</th>\n",
       "      <th>16</th>\n",
       "      <th>17</th>\n",
       "      <th>18</th>\n",
       "      <th>19</th>\n",
       "      <th>20</th>\n",
       "      <th>21</th>\n",
       "      <th>22</th>\n",
       "      <th>23</th>\n",
       "      <th>24</th>\n",
       "      <th>25</th>\n",
       "    </tr>\n",
       "  </thead>\n",
       "  <tbody>\n",
       "    <tr>\n",
       "      <th>0</th>\n",
       "      <td>[1.565105509E12,</td>\n",
       "      <td>1.15876260841501082E18,</td>\n",
       "      <td>3.0,</td>\n",
       "      <td>19.0,</td>\n",
       "      <td>0.0,</td>\n",
       "      <td>0.0,</td>\n",
       "      <td>0.0,</td>\n",
       "      <td>0.0,</td>\n",
       "      <td>0.0,</td>\n",
       "      <td>0.0,</td>\n",
       "      <td>...</td>\n",
       "      <td>0.0,</td>\n",
       "      <td>68.0,</td>\n",
       "      <td>1592.0,</td>\n",
       "      <td>523.0,</td>\n",
       "      <td>0.0,</td>\n",
       "      <td>94.0,</td>\n",
       "      <td>0.0,</td>\n",
       "      <td>20.0,</td>\n",
       "      <td>11.109999656677246,</td>\n",
       "      <td>14.289999961853027]</td>\n",
       "    </tr>\n",
       "    <tr>\n",
       "      <th>1</th>\n",
       "      <td>[1.565105286E12,</td>\n",
       "      <td>1.15876167494759629E18,</td>\n",
       "      <td>9.0,</td>\n",
       "      <td>28.0,</td>\n",
       "      <td>0.0,</td>\n",
       "      <td>0.0,</td>\n",
       "      <td>0.0,</td>\n",
       "      <td>0.0,</td>\n",
       "      <td>0.0,</td>\n",
       "      <td>0.0,</td>\n",
       "      <td>...</td>\n",
       "      <td>0.0,</td>\n",
       "      <td>70.0,</td>\n",
       "      <td>33.0,</td>\n",
       "      <td>0.0,</td>\n",
       "      <td>0.0,</td>\n",
       "      <td>4.0,</td>\n",
       "      <td>0.0,</td>\n",
       "      <td>16.670000076293945,</td>\n",
       "      <td>11.109999656677246,</td>\n",
       "      <td>13.329999923706055]</td>\n",
       "    </tr>\n",
       "    <tr>\n",
       "      <th>2</th>\n",
       "      <td>[1.565104871E12,</td>\n",
       "      <td>1.15875993376617677E18,</td>\n",
       "      <td>5.0,</td>\n",
       "      <td>37.0,</td>\n",
       "      <td>0.0,</td>\n",
       "      <td>0.0,</td>\n",
       "      <td>0.0,</td>\n",
       "      <td>0.0,</td>\n",
       "      <td>0.0,</td>\n",
       "      <td>0.0,</td>\n",
       "      <td>...</td>\n",
       "      <td>0.0,</td>\n",
       "      <td>57.0,</td>\n",
       "      <td>220.0,</td>\n",
       "      <td>61.0,</td>\n",
       "      <td>0.0,</td>\n",
       "      <td>3.0,</td>\n",
       "      <td>0.0,</td>\n",
       "      <td>33.33000183105469,</td>\n",
       "      <td>22.219999313354492,</td>\n",
       "      <td>26.670000076293945]</td>\n",
       "    </tr>\n",
       "    <tr>\n",
       "      <th>3</th>\n",
       "      <td>[1.565104726E12,</td>\n",
       "      <td>1.15875932609122714E18,</td>\n",
       "      <td>7.0,</td>\n",
       "      <td>47.0,</td>\n",
       "      <td>0.0,</td>\n",
       "      <td>0.0,</td>\n",
       "      <td>0.0,</td>\n",
       "      <td>0.0,</td>\n",
       "      <td>0.0,</td>\n",
       "      <td>0.0,</td>\n",
       "      <td>...</td>\n",
       "      <td>0.0,</td>\n",
       "      <td>80.0,</td>\n",
       "      <td>106.0,</td>\n",
       "      <td>124.0,</td>\n",
       "      <td>0.0,</td>\n",
       "      <td>0.0,</td>\n",
       "      <td>0.0,</td>\n",
       "      <td>22.219999313354492,</td>\n",
       "      <td>22.219999313354492,</td>\n",
       "      <td>22.219999313354492]</td>\n",
       "    </tr>\n",
       "    <tr>\n",
       "      <th>4</th>\n",
       "      <td>[1.565104678E12,</td>\n",
       "      <td>1.1587591256033239E18,</td>\n",
       "      <td>3.0,</td>\n",
       "      <td>65.0,</td>\n",
       "      <td>0.0,</td>\n",
       "      <td>0.0,</td>\n",
       "      <td>0.0,</td>\n",
       "      <td>0.0,</td>\n",
       "      <td>0.0,</td>\n",
       "      <td>0.0,</td>\n",
       "      <td>...</td>\n",
       "      <td>0.0,</td>\n",
       "      <td>57.0,</td>\n",
       "      <td>550.0,</td>\n",
       "      <td>720.0,</td>\n",
       "      <td>0.0,</td>\n",
       "      <td>7.0,</td>\n",
       "      <td>0.0,</td>\n",
       "      <td>14.289999961853027,</td>\n",
       "      <td>11.109999656677246,</td>\n",
       "      <td>12.5]</td>\n",
       "    </tr>\n",
       "  </tbody>\n",
       "</table>\n",
       "<p>5 rows × 26 columns</p>\n",
       "</div>"
      ],
      "text/plain": [
       "                 0                        1     2      3     4     5     6   \\\n",
       "0  [1.565105509E12,  1.15876260841501082E18,  3.0,  19.0,  0.0,  0.0,  0.0,   \n",
       "1  [1.565105286E12,  1.15876167494759629E18,  9.0,  28.0,  0.0,  0.0,  0.0,   \n",
       "2  [1.565104871E12,  1.15875993376617677E18,  5.0,  37.0,  0.0,  0.0,  0.0,   \n",
       "3  [1.565104726E12,  1.15875932609122714E18,  7.0,  47.0,  0.0,  0.0,  0.0,   \n",
       "4  [1.565104678E12,   1.1587591256033239E18,  3.0,  65.0,  0.0,  0.0,  0.0,   \n",
       "\n",
       "     7     8     9   ...    16     17       18      19    20     21    22  \\\n",
       "0  0.0,  0.0,  0.0,  ...  0.0,  68.0,  1592.0,  523.0,  0.0,  94.0,  0.0,   \n",
       "1  0.0,  0.0,  0.0,  ...  0.0,  70.0,    33.0,    0.0,  0.0,   4.0,  0.0,   \n",
       "2  0.0,  0.0,  0.0,  ...  0.0,  57.0,   220.0,   61.0,  0.0,   3.0,  0.0,   \n",
       "3  0.0,  0.0,  0.0,  ...  0.0,  80.0,   106.0,  124.0,  0.0,   0.0,  0.0,   \n",
       "4  0.0,  0.0,  0.0,  ...  0.0,  57.0,   550.0,  720.0,  0.0,   7.0,  0.0,   \n",
       "\n",
       "                    23                   24                   25  \n",
       "0                20.0,  11.109999656677246,  14.289999961853027]  \n",
       "1  16.670000076293945,  11.109999656677246,  13.329999923706055]  \n",
       "2   33.33000183105469,  22.219999313354492,  26.670000076293945]  \n",
       "3  22.219999313354492,  22.219999313354492,  22.219999313354492]  \n",
       "4  14.289999961853027,  11.109999656677246,                12.5]  \n",
       "\n",
       "[5 rows x 26 columns]"
      ]
     },
     "execution_count": 5,
     "metadata": {},
     "output_type": "execute_result"
    }
   ],
   "source": [
    "# Reload the data to check everythings went alright\n",
    "df = pd.read_csv('../../' + run + '.txt', sep=\" \", header=None)\n",
    "\n",
    "\n",
    "# Timestamp will need to be reconfigured as index on each load\n",
    "#df = df.set_index('timestamp')\n",
    "df.apply(lambda col:pd.to_numeric(col, errors='coerce'))\n",
    "\n",
    "#df = clean_dataset_int(df)\n",
    "#df = np.array(df, dtype=float)\n",
    "\n",
    "df.head()\n"
   ]
  },
  {
   "cell_type": "code",
   "execution_count": 6,
   "metadata": {},
   "outputs": [
    {
     "ename": "KeyError",
     "evalue": "'tweet_id'",
     "output_type": "error",
     "traceback": [
      "\u001b[0;31m---------------------------------------------------------------------------\u001b[0m",
      "\u001b[0;31mKeyError\u001b[0m                                  Traceback (most recent call last)",
      "\u001b[0;32m<ipython-input-6-d44384e7b635>\u001b[0m in \u001b[0;36m<module>\u001b[0;34m\u001b[0m\n\u001b[1;32m      1\u001b[0m \u001b[0;32mfrom\u001b[0m \u001b[0mfunctools\u001b[0m \u001b[0;32mimport\u001b[0m \u001b[0mreduce\u001b[0m\u001b[0;34m\u001b[0m\u001b[0;34m\u001b[0m\u001b[0m\n\u001b[1;32m      2\u001b[0m \u001b[0mdfs\u001b[0m \u001b[0;34m=\u001b[0m \u001b[0;34m[\u001b[0m\u001b[0mdataset_labelled\u001b[0m\u001b[0;34m,\u001b[0m \u001b[0mdf\u001b[0m\u001b[0;34m]\u001b[0m\u001b[0;34m\u001b[0m\u001b[0;34m\u001b[0m\u001b[0m\n\u001b[0;32m----> 3\u001b[0;31m \u001b[0mdf_final\u001b[0m \u001b[0;34m=\u001b[0m \u001b[0mreduce\u001b[0m\u001b[0;34m(\u001b[0m\u001b[0;32mlambda\u001b[0m \u001b[0mleft\u001b[0m\u001b[0;34m,\u001b[0m\u001b[0mright\u001b[0m\u001b[0;34m:\u001b[0m \u001b[0mpd\u001b[0m\u001b[0;34m.\u001b[0m\u001b[0mmerge\u001b[0m\u001b[0;34m(\u001b[0m\u001b[0mleft\u001b[0m\u001b[0;34m,\u001b[0m\u001b[0mright\u001b[0m\u001b[0;34m,\u001b[0m\u001b[0mon\u001b[0m\u001b[0;34m=\u001b[0m\u001b[0;34m'tweet_id'\u001b[0m\u001b[0;34m)\u001b[0m\u001b[0;34m,\u001b[0m \u001b[0mdfs\u001b[0m\u001b[0;34m)\u001b[0m\u001b[0;34m\u001b[0m\u001b[0;34m\u001b[0m\u001b[0m\n\u001b[0m\u001b[1;32m      4\u001b[0m \u001b[0mdf_final\u001b[0m\u001b[0;34m\u001b[0m\u001b[0;34m\u001b[0m\u001b[0m\n",
      "\u001b[0;32m<ipython-input-6-d44384e7b635>\u001b[0m in \u001b[0;36m<lambda>\u001b[0;34m(left, right)\u001b[0m\n\u001b[1;32m      1\u001b[0m \u001b[0;32mfrom\u001b[0m \u001b[0mfunctools\u001b[0m \u001b[0;32mimport\u001b[0m \u001b[0mreduce\u001b[0m\u001b[0;34m\u001b[0m\u001b[0;34m\u001b[0m\u001b[0m\n\u001b[1;32m      2\u001b[0m \u001b[0mdfs\u001b[0m \u001b[0;34m=\u001b[0m \u001b[0;34m[\u001b[0m\u001b[0mdataset_labelled\u001b[0m\u001b[0;34m,\u001b[0m \u001b[0mdf\u001b[0m\u001b[0;34m]\u001b[0m\u001b[0;34m\u001b[0m\u001b[0;34m\u001b[0m\u001b[0m\n\u001b[0;32m----> 3\u001b[0;31m \u001b[0mdf_final\u001b[0m \u001b[0;34m=\u001b[0m \u001b[0mreduce\u001b[0m\u001b[0;34m(\u001b[0m\u001b[0;32mlambda\u001b[0m \u001b[0mleft\u001b[0m\u001b[0;34m,\u001b[0m\u001b[0mright\u001b[0m\u001b[0;34m:\u001b[0m \u001b[0mpd\u001b[0m\u001b[0;34m.\u001b[0m\u001b[0mmerge\u001b[0m\u001b[0;34m(\u001b[0m\u001b[0mleft\u001b[0m\u001b[0;34m,\u001b[0m\u001b[0mright\u001b[0m\u001b[0;34m,\u001b[0m\u001b[0mon\u001b[0m\u001b[0;34m=\u001b[0m\u001b[0;34m'tweet_id'\u001b[0m\u001b[0;34m)\u001b[0m\u001b[0;34m,\u001b[0m \u001b[0mdfs\u001b[0m\u001b[0;34m)\u001b[0m\u001b[0;34m\u001b[0m\u001b[0;34m\u001b[0m\u001b[0m\n\u001b[0m\u001b[1;32m      4\u001b[0m \u001b[0mdf_final\u001b[0m\u001b[0;34m\u001b[0m\u001b[0;34m\u001b[0m\u001b[0m\n",
      "\u001b[0;32m/opt/anaconda3/lib/python3.8/site-packages/pandas/core/reshape/merge.py\u001b[0m in \u001b[0;36mmerge\u001b[0;34m(left, right, how, on, left_on, right_on, left_index, right_index, sort, suffixes, copy, indicator, validate)\u001b[0m\n\u001b[1;32m     72\u001b[0m     \u001b[0mvalidate\u001b[0m\u001b[0;34m=\u001b[0m\u001b[0;32mNone\u001b[0m\u001b[0;34m,\u001b[0m\u001b[0;34m\u001b[0m\u001b[0;34m\u001b[0m\u001b[0m\n\u001b[1;32m     73\u001b[0m ) -> \"DataFrame\":\n\u001b[0;32m---> 74\u001b[0;31m     op = _MergeOperation(\n\u001b[0m\u001b[1;32m     75\u001b[0m         \u001b[0mleft\u001b[0m\u001b[0;34m,\u001b[0m\u001b[0;34m\u001b[0m\u001b[0;34m\u001b[0m\u001b[0m\n\u001b[1;32m     76\u001b[0m         \u001b[0mright\u001b[0m\u001b[0;34m,\u001b[0m\u001b[0;34m\u001b[0m\u001b[0;34m\u001b[0m\u001b[0m\n",
      "\u001b[0;32m/opt/anaconda3/lib/python3.8/site-packages/pandas/core/reshape/merge.py\u001b[0m in \u001b[0;36m__init__\u001b[0;34m(self, left, right, how, on, left_on, right_on, axis, left_index, right_index, sort, suffixes, copy, indicator, validate)\u001b[0m\n\u001b[1;32m    650\u001b[0m             \u001b[0mself\u001b[0m\u001b[0;34m.\u001b[0m\u001b[0mright_join_keys\u001b[0m\u001b[0;34m,\u001b[0m\u001b[0;34m\u001b[0m\u001b[0;34m\u001b[0m\u001b[0m\n\u001b[1;32m    651\u001b[0m             \u001b[0mself\u001b[0m\u001b[0;34m.\u001b[0m\u001b[0mjoin_names\u001b[0m\u001b[0;34m,\u001b[0m\u001b[0;34m\u001b[0m\u001b[0;34m\u001b[0m\u001b[0m\n\u001b[0;32m--> 652\u001b[0;31m         ) = self._get_merge_keys()\n\u001b[0m\u001b[1;32m    653\u001b[0m \u001b[0;34m\u001b[0m\u001b[0m\n\u001b[1;32m    654\u001b[0m         \u001b[0;31m# validate the merge keys dtypes. We may need to coerce\u001b[0m\u001b[0;34m\u001b[0m\u001b[0;34m\u001b[0m\u001b[0;34m\u001b[0m\u001b[0m\n",
      "\u001b[0;32m/opt/anaconda3/lib/python3.8/site-packages/pandas/core/reshape/merge.py\u001b[0m in \u001b[0;36m_get_merge_keys\u001b[0;34m(self)\u001b[0m\n\u001b[1;32m   1003\u001b[0m                     \u001b[0;32mif\u001b[0m \u001b[0;32mnot\u001b[0m \u001b[0mis_rkey\u001b[0m\u001b[0;34m(\u001b[0m\u001b[0mrk\u001b[0m\u001b[0;34m)\u001b[0m\u001b[0;34m:\u001b[0m\u001b[0;34m\u001b[0m\u001b[0;34m\u001b[0m\u001b[0m\n\u001b[1;32m   1004\u001b[0m                         \u001b[0;32mif\u001b[0m \u001b[0mrk\u001b[0m \u001b[0;32mis\u001b[0m \u001b[0;32mnot\u001b[0m \u001b[0;32mNone\u001b[0m\u001b[0;34m:\u001b[0m\u001b[0;34m\u001b[0m\u001b[0;34m\u001b[0m\u001b[0m\n\u001b[0;32m-> 1005\u001b[0;31m                             \u001b[0mright_keys\u001b[0m\u001b[0;34m.\u001b[0m\u001b[0mappend\u001b[0m\u001b[0;34m(\u001b[0m\u001b[0mright\u001b[0m\u001b[0;34m.\u001b[0m\u001b[0m_get_label_or_level_values\u001b[0m\u001b[0;34m(\u001b[0m\u001b[0mrk\u001b[0m\u001b[0;34m)\u001b[0m\u001b[0;34m)\u001b[0m\u001b[0;34m\u001b[0m\u001b[0;34m\u001b[0m\u001b[0m\n\u001b[0m\u001b[1;32m   1006\u001b[0m                         \u001b[0;32melse\u001b[0m\u001b[0;34m:\u001b[0m\u001b[0;34m\u001b[0m\u001b[0;34m\u001b[0m\u001b[0m\n\u001b[1;32m   1007\u001b[0m                             \u001b[0;31m# work-around for merge_asof(right_index=True)\u001b[0m\u001b[0;34m\u001b[0m\u001b[0;34m\u001b[0m\u001b[0;34m\u001b[0m\u001b[0m\n",
      "\u001b[0;32m/opt/anaconda3/lib/python3.8/site-packages/pandas/core/generic.py\u001b[0m in \u001b[0;36m_get_label_or_level_values\u001b[0;34m(self, key, axis)\u001b[0m\n\u001b[1;32m   1558\u001b[0m             \u001b[0mvalues\u001b[0m \u001b[0;34m=\u001b[0m \u001b[0mself\u001b[0m\u001b[0;34m.\u001b[0m\u001b[0maxes\u001b[0m\u001b[0;34m[\u001b[0m\u001b[0maxis\u001b[0m\u001b[0;34m]\u001b[0m\u001b[0;34m.\u001b[0m\u001b[0mget_level_values\u001b[0m\u001b[0;34m(\u001b[0m\u001b[0mkey\u001b[0m\u001b[0;34m)\u001b[0m\u001b[0;34m.\u001b[0m\u001b[0m_values\u001b[0m\u001b[0;34m\u001b[0m\u001b[0;34m\u001b[0m\u001b[0m\n\u001b[1;32m   1559\u001b[0m         \u001b[0;32melse\u001b[0m\u001b[0;34m:\u001b[0m\u001b[0;34m\u001b[0m\u001b[0;34m\u001b[0m\u001b[0m\n\u001b[0;32m-> 1560\u001b[0;31m             \u001b[0;32mraise\u001b[0m \u001b[0mKeyError\u001b[0m\u001b[0;34m(\u001b[0m\u001b[0mkey\u001b[0m\u001b[0;34m)\u001b[0m\u001b[0;34m\u001b[0m\u001b[0;34m\u001b[0m\u001b[0m\n\u001b[0m\u001b[1;32m   1561\u001b[0m \u001b[0;34m\u001b[0m\u001b[0m\n\u001b[1;32m   1562\u001b[0m         \u001b[0;31m# Check for duplicates\u001b[0m\u001b[0;34m\u001b[0m\u001b[0;34m\u001b[0m\u001b[0;34m\u001b[0m\u001b[0m\n",
      "\u001b[0;31mKeyError\u001b[0m: 'tweet_id'"
     ]
    }
   ],
   "source": [
    "from functools import reduce\n",
    "dfs = [dataset_labelled, df]\n",
    "df_final = reduce(lambda left,right: pd.merge(left,right,on='tweet_id'), dfs)\n",
    "df_final"
   ]
  },
  {
   "cell_type": "markdown",
   "metadata": {},
   "source": [
    "## Mapping"
   ]
  },
  {
   "cell_type": "code",
   "execution_count": null,
   "metadata": {},
   "outputs": [],
   "source": [
    "#TODO: Incomplete, matching correctly but not merging fully"
   ]
  },
  {
   "cell_type": "markdown",
   "metadata": {},
   "source": [
    "## df_t['matchedName'] = df_i['id'].apply(lambda x: [item for item in x if item in df_t['category'].tolist()])\n",
    "df_t"
   ]
  },
  {
   "cell_type": "code",
   "execution_count": null,
   "metadata": {},
   "outputs": [],
   "source": [
    "# map eventID -> numeric value"
   ]
  },
  {
   "cell_type": "code",
   "execution_count": null,
   "metadata": {},
   "outputs": [],
   "source": [
    "dataset_labelled_char = clean_dataset_char(dataset_labelled)\n",
    "dataset_labelled_char.head()"
   ]
  },
  {
   "cell_type": "code",
   "execution_count": null,
   "metadata": {},
   "outputs": [],
   "source": [
    "#df_char['matchedName'] = [str(x) for x in df_char['matchedName']]\n",
    "#df_char['informationType'] = df_char['matchedName'].apply(lambda x: ','.join(map(str, x)))\n",
    "#df_char['matchedName'] = df_char['matchedName'].str[:-1]\n"
   ]
  },
  {
   "cell_type": "code",
   "execution_count": null,
   "metadata": {},
   "outputs": [],
   "source": [
    "#df.sort_values(by=['label_id'])\n",
    "df_int = clean_dataset_int(dataset_labelled_char)\n",
    "df_int"
   ]
  },
  {
   "cell_type": "code",
   "execution_count": null,
   "metadata": {},
   "outputs": [],
   "source": [
    "df_int.to_csv(\"df_int.csv\", index=False)\n"
   ]
  },
  {
   "cell_type": "code",
   "execution_count": null,
   "metadata": {},
   "outputs": [],
   "source": [
    "df_char.to_csv(\"df_char.csv\", index=False)\n",
    "df_char"
   ]
  },
  {
   "cell_type": "code",
   "execution_count": null,
   "metadata": {},
   "outputs": [],
   "source": [
    "before_selection = pd.read_csv(\"before_selection.csv\")\n",
    "before_selection"
   ]
  },
  {
   "cell_type": "code",
   "execution_count": null,
   "metadata": {},
   "outputs": [],
   "source": [
    "# Ground truth set\n",
    "selected = pd.read_csv(\"selected.csv\")\n",
    "selected"
   ]
  },
  {
   "cell_type": "code",
   "execution_count": null,
   "metadata": {},
   "outputs": [],
   "source": [
    "merged_df = pd.merge(before_selection, df_int, left_on = 'tweet_id', right_on = 'tweet_id', how = 'inner')\n",
    "\n",
    "merged_df"
   ]
  },
  {
   "cell_type": "code",
   "execution_count": null,
   "metadata": {},
   "outputs": [],
   "source": []
  }
 ],
 "metadata": {
  "kernelspec": {
   "display_name": "Python 3",
   "language": "python",
   "name": "python3"
  },
  "language_info": {
   "codemirror_mode": {
    "name": "ipython",
    "version": 3
   },
   "file_extension": ".py",
   "mimetype": "text/x-python",
   "name": "python",
   "nbconvert_exporter": "python",
   "pygments_lexer": "ipython3",
   "version": "3.8.3"
  }
 },
 "nbformat": 4,
 "nbformat_minor": 4
}
