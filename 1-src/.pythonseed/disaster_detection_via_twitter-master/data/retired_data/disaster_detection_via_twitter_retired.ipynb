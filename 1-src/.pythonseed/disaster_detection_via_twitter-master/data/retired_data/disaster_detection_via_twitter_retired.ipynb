{
 "cells": [
  {
   "cell_type": "markdown",
   "metadata": {},
   "source": [
    "#Disaster Detection via Twitter\n",
    "\n",
    "**Final project for General Assembly Data Science course in Austin TX**\n",
    "\n",
    "Ryan B. Jadrich\n",
    "\n",
    "LinkedIn: [https://www.linkedin.com/in/ryan-jadrich-71190b5b](https://www.linkedin.com/in/ryan-jadrich-71190b5b)\n",
    "\n",
    "Email: rjadrich@gmail.com"
   ]
  },
  {
   "cell_type": "markdown",
   "metadata": {},
   "source": [
    "###1. Project summary\n",
    "---\n",
    "**Goal:** Create a predictive model to classify a tweet as pertaining to a disaster event or not, *solely* based on the tweet text.\n",
    "\n",
    "**Data:** 10,876 classified tweet entries in the \"Disasters on Social Media\" data set from CrowdFlower at http://www.crowdflower.com/data-for-everyone. Some examples of disasters include structural collapses, wildfires and terrorist attacks. However, this dataset also encompasses more \"minor\" events such as car accidents, etc. These were compiled by searching for tweets with disaster related keywords (i.e., hijacking, hurricane, and explosion) and then they were classified as \"Relevant\", \"Not Relevant\" or \"Can't Decide\" with \"Relevant\" indicating a disaster.\n",
    "\n",
    "**Auxiliary data:** Pretrained \"Google News\" dataset for word2vec at https://code.google.com/archive/p/word2vec/. This will be used to artificially boost the vocabulary of the model which is somewhat limited due to the smaller size of the tweet data set.\n",
    "\n",
    "**Machine learning tools** \n",
    "\n",
    "1. **Natural Language Toolkit (NLTK)** - For initial preprocessing and tokenization of tweets using the nltk.tokenize package.\n",
    "\n",
    "2. **GENSIM** - For seamless transformation from a high dimensional \"bag of words\" (BOW) feature space to a lower dimensional \"topic\" space (each topic expresses discovered relations amongst the words in the Tweet data set using Latent Semantic Indexing or LSI).\n",
    "\n",
    "3. **Scikit-Learn** - For trivial implementation the final Logistic Regression model which predicts \"disaster\" or \"not disaster\" based on each Tweets \"topic\" representation.\n",
    "\n",
    "**Using the model**: Clone the entire Git repository to your local machine and install any packages not already installed (likely NLTK and GENSIM). All data used by the notebook is included in the repository so, in principle, the notebook should be ready to deploy and improve upon. Please let me know of any major improvements!   :) "
   ]
  },
  {
   "cell_type": "markdown",
   "metadata": {},
   "source": [
    "**All of the required imports**"
   ]
  },
  {
   "cell_type": "code",
   "execution_count": 2,
   "metadata": {
    "collapsed": false
   },
   "outputs": [],
   "source": [
    "import numpy as np\n",
    "import pandas as pd\n",
    "import string\n",
    "from collections import defaultdict\n",
    "from nltk.tokenize import TweetTokenizer\n",
    "from nltk.stem.porter import PorterStemmer\n",
    "from gensim import corpora, models, similarities\n",
    "from sklearn import linear_model\n",
    "from sklearn import cross_validation\n",
    "from sklearn.metrics import roc_curve, auc\n",
    "from sklearn import metrics\n",
    "from scipy import interp\n",
    "import matplotlib.pyplot as plt\n",
    "import HTMLParser\n",
    "import sys\n",
    "import json\n",
    "%matplotlib inline "
   ]
  },
  {
   "cell_type": "markdown",
   "metadata": {
    "collapsed": true
   },
   "source": [
    "###2. Check out the data\n",
    "---"
   ]
  },
  {
   "cell_type": "code",
   "execution_count": 6,
   "metadata": {
    "collapsed": false
   },
   "outputs": [
    {
     "name": "stdout",
     "output_type": "stream",
     "text": [
      "Index([u'_unit_id', u'_golden', u'_unit_state', u'_trusted_judgments',\n",
      "       u'_last_judgment_at', u'choose_one', u'choose_one:confidence',\n",
      "       u'choose_one_gold', u'keyword', u'location', u'text', u'tweetid',\n",
      "       u'userid'],\n",
      "      dtype='object')\n"
     ]
    }
   ],
   "source": [
    "df = pd.read_csv(\"data/tweets/disaster-tweets.csv\")\n",
    "print df.columns"
   ]
  },
  {
   "cell_type": "markdown",
   "metadata": {},
   "source": [
    "**What is relevant?**\n",
    "\n",
    "1. **_choose_one** - classification (\"Relevant\", \"Not Relevant\", or \"Can't Decide\")\n",
    "\n",
    "2. **_choose_one_confidence** - the certainty of the final classification\n",
    "\n",
    "3. **_text** - this is the actual tweet text\n",
    "\n",
    "**Other, somewhat, relevant details**\n",
    "\n",
    "1. **_golden** - \"TRUE\" or \"FALSE\" to indicate if the assigned classification is at the \"golden\" level, meaning hundreds of people voted on the classification. If not, five to six people voted on the classification. This is really supposed to be used as a final test set, but I don't do this.\n",
    "\n",
    "2. **_unit_state** - indicates if the judgement on classifying the tweets is \"finalized\", \"golden\" (this is like super finalized) or \"not finalized\". All tweets are either \"finalized\" or \"golden\".\n",
    "\n",
    "3. **keyword** - while not studied here, understanding what keywords are faithful indicators of disaster could be useful and improve model performance.\n",
    "\n",
    "There are 10,876 total tweets with a fairly even representation of both \"Relevant\" and \"Not Relevant\" classes. Very few are labeled as \"Can't Decide\" and they will not be relevant to the binary model developed (discussed below)."
   ]
  },
  {
   "cell_type": "markdown",
   "metadata": {},
   "source": [
    "**Only keep the columns relevant to this work**"
   ]
  },
  {
   "cell_type": "code",
   "execution_count": 7,
   "metadata": {
    "collapsed": true
   },
   "outputs": [],
   "source": [
    "df = df[[\"choose_one\", \"text\", \"choose_one:confidence\"]]"
   ]
  },
  {
   "cell_type": "markdown",
   "metadata": {},
   "source": [
    "**Check for any duplicate tweets and keep only one of the instances**"
   ]
  },
  {
   "cell_type": "code",
   "execution_count": 8,
   "metadata": {
    "collapsed": false
   },
   "outputs": [
    {
     "name": "stdout",
     "output_type": "stream",
     "text": [
      "Total tweets: 10876\n",
      "Total unique tweets: 10678\n"
     ]
    }
   ],
   "source": [
    "print \"Total tweets: %d\" % len(df)\n",
    "df = df.drop_duplicates(cols = [\"text\"]).reset_index() #this also resets the index otherwise the numbers will have gaps\n",
    "print \"Total unique tweets: %d\" % len(df)"
   ]
  },
  {
   "cell_type": "markdown",
   "metadata": {},
   "source": [
    "Indeed, there were a bunch of duplicates! This may be due to re-tweeting CrowdFlower not carefully checking for identical text."
   ]
  },
  {
   "cell_type": "markdown",
   "metadata": {
    "collapsed": true
   },
   "source": [
    "###3. Clean and tokenize all the tweets\n",
    "---\n",
    "1. Convert hyphens and apostrophes from utf8 to ascii\n",
    "2. Remove all remaining utf8 characters\n",
    "3. Clean any HTML tags using HTMLParser module\n",
    "4. Break on hyphens\n",
    "5. Employ NLTK for initial tweet tokenization\n",
    "  * Keep handles (username) and hashtags and reduce length (e.g., looooooovvvvveeee to looovvveee)\n",
    "    * In general, the english language has at most three identical letters in a row\n",
    "6. Introduce special tokens\n",
    "  * **|-num-|** for numbers (detect comma separation as in 1,000,000)\n",
    "  * **|-num_alpha-|** for mixed numerical and alphabetical (maybe useful for interstates, planes, trains, ...) \n",
    "    * Make sure not to convert handles! These are typically mixed numeric and alphabetic\n",
    "  * **|-num_units-|** for zero, one, ..., ten\n",
    "  * **|-num_tens-|** for ten, twenty, ..., ninety\n",
    "  * **|-num_scales-|** for hundred, thousand, ..., billion\n",
    "  * **|-website-|** for any hyperlinks\n",
    "8. Simplify common face emoticons down to just eyes and mouth (nose does not really convey emotion) and normalize (eyes first mouth second)\n",
    "  * Most common eyes : ; = 8\n",
    "  * Most common mouths ( ) [ ] d p { } / @ |\n",
    "9. Stem words using NLTK Porter stemmer (e.g., fires becomes fire)\n",
    "\n",
    "**NOTE:** stop words (i.e., high frequency words like \"and\") are not removed as is commonly done in natural language processing tasks. Interestingly, keeping them helps improve the final model performance--perhaps by allowing for better word-word relations to be encoded in the discovered \"topics\".\n",
    "\n",
    "*There is much room for improvement! Perhaps using sophisticated regular expressions to better separate conjoined words in hashtags would be useful. Also, a spell checker might be good as tweets are full of misspellings. Perhaps the frequency of misspellings could be tokenized???*"
   ]
  },
  {
   "cell_type": "markdown",
   "metadata": {},
   "source": [
    "**Assortment of function definitions for cleaning and tokenizing**"
   ]
  },
  {
   "cell_type": "code",
   "execution_count": 9,
   "metadata": {
    "collapsed": true
   },
   "outputs": [],
   "source": [
    "#go through and find all utf8 hyphens and apostrophes and convert to ascii\n",
    "def utf8_to_ascii(tweet):\n",
    "    utf8_hyphens = \"\\xe2\\x80\\x90 \\xe2\\x80\\x91 \\xe2\\x80\\x92 \\xe2\\x80\\x93 \\xe2\\x80\\x94\".split()\n",
    "    utf8_aposts = \"\\xe2\\x80\\x98 \\xe2\\x80\\x99 \\xe2\\x80\\x9b \\xe2\\x80\\xb2 \\xe2\\x80\\xb5\".split()\n",
    "    return_tweet = tweet\n",
    "    for utf8_hyphen in utf8_hyphens:\n",
    "        return_tweet = return_tweet.replace(utf8_hyphen,\"-\")\n",
    "    for utf8_apost in utf8_aposts:\n",
    "        return_tweet = return_tweet.replace(utf8_apost,\"'\")\n",
    "    return return_tweet\n",
    "\n",
    "#breaks up tags assuming a common format of words with no spacing denoted by capitalization (i.e. CrazyDay or JohnDoe)\n",
    "def break_tag(tag):\n",
    "    broken_tag = []\n",
    "    word = \"\"\n",
    "    for letter in tag:\n",
    "        if letter.isupper():\n",
    "            if word:\n",
    "                broken_tag.append(word)\n",
    "            word = letter[:]\n",
    "        else:\n",
    "            word = word + letter\n",
    "    broken_tag.append(word)\n",
    "    return broken_tag\n",
    "\n",
    "#function to break up any tags or handles into words if in a normal format\n",
    "#clean up hash tags which can contain useful information\n",
    "def clean_tags(split_tweet):\n",
    "    split_tweet_return = []\n",
    "    for entry in split_tweet:\n",
    "        if (entry[0] == \"@\" and len(entry) > 1):\n",
    "            split_tweet_return.append(\"@\")\n",
    "            split_tweet_return.append(entry[1:])\n",
    "            #for tag_comp in break_tag(entry[1:]):\n",
    "                #split_tweet_return.append(tag_comp)\n",
    "        elif (entry[0] == \"#\" and len(entry) > 1):\n",
    "            split_tweet_return.append(\"#\")\n",
    "            for tag_comp in break_tag(entry[1:]):\n",
    "                split_tweet_return.append(tag_comp)\n",
    "        else:\n",
    "            split_tweet_return.append(entry)\n",
    "    return split_tweet_return\n",
    "\n",
    "#go through and label any numeric entries as a special numeric token\n",
    "def num_token(split_tweet):\n",
    "    num = \"0 1 2 3 4 5 6 7 8 9 ,\".split()\n",
    "    split_tweet_return = []\n",
    "    for entry in split_tweet:\n",
    "        if entry == \",\":\n",
    "            split_tweet_return.append(entry)\n",
    "        else:\n",
    "            is_other = False\n",
    "            for char in entry:\n",
    "                if char not in num:\n",
    "                    is_other = True\n",
    "                    break\n",
    "            if is_other:\n",
    "                split_tweet_return.append(entry) \n",
    "            else:\n",
    "                split_tweet_return.append(\"|-num-|\")\n",
    "    return split_tweet_return\n",
    "\n",
    "#go through and label any mixed number and letter entries as a special numalpha token\n",
    "#make sure that this does not label anything as num_alpha that came from a handle (which is common)\n",
    "def num_alpha_token(split_tweet):\n",
    "    num = \"0 1 2 3 4 5 6 7 8 9\".split()\n",
    "    alpha = \"a b c d e f g h i j k l m n o p q r s t u v w x y z\".split()\n",
    "    split_tweet_return = []\n",
    "    prior_entry = \"\"\n",
    "    for entry in split_tweet:\n",
    "        has_num = False\n",
    "        has_alpha = False\n",
    "        has_other = False\n",
    "        for char in entry:\n",
    "            if char in num:\n",
    "                has_num = True\n",
    "            elif char in alpha:\n",
    "                has_alpha = True\n",
    "            else:\n",
    "                has_other = True     \n",
    "        if (has_num and has_alpha and not has_other and (prior_entry != \"@\")):\n",
    "            split_tweet_return.append(\"|-num_alpha-|\")\n",
    "        else:\n",
    "            split_tweet_return.append(entry) \n",
    "        prior_entry = entry[:]\n",
    "    return split_tweet_return\n",
    "\n",
    "#go through and label any numeric words with special tokens\n",
    "def word_num_token(split_tweet):\n",
    "    units = [\n",
    "        \"zero\", \"one\", \"two\", \"three\", \"four\", \"five\", \"six\", \"seven\", \"eight\",\n",
    "        \"nine\", \"ten\", \"eleven\", \"twelve\", \"thirteen\", \"fourteen\", \"fifteen\",\n",
    "        \"sixteen\", \"seventeen\", \"eighteen\", \"nineteen\"]\n",
    "    tens = [\"twenty\", \"thirty\", \"forty\", \"fifty\", \"sixty\", \"seventy\", \"eighty\", \"ninety\"]\n",
    "    scales = [\"hundred\", \"thousand\", \"million\", \"billion\", \"trillion\"]\n",
    "    split_tweet_return = []\n",
    "    for entry in split_tweet:\n",
    "        if entry in units:\n",
    "            split_tweet_return.append(\"|-num_units-|\")\n",
    "        elif entry in tens:\n",
    "            split_tweet_return.append(\"|-num_tens-|\")\n",
    "        elif entry in scales:\n",
    "            split_tweet_return.append(\"|-num_scales-|\")\n",
    "        else:\n",
    "            split_tweet_return.append(entry)\n",
    "    return split_tweet_return\n",
    "\n",
    "#tokenize a web address if present\n",
    "def website_tokenize(split_tweet):\n",
    "    split_tweet_return = []\n",
    "    for entry in split_tweet:\n",
    "        if entry[0:4] == \"http\":\n",
    "            split_tweet_return.append(\"|-website-|\")\n",
    "        else:\n",
    "            split_tweet_return.append(entry)\n",
    "    return split_tweet_return\n",
    "\n",
    "#determines if the token is likely an emoticon and if so returns a reduced representation\n",
    "#the reduced representation is to aid in statistics since the eyes and mouth really convey\n",
    "#emotions with minimal information included from a nose or something else\n",
    "def is_emoji(token):\n",
    "    #these features make up most smileys which is ~90% of all emojis\n",
    "    #faces will be returned all facing the right ala eyes then mouth\n",
    "    eyes = \": ; = 8\"\n",
    "    mouth = \"( ) [ ] d p { } / @ |\"\n",
    "    found_eyes = False\n",
    "    found_mouth = False\n",
    "    emoji = \"\"\n",
    "    for char in token:\n",
    "        if (char in eyes and not found_eyes):\n",
    "            emoji = emoji + char\n",
    "            found_eyes = True\n",
    "        if (char in mouth and not found_mouth):\n",
    "            emoji = emoji + char\n",
    "            found_mouth = True\n",
    "    #flip all emojis to face normal direction if needed\n",
    "    if(found_eyes and found_mouth):\n",
    "        if emoji[0] in mouth:\n",
    "            e_mouth = emoji[0]\n",
    "            e_eyes = emoji[1]\n",
    "            emoji = \"\"\n",
    "            emoji = emoji + e_eyes\n",
    "            if e_mouth == \"(\":\n",
    "                emoji = emoji + \")\"\n",
    "            elif e_mouth == \")\":\n",
    "                emoji = emoji + \"(\"\n",
    "            elif e_mouth == \"[\":\n",
    "                emoji = emoji + \"]\"\n",
    "            elif e_mouth == \"]\":\n",
    "                emoji = emoji + \"[\"\n",
    "            #this one is unique as it has a directionality so only need one check\n",
    "            elif e_mouth == \"d\":\n",
    "                emoji = emoji + \"p\"\n",
    "            elif e_mouth == \"{\":\n",
    "                emoji = emoji + \"}\"\n",
    "            elif e_mouth == \"}\":\n",
    "                emoji = emoji + \"{\"\n",
    "            else:\n",
    "                emoji = emoji + e_mouth\n",
    "        return emoji\n",
    "    else:\n",
    "        return token   \n",
    "    \n",
    "#function to check common happy face tweets and reduce them down to only eyes and a mouth\n",
    "#these are the dominant features that imply emotion\n",
    "def downgrade_emoji(split_tweet):\n",
    "    split_tweet_return = []\n",
    "    for entry in split_tweet:\n",
    "        split_tweet_return.append(is_emoji(entry))\n",
    "    return split_tweet_return"
   ]
  },
  {
   "cell_type": "markdown",
   "metadata": {},
   "source": [
    "**Function to use the various cleaning functions**\n",
    "\n",
    "This is just the coded up version of the cleaning and tokenization scheme outlined above."
   ]
  },
  {
   "cell_type": "code",
   "execution_count": 10,
   "metadata": {
    "collapsed": true
   },
   "outputs": [],
   "source": [
    "#function to clean and tokenize the tweets all in one fell swoop\n",
    "#needed function definitions are defined immediately above\n",
    "def clean_and_tokenize(df):\n",
    "    #convert some common utf8 hyphen and apostrophe symbols to ascii \n",
    "    df[\"text\"] = df[\"text\"].apply(utf8_to_ascii)\n",
    "    #go through and convert or remove any remaining utf8 characters\n",
    "    df[\"text\"] = df[\"text\"].apply(lambda(tweet): tweet.decode(\"utf8\").encode('ascii',  errors='ignore'))\n",
    "    #clean up any html tags\n",
    "    html_parser = HTMLParser.HTMLParser()\n",
    "    df[\"text\"] = df[\"text\"].apply(html_parser.unescape)\n",
    "    #split text on hypenations\n",
    "    df[\"text\"] = df[\"text\"].apply(lambda(tweet): tweet.replace(\"-\", \" \"))\n",
    "    #start out tokenization using NLTK casual twitter token (store in text_tokenized)\n",
    "    tknzr = TweetTokenizer(strip_handles=False, reduce_len=True)\n",
    "    df[\"text_tokenized\"] = df[\"text\"].apply(tknzr.tokenize)\n",
    "    #split up the tags\n",
    "    df[\"text_tokenized\"] = df[\"text_tokenized\"].apply(clean_tags)\n",
    "    #lowercase everything\n",
    "    df[\"text_tokenized\"] = df[\"text_tokenized\"].apply(lambda(split_tweet): [entry.lower() for entry in split_tweet])\n",
    "    #tokenize numbers \n",
    "    df[\"text_tokenized\"] = df[\"text_tokenized\"].apply(num_token)\n",
    "    #tokenize mixed alphabetical and numeric entries\n",
    "    df[\"text_tokenized\"] = df[\"text_tokenized\"].apply(num_alpha_token)\n",
    "    #tokenize any words that are numbers into base units, tens, and scales\n",
    "    df[\"text_tokenized\"] = df[\"text_tokenized\"].apply(word_num_token)\n",
    "    #tokenize website links\n",
    "    df[\"text_tokenized\"] = df[\"text_tokenized\"].apply(website_tokenize)\n",
    "    #actually modify the emojis\n",
    "    df[\"text_tokenized\"] = df[\"text_tokenized\"].apply(downgrade_emoji)\n",
    "    #go through and stem everything using the Porter Stemmer\n",
    "    st = PorterStemmer()\n",
    "    df[\"text_tokenized_stemmed\"] = df[\"text_tokenized\"].apply(lambda(split_tweet): [st.stem(entry) for entry in split_tweet])\n",
    "    #send back the modified dataframe    \n",
    "    return df"
   ]
  },
  {
   "cell_type": "markdown",
   "metadata": {},
   "source": [
    "**Clean and tokenize the tweets**"
   ]
  },
  {
   "cell_type": "code",
   "execution_count": 11,
   "metadata": {
    "collapsed": false
   },
   "outputs": [],
   "source": [
    "df = clean_and_tokenize(df)"
   ]
  },
  {
   "cell_type": "markdown",
   "metadata": {},
   "source": [
    "**Comparison of some raw and tokenized tweets**"
   ]
  },
  {
   "cell_type": "code",
   "execution_count": 12,
   "metadata": {
    "collapsed": false,
    "scrolled": true
   },
   "outputs": [
    {
     "name": "stdout",
     "output_type": "stream",
     "text": [
      "Original:\n",
      "Hear @DrFriedenCDC talk on how to avoid thousands of resistant infections/deaths in next 5 yrs: http://t.co/niV8x5Tbe0 #AdiosSuperBacterias\n",
      "\n",
      "Tokenized:\n",
      "[u'hear', u'@', u'drfriedencdc', u'talk', u'on', u'how', u'to', u'avoid', u'thousand', u'of', u'resist', u'infect', u'/', u'death', u'in', u'next', u'|-num-|', u'yr', u':', u'|-website-|', u'#', u'adio', u'super', u'bacteria']\n"
     ]
    }
   ],
   "source": [
    "tweet_num = 3032 #5000\n",
    "print \"Original:\"\n",
    "print df[\"text\"][tweet_num] + \"\\n\"\n",
    "print \"Tokenized:\"\n",
    "print df[\"text_tokenized_stemmed\"][tweet_num]"
   ]
  },
  {
   "cell_type": "code",
   "execution_count": 13,
   "metadata": {
    "collapsed": false
   },
   "outputs": [
    {
     "name": "stdout",
     "output_type": "stream",
     "text": [
      "Original:\n",
      "#RockyFire Update => California Hwy. 20 closed in both directions due to Lake County fire   #CAfire #wildfires\n",
      "\n",
      "Tokenized:\n",
      "[u'#', u'rocki', u'fire', u'updat', u'=', u'>', u'california', u'hwi', u'.', u'|-num-|', u'close', u'in', u'both', u'direct', u'due', u'to', u'lake', u'counti', u'fire', u'#', u'c', u'afir', u'#', u'wildfir']\n"
     ]
    }
   ],
   "source": [
    "tweet_num = 8\n",
    "print \"Original:\"\n",
    "print df[\"text\"][tweet_num] + \"\\n\"\n",
    "print \"Tokenized:\"\n",
    "print df[\"text_tokenized_stemmed\"][tweet_num]"
   ]
  },
  {
   "cell_type": "markdown",
   "metadata": {},
   "source": [
    "###4. Mapping low frequency words onto high frequency analogs\n",
    "---\n",
    "**Low frequency words**: occur *once* in the whole cleaned and tokenized tweet data set.\n",
    "\n",
    "**High frequency words**: occur greater than *once* in the whole cleaned and tokenized tweet data set.\n",
    "\n",
    "**NOTE**: low frequency words also encompass those with no occurrence (as in a new tweet outside of the dataset). Word2vec would be used to map in that case as well.\n",
    "\n",
    "For this I employ the pre-trained word2vec vectors from the Google News dataset. Word2vec is an unsupervised machine learning tool that creates vector representations of words by analyzing a large text corpus (here, Google News). Importantly, the similarity between two words can be quantified by the angle (theta in cartoon below) between the two word vectors.\n",
    "\n",
    "Mapping a low frequency *stemmed* token via word2vec amounts to finding the most similar high frequency *stemmed* token by comparing all base *unstemmed* words. This procedure is depicted in the following cartoon where arrows represent a mapping and some actual examples (from mapping procedure carried out below) are shown.\n",
    "\n",
    "![mapping_visual2](data/images/mapping_procedure.png)"
   ]
  },
  {
   "cell_type": "markdown",
   "metadata": {},
   "source": [
    "**Load in the pre-trained Google News word vectors**\n",
    "\n",
    "If cloning this repository, download file \"GoogleNews-vectors-negative300.bin.gz\" from https://drive.google.com/file/d/0B7XkCwpI5KDYNlNUTTlSS21pQmM/edit?usp=sharing and place in the \"data\" folder. It is not included due to its large size.\n",
    "\n",
    "**NOTE**: loading this will eat up a lot of RAM"
   ]
  },
  {
   "cell_type": "code",
   "execution_count": 15,
   "metadata": {
    "collapsed": false
   },
   "outputs": [],
   "source": [
    "w2v_model = models.word2vec.Word2Vec.load_word2vec_format('data/trained_google_vectors/GoogleNews-vectors-negative300.bin.gz', binary=True)"
   ]
  },
  {
   "cell_type": "markdown",
   "metadata": {},
   "source": [
    "**Functions to perform the similarity mapping**"
   ]
  },
  {
   "cell_type": "code",
   "execution_count": 14,
   "metadata": {
    "collapsed": false
   },
   "outputs": [],
   "source": [
    "#create the actual mapping dictionary for the low frequency words\n",
    "def create_low_2_high_map(stem_map_low, stem_map_high):\n",
    "    #loop over the low stemmed tokens and find a mapping to a high for each\n",
    "    print \"Creating low-to-high frequency token mapping via word2vec:\"\n",
    "    print \"Number of low frequency tokens to map: %d\" % len(stem_map_low)\n",
    "    print \"Number of high frequency tokens to choose from: %d\" % len(stem_map_high)\n",
    "    iteration = 0\n",
    "    low_2_high_map = {}\n",
    "    for low_token_stemmed in stem_map_low:\n",
    "        sys.stdout.write('\\r' + \"Mapping token number =  \" + (\"%d\" % iteration))\n",
    "        low_token = stem_map_low[low_token_stemmed][0] #only one entry for each low token\n",
    "        #find the most similar high stemmed token\n",
    "        max_similarity = 0.0\n",
    "        max_high_token_stemmed = \"\"\n",
    "        for high_token_stemmed in stem_map_high:\n",
    "            for high_token in stem_map_high[high_token_stemmed]:\n",
    "                try:\n",
    "                    similarity_1 = w2v_model.similarity(low_token, high_token)\n",
    "                except:\n",
    "                    similarity_1 = -1.0    \n",
    "                try:\n",
    "                    similarity_2 = w2v_model.similarity(low_token.title(), high_token)\n",
    "                except:\n",
    "                    similarity_2 = -1.0      \n",
    "                try:\n",
    "                    similarity_3 = w2v_model.similarity(low_token, high_token.title())\n",
    "                except:\n",
    "                    similarity_3 = -1.0      \n",
    "                try:\n",
    "                    similarity_4 = w2v_model.similarity(low_token.title(), high_token.title())\n",
    "                except:\n",
    "                    similarity_4 = -1.0\n",
    "                \n",
    "                similarity = max([similarity_1, similarity_2, similarity_3, similarity_4])\n",
    "                    \n",
    "                if similarity > max_similarity:\n",
    "                    max_similarity = similarity\n",
    "                    max_high_token_stemmed = high_token_stemmed\n",
    "                    \n",
    "        if max_high_token_stemmed:\n",
    "            low_2_high_map[low_token_stemmed] = max_high_token_stemmed\n",
    "        else:\n",
    "            low_2_high_map[low_token_stemmed] = \"|-no_w2v-|\"\n",
    "        iteration = iteration + 1  \n",
    "    return low_2_high_map\n",
    "\n",
    "#removes doubles of a any token entry\n",
    "def remove_clones(token_list):\n",
    "    token_list_cleaned = []\n",
    "    for token in token_list:\n",
    "        if token not in token_list_cleaned:\n",
    "            token_list_cleaned.append(token)\n",
    "    return token_list_cleaned\n",
    "\n",
    "#initialize the mapping of low frequency words onto high frequency words\n",
    "def create_token_mappings(df):\n",
    "    #create a stemmed word to full word map to use with word2vec\n",
    "    #make sure to only use words for the mapping so check if only alphabetical characters\n",
    "    print \"Creating fundamental token map\"\n",
    "    st = PorterStemmer() \n",
    "    texts = df[\"text_tokenized\"]\n",
    "    stem_map = {}\n",
    "    for text in texts:\n",
    "        for token in text:\n",
    "            if is_word(token):\n",
    "                token_stemmed = st.stem(token)\n",
    "                if token_stemmed in stem_map:\n",
    "                    stem_map[token_stemmed].append(token)\n",
    "                else:\n",
    "                    stem_map[token_stemmed] = [token]\n",
    "                                   \n",
    "    #create separate high frequency (>1 occurence) and low frequency (=1) stemmmed-unstemmed maps\n",
    "    print \"Separating into high and low frequency maps\"\n",
    "    stem_map_high = {}\n",
    "    stem_map_low = {}\n",
    "    for token_stemmed in stem_map:\n",
    "        token_list = stem_map[token_stemmed] \n",
    "        if len(token_list) > 1:\n",
    "            stem_map_high[token_stemmed] = remove_clones(token_list)\n",
    "        else:\n",
    "            stem_map_low[token_stemmed] = token_list\n",
    "    \n",
    "    #create a mapping from the low stems to a suitable high stem using word2vec to calculate similarities\n",
    "    #between the underlying unstemmed words contained in each \n",
    "    low_2_high_map = create_low_2_high_map(stem_map_low, stem_map_high)\n",
    "    \n",
    "    return (stem_map_high, stem_map_low, low_2_high_map)\n",
    "\n",
    "#this actually loops through and replaces all of the low frequency stemmed tokens with the high frequency analogs\n",
    "def map_low_frequency_tokens(split_tweet, low_2_high_map):\n",
    "    split_tweet_return = []\n",
    "    for token_stemmed in split_tweet:\n",
    "        if token_stemmed in low_2_high_map:\n",
    "            split_tweet_return.append(low_2_high_map[token_stemmed])\n",
    "        else:\n",
    "            split_tweet_return.append(token_stemmed)\n",
    "    return split_tweet_return\n",
    "\n",
    "#checks of a token is likely a word\n",
    "def is_word(token):\n",
    "    alpha = \"a b c d e f g h i j k l m n o p q r s t u v w x y z\".split()\n",
    "    for char in token:\n",
    "        if ((char not in alpha) and (char != \"'\")):\n",
    "            return False\n",
    "    return True"
   ]
  },
  {
   "cell_type": "markdown",
   "metadata": {},
   "source": [
    "**Create low-to-high stemmed word token mappings**\n",
    "\n",
    "**NOTE**: if this notebook has been cloned from the GitHub repository, these mappings will already be included and can be read in in directly instead. In this case, do not execute the following code box."
   ]
  },
  {
   "cell_type": "code",
   "execution_count": 18,
   "metadata": {
    "collapsed": false
   },
   "outputs": [
    {
     "name": "stdout",
     "output_type": "stream",
     "text": [
      "Creating fundamental token map\n",
      "Separating into high and low frequency maps\n",
      "Creating low-to-high frequency token mapping via word2vec:\n",
      "Number of low frequency tokens to map: 8862\n",
      "Number of high frequency tokens to choose from: 6462\n",
      "Mapping token number =  8861"
     ]
    }
   ],
   "source": [
    "#make the mapping for low frequecy words and write to a json file for safe keeping\n",
    "stem_map_high, stem_map_low, low_2_high_map = create_token_mappings(df[[\"text_tokenized\",\"text_tokenized_stemmed\"]])\n",
    "with open('data/word_2_vec_token_mappings/low_2_high_map.json', 'w') as fp:\n",
    "    json.dump(low_2_high_map, fp)\n",
    "with open('data/word_2_vec_token_mappings/stem_map_high.json', 'w') as fp:\n",
    "    json.dump(stem_map_high, fp)\n",
    "with open('data/word_2_vec_token_mappings/stem_map_low.json', 'w') as fp:\n",
    "    json.dump(stem_map_low, fp)"
   ]
  },
  {
   "cell_type": "markdown",
   "metadata": {},
   "source": [
    "**Read in low-to-high stemmed word token mappings from file**"
   ]
  },
  {
   "cell_type": "code",
   "execution_count": 15,
   "metadata": {
    "collapsed": false
   },
   "outputs": [],
   "source": [
    "#load in the stored low_2_high_map\n",
    "stem_map_high = json.load(open('data/word_2_vec_token_mappings/stem_map_high.json'))\n",
    "stem_map_low = json.load(open('data/word_2_vec_token_mappings/stem_map_low.json'))\n",
    "low_2_high_map = json.load(open('data/word_2_vec_token_mappings/low_2_high_map.json'))"
   ]
  },
  {
   "cell_type": "markdown",
   "metadata": {},
   "source": [
    "**Example mapping**"
   ]
  },
  {
   "cell_type": "code",
   "execution_count": 16,
   "metadata": {
    "collapsed": false
   },
   "outputs": [
    {
     "name": "stdout",
     "output_type": "stream",
     "text": [
      "[u'judicial']\n"
     ]
    }
   ],
   "source": [
    "print stem_map_low[\"judici\"]"
   ]
  },
  {
   "cell_type": "code",
   "execution_count": 17,
   "metadata": {
    "collapsed": false
   },
   "outputs": [
    {
     "name": "stdout",
     "output_type": "stream",
     "text": [
      "administr\n"
     ]
    }
   ],
   "source": [
    "print low_2_high_map[\"judici\"]"
   ]
  },
  {
   "cell_type": "code",
   "execution_count": 18,
   "metadata": {
    "collapsed": false
   },
   "outputs": [
    {
     "name": "stdout",
     "output_type": "stream",
     "text": [
      "[u'administrative', u'administration', u'administrator']\n"
     ]
    }
   ],
   "source": [
    "print stem_map_high[\"administr\"]"
   ]
  },
  {
   "cell_type": "markdown",
   "metadata": {},
   "source": [
    "**Perform the word2vec mapping**"
   ]
  },
  {
   "cell_type": "code",
   "execution_count": 19,
   "metadata": {
    "collapsed": false
   },
   "outputs": [],
   "source": [
    "#create a new column of tweets that are now mapped according to word2vec\n",
    "df[\"text_tokenized_stemmed_w2v\"] = df[\"text_tokenized_stemmed\"].apply(lambda x: map_low_frequency_tokens(x, low_2_high_map))"
   ]
  },
  {
   "cell_type": "code",
   "execution_count": 20,
   "metadata": {
    "collapsed": false
   },
   "outputs": [
    {
     "name": "stdout",
     "output_type": "stream",
     "text": [
      "Fraction of tweets mapped: 0.484267\n"
     ]
    }
   ],
   "source": [
    "#amount of tweets where words have been mapped\n",
    "print \"Fraction of tweets mapped: %f\" % (float(len(df[df['text_tokenized_stemmed'] != df['text_tokenized_stemmed_w2v']])) / float(len(df)))"
   ]
  },
  {
   "cell_type": "markdown",
   "metadata": {},
   "source": [
    "###5. Converting tweets into features for modeling\n",
    "---\n",
    "\n",
    "**Some useful definitions:**\n",
    "1. **Bag of words (BOW)**:  this is a vector representation of the form [1,0,0,2,4,0,...,0] where each dimension denotes a particular word and the number specifies how many times that word appears in a particular document (tweet in this case). There is a dimension for every word that appears at least twice (in this case) in the whole \"corpus\" of tweets (this is our \"dictionary\"). Since tweets are short the vectors are very sparse (mostly full of 0's). Please see https://en.wikipedia.org/wiki/Bag-of-words_model for more details.\n",
    "2. **Term frequency–inverse document frequency (TFIDF)**: rescaled BOW vectors where each word count is penalized (shrunk) in accord with how many of the documents contains the word--effectively adjusting the word counts for how unique each word is. For example, \"and\" will be heavily penalized, reflecting low information content and common usage. Since this is just a rescaling of each BOW element the new vectors are of the same *high* dimensionality. Please see https://en.wikipedia.org/wiki/Tf%E2%80%93idf for more details.\n",
    "3. **Latent semantic indexing (LSI)**: through a standard mathematical scheme from linear algebra--singular value decomposition (SVD--the TFIDF vectors are mapped onto a user specified, smaller dimensional space where the new dimensions are linear combinations of the old TFIDF dimensions. These new dimensions (commonly called \"topics\") are constructed so that they describe as much variance in the data as possible with rapidly diminishing returns for each new dimension. The outcome is a much more compact vectorial representation of each tweet. Please see for https://en.wikipedia.org/wiki/Latent_semantic_analysis more details.\n",
    "\n",
    "**Workflow**\n",
    "1. Create a dictionary and corpus\n",
    "  * Dictionary: use words from all of the tweets for more tokens\n",
    "  * Corpus: composed of the tweets with the greatest certainty in their classification. Convert to a BOW representation using the dictionary and then to a TFIDF analog.\n",
    "2. Create LSI features data frame of desired dimensionality from the dictionary and TFIDF tweet corpus (the dictionary just relates the new features to the actual words and is not really part of the dimensionality reduction)"
   ]
  },
  {
   "cell_type": "markdown",
   "metadata": {},
   "source": [
    "**Functions to create the dictionary, corpus and LSI features data frame**"
   ]
  },
  {
   "cell_type": "code",
   "execution_count": 21,
   "metadata": {
    "collapsed": true
   },
   "outputs": [],
   "source": [
    "#makes the gensim dictionary and corpus\n",
    "def make_dictionary_and_corpus(df_dictionary, df_corpus):\n",
    "    #the tokenized and stemmed data form our texts database \n",
    "    texts = df_dictionary\n",
    "    \n",
    "    #check how frequently a given word appears and remove it if only one occurrence\n",
    "    frequency = defaultdict(int)\n",
    "    for text in texts:\n",
    "        for token in text:\n",
    "            frequency[token] += 1\n",
    "    texts = [[token for token in text if frequency[token] > 1] for text in texts]\n",
    "    \n",
    "    #create a gensim dictionary\n",
    "    dictionary = corpora.Dictionary(texts)\n",
    "    \n",
    "    #create a new texts of only the ones I will analyze\n",
    "    texts = df_corpus    \n",
    "    \n",
    "    #create the bag of words corpus\n",
    "    corpus = [dictionary.doc2bow(text) for text in texts]\n",
    "    #corpus = [token_word2vec_map(text, frequency) for text in texts]\n",
    "    \n",
    "    #create a tfidf wrapper and convert the corpus to a tfidf format\n",
    "    tfidf = models.TfidfModel(corpus)\n",
    "    corpus_tfidf = tfidf[corpus]\n",
    "    \n",
    "    #return a tuple with the dictionary and corpus\n",
    "    return (dictionary, corpus_tfidf, corpus)\n",
    "\n",
    "#clean the features for use in dataframe\n",
    "def remove_doc_label(doc):\n",
    "    cleaned_doc = []\n",
    "    for element in doc:\n",
    "        cleaned_doc.append(element[1])\n",
    "    return cleaned_doc\n",
    "\n",
    "#takes as input the tweet dataframe, dictionary, corpus and dimensions for the tweets and returns \n",
    "#a new dataframe with each tweet characterized by the new lower dimensional features\n",
    "#also returns the topics if desired\n",
    "def latent_semantic_analysis(df, dictionary, corpus_tfidf, dimensions, return_topics = False, n_topics = 10, n_words = 10):\n",
    "    #create a lsi wrapper around the tfidf wrapper\n",
    "    lsi = models.LsiModel(corpus_tfidf, id2word=dictionary, num_topics=dimensions, power_iters=5)\n",
    "    corpus_lsi = lsi[corpus_tfidf]\n",
    "    \n",
    "    #create the features for a new dataframe\n",
    "    features = []\n",
    "    for doc in corpus_lsi:\n",
    "        features.append(remove_doc_label(doc))\n",
    "        \n",
    "    #create a new dataframe with the features\n",
    "    df_features = pd.DataFrame(data = features)\n",
    "    \n",
    "    #create a merged dataframe from the input (the indicies should match since I reset them earlier on)\n",
    "    df_merged = pd.concat([df[\"choose_one\"], df_features], axis=1)\n",
    "    \n",
    "    #return the new features dataframe devoid of columns that contain nothing\n",
    "    if return_topics:\n",
    "        return (df_merged.fillna(0), lsi.print_topics(n_topics, num_words = n_words))\n",
    "    else:\n",
    "        return df_merged.fillna(0)"
   ]
  },
  {
   "cell_type": "markdown",
   "metadata": {},
   "source": [
    "**Create data frames for constructing the dictionary and corpus**\n",
    "\n",
    "**Dictionary**: use all the tweets to get maximal word recognition, thus maximizing generalizability to new tweets. Tokens that appear only once are excluded.\n",
    "\n",
    "**Corpus**: only employ tweets of 100% confidence in classification to ensure the reliability of the predictive model. Some of the tweets with less than 100% appeared incorrectly labeled upon personal inspection."
   ]
  },
  {
   "cell_type": "code",
   "execution_count": 22,
   "metadata": {
    "collapsed": true
   },
   "outputs": [],
   "source": [
    "#create separate full and dictionary dataframes\n",
    "df_full = df[[\"choose_one\",\"text_tokenized_stemmed\",\"text_tokenized_stemmed_w2v\"]]\n",
    "df_filtered = df[[\"choose_one\",\"text_tokenized_stemmed\",\"text_tokenized_stemmed_w2v\"]][df[\"choose_one:confidence\"] == 1].reset_index()"
   ]
  },
  {
   "cell_type": "markdown",
   "metadata": {},
   "source": [
    "**Make dictionary and corpus**"
   ]
  },
  {
   "cell_type": "code",
   "execution_count": 23,
   "metadata": {
    "collapsed": false
   },
   "outputs": [],
   "source": [
    "#generate the dictionary and the corpus for our tweets\n",
    "tweet_type = \"text_tokenized_stemmed_w2v\"\n",
    "dictionary, corpus_tfidf, corpus_bow = make_dictionary_and_corpus(df_full[tweet_type], df_filtered[tweet_type])"
   ]
  },
  {
   "cell_type": "code",
   "execution_count": 24,
   "metadata": {
    "collapsed": false
   },
   "outputs": [
    {
     "name": "stdout",
     "output_type": "stream",
     "text": [
      "Dictionary(6649 unique tokens: [u'sinjar', u'yellow', u'jihad', u'lord', u'saipan']...)\n"
     ]
    }
   ],
   "source": [
    "print dictionary"
   ]
  },
  {
   "cell_type": "code",
   "execution_count": 25,
   "metadata": {
    "collapsed": false
   },
   "outputs": [
    {
     "name": "stdout",
     "output_type": "stream",
     "text": [
      "# total tweets: 10678\n",
      "# high certainty tweets: 4953\n",
      "# lower certainty tweets: 5725\n"
     ]
    }
   ],
   "source": [
    "print \"# total tweets: %d\" % len(df_full)\n",
    "print \"# high certainty tweets: %d\" % len(df_filtered)\n",
    "print \"# lower certainty tweets: %d\" % (len(df_full)-len(df_filtered))"
   ]
  },
  {
   "cell_type": "markdown",
   "metadata": {
    "collapsed": true
   },
   "source": [
    "###6. Decide on a model dimensionality and check accuracy\n",
    "\n",
    "---\n",
    "\n",
    "**Model used**: logistic regression (see: https://en.wikipedia.org/wiki/Logistic_regression).\n",
    "\n",
    "**Why**: logistic regression is one of the simplest models (linear in the features), making it particularly well suited to high dimensional problems. As dimensionality increases linear separability of the classes improves. Additionally, such highly constrained models suffer little from the so called \"curse of dimensionality\" which plagues weakly constrained models such as k-nearest neighbors (see https://en.wikipedia.org/wiki/Curse_of_dimensionality for details on this phenomenon).\n",
    "\n",
    "**Two tests across a range of dimensions**:\n",
    "\n",
    "1. k-fold cross validation error to assess how well the model will generalize to new tweets.\n",
    "  * Unfortunately this does not account well for testing generalizability to tweets with new (non-dictionary) tokens. Ideally, the word2vec mapping will remedy the relatively small dictionary.\n",
    "2. Training error to fit the whole dataset.\n",
    "\n",
    "With this analysis we will decide on a good dimensionality (or number of topics) for the model."
   ]
  },
  {
   "cell_type": "code",
   "execution_count": 26,
   "metadata": {
    "collapsed": true
   },
   "outputs": [],
   "source": [
    "def make_dimensions(max_dimension):\n",
    "    step_dimension = 1\n",
    "    current_dimension = 1\n",
    "    dimensions_return = []\n",
    "    while current_dimension <= max_dimension:\n",
    "        dimensions_return.append(current_dimension)\n",
    "        if current_dimension == 10 * step_dimension:\n",
    "            step_dimension = step_dimension * 10\n",
    "        if current_dimension >= 10 and current_dimension < max_dimension:\n",
    "            dimensions_return.append(current_dimension + step_dimension / 2)\n",
    "        current_dimension = current_dimension + step_dimension       \n",
    "    return dimensions_return[:]"
   ]
  },
  {
   "cell_type": "code",
   "execution_count": 27,
   "metadata": {
    "collapsed": false
   },
   "outputs": [],
   "source": [
    "def cross_validate_dimensionality(df, dictionary, corpus_tfidf, max_dimensions, cross_val_num):\n",
    "    #select model\n",
    "    model = linear_model.LogisticRegression()\n",
    "    \n",
    "    #list for returning dimensions\n",
    "    #dimensions_used = range(1, max_dimensions + 1, 50) []\n",
    "    dimensions_used = make_dimensions(max_dimensions)\n",
    "    \n",
    "    #list for returning the average score from k-fold validation\n",
    "    average_scores = []\n",
    "    \n",
    "    #loop over the dimensions for performing the k-fold validation\n",
    "    for dimensions in dimensions_used:\n",
    "        #calculate model dataframe\n",
    "        df_model = latent_semantic_analysis(df, dictionary, corpus_tfidf, dimensions)\n",
    "    \n",
    "        #actual validation\n",
    "        scores = cross_validation.cross_val_score(model, \n",
    "                                                  df_model[[i for i in range(dimensions)]], \n",
    "                                                  df_model[\"choose_one\"],\n",
    "                                                  cv=cross_val_num)\n",
    "        \n",
    "        #compute average score\n",
    "        average_scores.append(np.average(scores))\n",
    "        \n",
    "        #print out current dimensionality\n",
    "        sys.stdout.write('\\r' + \"Calculating fit for dimensions = \" + (\"%d\" % dimensions))\n",
    "    \n",
    "    return (dimensions_used, average_scores)"
   ]
  },
  {
   "cell_type": "code",
   "execution_count": 28,
   "metadata": {
    "collapsed": true
   },
   "outputs": [],
   "source": [
    "def absolute_score_dimensionality(df, dictionary, corpus_tfidf, max_dimensions):\n",
    "    #select model\n",
    "    model = linear_model.LogisticRegression()\n",
    "    \n",
    "    #list for returning dimensions\n",
    "    #dimensions_used = range(1, max_dimensions + 1)\n",
    "    dimensions_used = make_dimensions(max_dimensions)\n",
    "    \n",
    "    #scores list\n",
    "    average_scores = []\n",
    "    \n",
    "    #loop over the dimensions for performing the k-fold validation\n",
    "    for dimensions in dimensions_used:\n",
    "        #calculate model dataframe\n",
    "        df_model = latent_semantic_analysis(df, dictionary, corpus_tfidf, dimensions)\n",
    "        \n",
    "        #create the vectors for fitting\n",
    "        X = df_model[[i for i in range(dimensions)]]\n",
    "        y = df_model[\"choose_one\"]\n",
    "\n",
    "        #fit the model\n",
    "        model.fit(X, y)\n",
    "\n",
    "        #compute score\n",
    "        average_scores.append(model.score(X, y))\n",
    "        \n",
    "        #print out current dimensionality\n",
    "        sys.stdout.write('\\r' + \"Calculating fit for dimensions = \" + (\"%d\" % dimensions))\n",
    "    \n",
    "    return (dimensions_used, average_scores)"
   ]
  },
  {
   "cell_type": "markdown",
   "metadata": {},
   "source": [
    "**Cross validate with a logistic regression fit across a range of dimensions**"
   ]
  },
  {
   "cell_type": "code",
   "execution_count": 66,
   "metadata": {
    "collapsed": false
   },
   "outputs": [
    {
     "name": "stdout",
     "output_type": "stream",
     "text": [
      "Calculating fit for dimensions = 1000"
     ]
    }
   ],
   "source": [
    "#w2v fitting\n",
    "dimensions_used_w2v, average_scores_w2v = cross_validate_dimensionality(df_filtered, dictionary, corpus_tfidf, 1000, 8)"
   ]
  },
  {
   "cell_type": "markdown",
   "metadata": {},
   "source": [
    "**Fit the whole data set with a logistic regression model across a range of dimensions**"
   ]
  },
  {
   "cell_type": "code",
   "execution_count": 67,
   "metadata": {
    "collapsed": false
   },
   "outputs": [
    {
     "name": "stdout",
     "output_type": "stream",
     "text": [
      "Calculating fit for dimensions = 1000"
     ]
    }
   ],
   "source": [
    "#absolute w2v fitting\n",
    "abs_dimensions_used_w2v, abs_average_scores_w2v = absolute_score_dimensionality(df_filtered, dictionary, corpus_tfidf, 1000)"
   ]
  },
  {
   "cell_type": "markdown",
   "metadata": {
    "collapsed": false
   },
   "source": [
    "**Plot the cross validation and complete fit scores**"
   ]
  },
  {
   "cell_type": "code",
   "execution_count": 78,
   "metadata": {
    "collapsed": false
   },
   "outputs": [
    {
     "data": {
      "image/png": "[encoded data removed]",
      "text/plain": [
       "<matplotlib.figure.Figure at 0x207d8438>"
      ]
     },
     "metadata": {},
     "output_type": "display_data"
    }
   ],
   "source": [
    "#things to plot\n",
    "plt.plot(abs_dimensions_used_w2v, abs_average_scores_w2v, c=\"r\", linestyle = '-', linewidth = 2, label = \"Train\")\n",
    "plt.plot(dimensions_used_w2v, average_scores_w2v, c=\"b\", linestyle = '-', linewidth = 2, label = \"Cross. Val.\")\n",
    "\n",
    "#backround grid details\n",
    "axes = plt.gca()\n",
    "axes.grid(b = True, which = 'both', axis = 'both', color = 'gray', linestyle = '-', alpha = 0.5, linewidth = 0.5) \n",
    "axes.set_axis_bgcolor('white')  \n",
    "\n",
    "#font scpecifications\n",
    "title_font = {'family' : 'arial', 'color'  : 'black', 'weight' : 'heavy','size': 20}\n",
    "axis_label_font = {'family' : 'arial', 'color'  : 'black', 'weight' : 'normal','size': 20}\n",
    "\n",
    "#figure size and tick style\n",
    "plt.rcParams[\"figure.figsize\"] = [6,6]\n",
    "plt.rc('axes',edgecolor='black',linewidth=1)\n",
    "plt.tick_params(which='both', axis='both', color='black', length=4, width=0.5)\n",
    "plt.rcParams['xtick.direction'] = 'in'\n",
    "plt.rcParams['ytick.direction'] = 'in'\n",
    "\n",
    "#axis range and labels (also specify if log or not)\n",
    "plt.xlim(1, 1000)\n",
    "plt.xscale('log')\n",
    "plt.ylim(0.70, 0.95)\n",
    "plt.xlabel(r'Topics (Dimensions)', y=3, fontsize=20, fontdict = axis_label_font)\n",
    "plt.ylabel(r'Accuracy', fontsize=20, fontdict = axis_label_font)\n",
    "\n",
    "#title and axis labels\n",
    "plt.tick_params(axis='both', labelsize=20)\n",
    "plt.title('Logistic Regression Fit', y=1.05, fontdict = title_font)\n",
    "\n",
    "#legend details\n",
    "legend = plt.legend(shadow = True, frameon = True, fancybox = False, ncol = 2, fontsize = 17, loc = 'lower right')\n",
    "frame = legend.get_frame()\n",
    "#frame.set_width(100)\n",
    "frame.set_facecolor('white')\n",
    "frame.set_edgecolor('black')\n",
    "\n",
    "plt.show()"
   ]
  },
  {
   "cell_type": "markdown",
   "metadata": {},
   "source": [
    "**Best cross validation score**"
   ]
  },
  {
   "cell_type": "code",
   "execution_count": 82,
   "metadata": {
    "collapsed": false
   },
   "outputs": [
    {
     "name": "stdout",
     "output_type": "stream",
     "text": [
      "(0.87139565510074291, 850)\n"
     ]
    }
   ],
   "source": [
    "max_score = 0\n",
    "for entry in zip(average_scores_w2v, dimensions_used_w2v):\n",
    "    if entry[0] > max_score:\n",
    "        max_score = entry[0]\n",
    "        max_d = entry[1]\n",
    "print (max_score, max_d)"
   ]
  },
  {
   "cell_type": "markdown",
   "metadata": {},
   "source": [
    "**Check out all the scores**"
   ]
  },
  {
   "cell_type": "code",
   "execution_count": 81,
   "metadata": {
    "collapsed": false
   },
   "outputs": [
    {
     "name": "stdout",
     "output_type": "stream",
     "text": [
      "[(0.54674850060739688, 1), (0.74319745156382577, 2), (0.74762900902637552, 3), (0.76378411052819672, 4), (0.75732305948779644, 5), (0.76721674120202021, 6), (0.77670493086063841, 7), (0.77630072687780771, 8), (0.77872562295921632, 9), (0.78821381156376513, 10), (0.78680057753725874, 15), (0.79366030818290079, 20), (0.80557926298120164, 25), (0.81425546400049509, 30), (0.83000244881396945, 35), (0.83989841680466548, 40), (0.84049902131766774, 45), (0.84595495607397786, 50), (0.84433749188999019, 55), (0.8425206958089021, 60), (0.85059922262805299, 65), (0.84999275643526206, 70), (0.84878145153279405, 75), (0.85180825074067346, 80), (0.85281304869581265, 85), (0.85645185639325128, 90), (0.86069420629503712, 95), (0.858877736975455, 100), (0.86292140428687492, 150), (0.86090038331865226, 200), (0.86614655194512902, 250), (0.8673578610638748, 300), (0.86715624078216336, 350), (0.86836657067046064, 400), (0.86876947076947575, 450), (0.86856362050736657, 500), (0.86735264131233492, 550), (0.86796073815044728, 600), (0.86816137709357155, 650), (0.86937496511030365, 700), (0.87018337307596494, 750), (0.86917400573008974, 800), (0.87139565510074291, 850), (0.87139533044737572, 900), (0.86796106912823068, 950), (0.86755849157444409, 1000)]\n"
     ]
    }
   ],
   "source": [
    "print zip(average_scores_w2v, dimensions_used_w2v)"
   ]
  },
  {
   "cell_type": "markdown",
   "metadata": {},
   "source": [
    "**Conclusion**: Overall, 150 dimensions seems to be a good number as rapidly diminishing returns are found beyond this. The CV accuracy for this dimensionality is ~0.863, not so bad. This is the dimensionality employed for the rest of the notebook."
   ]
  },
  {
   "cell_type": "markdown",
   "metadata": {},
   "source": [
    "###7. Make and test a model with desired dimensionality\n",
    "\n",
    "---\n",
    "\n",
    "1. Create a k-fold receiver operating characteristic (ROC) curve (see: https://en.wikipedia.org/wiki/Receiver_operating_characteristic for more details).\n",
    "  * This checks how well the model \"separates\" the two classes by plotting the \"true positive rate\" vs the \"false positive rate\" while moving the probability cutoff for classifying into one of the two categories (the default for classification is 50%).\n",
    "2. Calculate various scores (train and test accuracies as well as the F1 score)\n",
    "3. Generate a confusion matrix to see where the model goes wrong in classification"
   ]
  },
  {
   "cell_type": "markdown",
   "metadata": {},
   "source": [
    "**Set dimensionality**"
   ]
  },
  {
   "cell_type": "code",
   "execution_count": 91,
   "metadata": {
    "collapsed": true
   },
   "outputs": [],
   "source": [
    "dimensions = 150"
   ]
  },
  {
   "cell_type": "markdown",
   "metadata": {},
   "source": [
    "**Function to perform a k-fold ROC analysis and plot the results**"
   ]
  },
  {
   "cell_type": "code",
   "execution_count": 29,
   "metadata": {
    "collapsed": false
   },
   "outputs": [],
   "source": [
    "#color palette\n",
    "# These are the \"Tableau 20\" colors as RGB.    \n",
    "tableau20 = [(31, 119, 180), (174, 199, 232), (255, 127, 14), (255, 187, 120),    \n",
    "             (44, 160, 44), (152, 223, 138), (214, 39, 40), (255, 152, 150),    \n",
    "             (148, 103, 189), (197, 176, 213), (140, 86, 75), (196, 156, 148),    \n",
    "             (227, 119, 194), (247, 182, 210), (127, 127, 127), (199, 199, 199),    \n",
    "             (188, 189, 34), (219, 219, 141), (23, 190, 207), (158, 218, 229)]    \n",
    "  \n",
    "# Scale the RGB values to the [0, 1] range, which is the format matplotlib accepts.    \n",
    "for i in range(len(tableau20)):    \n",
    "    r, g, b = tableau20[i]    \n",
    "    tableau20[i] = (r / 255., g / 255., b / 255.)\n",
    "\n",
    "#so a dimensionality of ~100 seems perfectly fine... lets use this dimensionality and create a k-fold ROC curve\n",
    "def k_fold_roc(df, dim, cross_val_num):\n",
    "    #model used\n",
    "    model = linear_model.LogisticRegression()\n",
    "    \n",
    "    #create X and y data but need as a numpy array for easy cv ROC implementation\n",
    "    #also need to usue dummies for the ROC curve so convert them en route\n",
    "    X = pd.DataFrame.as_matrix(df[[i for i in range(dim)]])\n",
    "    y = pd.get_dummies(df[\"choose_one\"])[\"Relevant\"]\n",
    "    \n",
    "    #create the cross validation entity to extract the dat from sequentially\n",
    "    cv = cross_validation.StratifiedKFold(y, n_folds = cross_val_num)\n",
    "    \n",
    "    mean_tpr = 0.0\n",
    "    mean_fpr = np.linspace(0, 1, 100)\n",
    "    all_tpr = []\n",
    "\n",
    "    for i, (train, test) in enumerate(cv):\n",
    "        probas_ = model.fit(X[train], y[train]).predict_proba(X[test])\n",
    "        \n",
    "        fpr, tpr, thresholds = roc_curve(y[test], probas_[:, 1])\n",
    "        mean_tpr += interp(mean_fpr, fpr, tpr)\n",
    "        mean_tpr[0] = 0.0\n",
    "        roc_auc = auc(fpr, tpr)\n",
    "        plt.plot(fpr, tpr, lw=2, label='%d (area = %0.2f)' % (i, roc_auc), color = tableau20[i])\n",
    "        \n",
    "    plt.plot([0, 1], [0, 1], '--', color=(0.6, 0.6, 0.6), label='Luck')\n",
    "\n",
    "    mean_tpr /= len(cv)\n",
    "    mean_tpr[-1] = 1.0\n",
    "    mean_auc = auc(mean_fpr, mean_tpr)\n",
    "    plt.plot(mean_fpr, mean_tpr, 'k-',\n",
    "             label='Mean (area = %0.2f)' % mean_auc, lw=3)\n",
    "    \n",
    "    #backround grid details\n",
    "    axes = plt.gca()\n",
    "    axes.grid(b = True, which = 'both', axis = 'both', color = 'gray', linestyle = '-', alpha = 0.5, linewidth = 0.5) \n",
    "    axes.set_axis_bgcolor('white')  \n",
    "\n",
    "    #font scpecifications\n",
    "    title_font = {'family' : 'arial', 'color'  : 'black', 'weight' : 'heavy','size': 20}\n",
    "    axis_label_font = {'family' : 'arial', 'color'  : 'black', 'weight' : 'normal','size': 20}\n",
    "\n",
    "    #figure size and tick style\n",
    "    plt.rcParams[\"figure.figsize\"] = [6,6]\n",
    "    plt.rc('axes',edgecolor='black',linewidth=1)\n",
    "    plt.tick_params(which='both', axis='both', color='black', length=4, width=0.5)\n",
    "    plt.rcParams['xtick.direction'] = 'in'\n",
    "    plt.rcParams['ytick.direction'] = 'in'\n",
    "    \n",
    "    #axis and label details\n",
    "    plt.xlim([-0.05, 1.05])\n",
    "    plt.ylim([-0.05, 1.05])\n",
    "    plt.xlabel('False Positive Rate', fontsize=20, fontdict = axis_label_font)\n",
    "    plt.ylabel('True Positive Rate', fontsize=20, fontdict = axis_label_font)\n",
    "    \n",
    "    #title and axis labels\n",
    "    plt.tick_params(axis='both', labelsize=20)\n",
    "    plt.title(('%d-fold ROC analysis' % cross_val_num), y=1.05, fontdict = title_font)\n",
    "    \n",
    "    #legend details\n",
    "    legend = plt.legend(shadow = True, frameon = True, fancybox = False, ncol = 1\n",
    "                        , fontsize = 17, loc = 'lower right', bbox_to_anchor=(1.8, 0.1))\n",
    "    frame = legend.get_frame()\n",
    "    frame.set_facecolor('white')\n",
    "    frame.set_edgecolor('black')\n",
    "    \n",
    "    plt.show()"
   ]
  },
  {
   "cell_type": "markdown",
   "metadata": {},
   "source": [
    "**Generate the k-fold ROC curve**"
   ]
  },
  {
   "cell_type": "code",
   "execution_count": 92,
   "metadata": {
    "collapsed": false
   },
   "outputs": [
    {
     "data": {
      "image/png": "[encoded data removed]",
      "text/plain": [
       "<matplotlib.figure.Figure at 0x1a0f12b0>"
      ]
     },
     "metadata": {},
     "output_type": "display_data"
    }
   ],
   "source": [
    "k_fold_roc(df_lsi_features, dimensions, 8)"
   ]
  },
  {
   "cell_type": "markdown",
   "metadata": {},
   "source": [
    "The ROC analysis suggests the model does a good job at separating out the classes. "
   ]
  },
  {
   "cell_type": "markdown",
   "metadata": {},
   "source": [
    "**Create the model and grab a few topics to look at later**\n",
    "\n",
    "I have chosen the top 10 topics and the top 10 topics of each."
   ]
  },
  {
   "cell_type": "code",
   "execution_count": 93,
   "metadata": {
    "collapsed": false
   },
   "outputs": [],
   "source": [
    "df_lsi_features, topics = latent_semantic_analysis(df_filtered, dictionary, corpus_tfidf, dimensions, True, 10, 10)"
   ]
  },
  {
   "cell_type": "markdown",
   "metadata": {},
   "source": [
    "**Fit a logistic regression model (one test-train split)**\n",
    "\n",
    "  1. Calculate train accuracy\n",
    "  2. Calculate test accuracy\n",
    "  3. Calculate the F1 score\n",
    "  4. Generate a confusion matrix"
   ]
  },
  {
   "cell_type": "code",
   "execution_count": 110,
   "metadata": {
    "collapsed": false
   },
   "outputs": [
    {
     "name": "stdout",
     "output_type": "stream",
     "text": [
      "Train accuracy: 0.908127 \n",
      "\n",
      "Test accuracy: 0.892028 \n",
      "\n",
      "F1 score: 0.879640 \n",
      "\n",
      "Confusion matrix: \n",
      "\n",
      "-Legend\n",
      "[['True \"not disaster\"' 'False \"not disaster\"']\n",
      " ['False \"disaster\"' 'True \"disaster\"']]\n",
      "\n",
      "-Prediction\n",
      "[[493  27]\n",
      " [ 80 391]]\n"
     ]
    }
   ],
   "source": [
    "#make the X and y\n",
    "X = df_lsi_features[[i for i in range(dimensions)]]\n",
    "y = df_lsi_features[\"choose_one\"]\n",
    "\n",
    "#split into test and train\n",
    "X_train, X_test, y_train, y_test = cross_validation.train_test_split(X, y, train_size=0.80)\n",
    "\n",
    "#make the model\n",
    "model = linear_model.LogisticRegression()\n",
    "model.fit(X_train, y_train)\n",
    "y_pred = model.predict(X_test)\n",
    "\n",
    "#various \"fitness\" metrics\n",
    "print \"Train accuracy: %f \\n\" % model.score(X_train, y_train)\n",
    "print \"Test accuracy: %f \\n\" % model.score(X_test, y_test)\n",
    "print \"F1 score: %f \\n\" % metrics.f1_score(y_test, y_pred, labels=None, pos_label='Relevant', average='binary', sample_weight=None)\n",
    "\n",
    "#confusion matrix\n",
    "cm = metrics.confusion_matrix(y_test, model.predict(X_test))\n",
    "print \"Confusion matrix: \\n\"\n",
    "print \"-Legend\"\n",
    "print np.array([['True \"not disaster\"', 'False \"not disaster\"'],['False \"disaster\"', 'True \"disaster\"']])\n",
    "print \"\\n-Prediction\"\n",
    "print cm"
   ]
  },
  {
   "cell_type": "markdown",
   "metadata": {},
   "source": [
    "Overall, the three scores are very good for this model. From the confusion matrix we find that the model tends to lean towards false classification of disasters. This is not a bad thing though as missing a disaster has far greater consequences than incorrectly thinking one occurred (a human should always validate anyways)."
   ]
  },
  {
   "cell_type": "markdown",
   "metadata": {},
   "source": [
    "###8. Check out the \"topics\"\n",
    "\n",
    "---\n",
    "\n",
    "  1. Print out the top 10 topics with the top ten tokens they are composed of\n",
    "  2. Plot some topics against each other with colors to indicate class"
   ]
  },
  {
   "cell_type": "markdown",
   "metadata": {},
   "source": [
    "**Print the topics**"
   ]
  },
  {
   "cell_type": "code",
   "execution_count": 98,
   "metadata": {
    "collapsed": false
   },
   "outputs": [
    {
     "name": "stdout",
     "output_type": "stream",
     "text": [
      "Topic 0:\n",
      "0.426*\"?\" + 0.234*\"#\" + 0.205*\"@\" + 0.196*\"|-no_w2v-|\" + 0.188*\"'\" + 0.185*\".\" + 0.183*\"the\" + 0.160*\"|-num-|\" + 0.158*\"i\" + 0.156*\"a\"\n",
      "\n",
      "Topic 1:\n",
      "-0.808*\"?\" + 0.160*\"|-num-|\" + 0.159*\"'\" + 0.148*\":\" + 0.127*\"#\" + 0.110*\"of\" + 0.107*\"in\" + 0.096*\"|-website-|\" + 0.093*\"famili\" + 0.093*\"...\"\n",
      "\n",
      "Topic 2:\n",
      "0.296*\"?\" + 0.235*\"'\" + -0.216*\"@\" + 0.198*\"famili\" + -0.181*\"a\" + 0.177*\":\" + 0.168*\"legionnair\" + -0.165*\"|-no_w2v-|\" + -0.163*\"!\" + -0.153*\".\"\n",
      "\n",
      "Topic 3:\n",
      "0.284*\"sandstorm\" + 0.283*\"airport\" + 0.282*\"swallow\" + 0.271*\"by\" + 0.269*\"minut\" + 0.263*\"under\" + 0.239*\"watch\" + 0.206*\"get\" + 0.205*\"up\" + 0.174*\"thi\"\n",
      "\n",
      "Topic 4:\n",
      "0.477*\"'\" + -0.424*\"#\" + 0.246*\"famili\" + 0.197*\"legionnair\" + -0.156*\"|-num-|\" + -0.122*\"california\" + -0.121*\"northern\" + -0.120*\"wildfir\" + -0.109*\"home\" + -0.109*\"latest\"\n",
      "\n",
      "Topic 5:\n",
      "0.228*\"california\" + 0.224*\"wildfir\" + 0.221*\"raze\" + -0.220*\"suicid\" + 0.218*\"northern\" + 0.216*\"latest\" + 0.206*\"home\" + 0.195*\"more\" + -0.195*\"bomber\" + -0.158*\"bomb\"\n",
      "\n",
      "Topic 6:\n",
      "0.560*\"#\" + -0.247*\"suicid\" + -0.226*\"bomber\" + -0.207*\"bomb\" + -0.153*\"pkk\" + -0.148*\"turkey\" + -0.147*\"trench\" + -0.142*\"deton\" + -0.142*\"old\" + -0.124*\"releas\"\n",
      "\n",
      "Topic 7:\n",
      "-0.378*\"legionnair\" + 0.336*\"'\" + -0.265*\"famili\" + -0.218*\"|-num-|\" + -0.208*\"outbreak\" + -0.205*\"than\" + -0.203*\"fatal\" + -0.202*\"sue\" + -0.199*\"affect\" + -0.173*\"disea\"\n",
      "\n",
      "Topic 8:\n",
      "-0.250*\"atom\" + -0.249*\"hiroshima\" + 0.246*\"!\" + -0.217*\"anniversari\" + -0.216*\"bomb\" + 0.200*\"@\" + -0.187*\"japan\" + 0.183*\"'\" + 0.176*\"kill\" + -0.175*\"devast\"\n",
      "\n",
      "Topic 9:\n",
      "-0.242*\"kill\" + 0.231*\"#\" + 0.222*\"!\" + 0.212*\"|-num_alpha-|\" + -0.208*\"obama\" + -0.203*\"declar\" + -0.203*\"disast\" + -0.173*\"|-num_units-|\" + 0.167*\"bomb\" + -0.150*\"for\"\n",
      "\n"
     ]
    }
   ],
   "source": [
    "for topic in topics:\n",
    "    print \"Topic %d:\" % topic[0]\n",
    "    print topic[1] + \"\\n\""
   ]
  },
  {
   "cell_type": "markdown",
   "metadata": {},
   "source": [
    "The topics seem to progressively become more relevant to disasters based on the words. The lower order ones will likely serve as better for identifying non-disasters while later ones disasters. This can be confirmed by plotting the topics against one another."
   ]
  },
  {
   "cell_type": "markdown",
   "metadata": {
    "collapsed": true
   },
   "source": [
    "**Plot topics**\n",
    "\n",
    "Topic 1 seems better for identifying non-disasters while topic 9 is better for disasters. Let’s check..."
   ]
  },
  {
   "cell_type": "code",
   "execution_count": 112,
   "metadata": {
    "collapsed": false
   },
   "outputs": [
    {
     "data": {
      "image/png": "[encoded data removed]",
      "text/plain": [
       "<matplotlib.figure.Figure at 0x2276a4a8>"
      ]
     },
     "metadata": {},
     "output_type": "display_data"
    }
   ],
   "source": [
    "#set the two topics\n",
    "feature_1 = 1\n",
    "feature_2 = 9\n",
    "\n",
    "#extract the data for plotting\n",
    "feature_1_not_relevant = df_lsi_features[df_lsi_features[\"choose_one\"] == \"Not Relevant\"][feature_1]\n",
    "feature_2_not_relevant = df_lsi_features[df_lsi_features[\"choose_one\"] == \"Not Relevant\"][feature_2]\n",
    "feature_1_relevant = df_lsi_features[df_lsi_features[\"choose_one\"] == \"Relevant\"][feature_1]\n",
    "feature_2_relevant = df_lsi_features[df_lsi_features[\"choose_one\"] == \"Relevant\"][feature_2]\n",
    "\n",
    "#things to plot\n",
    "plt.scatter(feature_1_not_relevant, feature_2_not_relevant, c=\"b\", s=40, alpha=0.3, linewidths=0.0, label = \"Not Disaster\")\n",
    "plt.scatter(feature_1_relevant, feature_2_relevant, c=\"r\", s=40, alpha=0.3, linewidths=0.0, label = \"Disaster\")\n",
    "\n",
    "\n",
    "#backround grid details\n",
    "axes = plt.gca()\n",
    "axes.grid(b = True, which = 'both', axis = 'both', color = 'gray', linestyle = '-', alpha = 0.5, linewidth = 0.5) \n",
    "axes.set_axis_bgcolor('white')  \n",
    "\n",
    "#font scpecifications\n",
    "title_font = {'family' : 'arial', 'color'  : 'black', 'weight' : 'heavy','size': 20}\n",
    "axis_label_font = {'family' : 'arial', 'color'  : 'black', 'weight' : 'normal','size': 20}\n",
    "\n",
    "#figure size and tick style\n",
    "plt.rcParams[\"figure.figsize\"] = [6,6]\n",
    "plt.rc('axes',edgecolor='black',linewidth=1)\n",
    "plt.tick_params(which='both', axis='both', color='black', length=4, width=0.5)\n",
    "plt.rcParams['xtick.direction'] = 'in'\n",
    "plt.rcParams['ytick.direction'] = 'in'\n",
    "\n",
    "#axis range and labels (also specify if log or not)\n",
    "plt.xlim(-0.8, 0.4)\n",
    "#plt.xscale('log')\n",
    "plt.ylim(-0.5, 0.4)\n",
    "plt.xlabel(r'Topic ' + str(feature_1), y=3, fontsize=20, fontdict = axis_label_font)\n",
    "plt.ylabel(r'Topic ' + str(feature_2), fontsize=20, fontdict = axis_label_font)\n",
    "\n",
    "#title and axis labels\n",
    "plt.tick_params(axis='both', labelsize=20)\n",
    "plt.title('Features', y=1.05, fontdict = title_font)\n",
    "\n",
    "#legend details\n",
    "legend = plt.legend(shadow = True, frameon = True, fancybox = False, ncol = 2, fontsize = 17, loc = 'lower right')\n",
    "frame = legend.get_frame()\n",
    "#frame.set_width(100)\n",
    "frame.set_facecolor('white')\n",
    "frame.set_edgecolor('black')\n",
    "\n",
    "plt.show()"
   ]
  },
  {
   "cell_type": "markdown",
   "metadata": {},
   "source": [
    "Indeed, the topics match our intuition based on what tokens they contain! Topic 1 pulls out many non-disaster tweets from the \"clump\" near the origin while topic 9 does the same (though more weakly so) for disaster tweets. With hundreds of topics to work with, good separation is possible."
   ]
  },
  {
   "cell_type": "markdown",
   "metadata": {},
   "source": [
    "#To be continued..."
   ]
  },
  {
   "cell_type": "code",
   "execution_count": null,
   "metadata": {
    "collapsed": true
   },
   "outputs": [],
   "source": []
  }
 ],
 "metadata": {
  "kernelspec": {
   "display_name": "Python 2",
   "language": "python",
   "name": "python2"
  },
  "language_info": {
   "codemirror_mode": {
    "name": "ipython",
    "version": 2
   },
   "file_extension": ".py",
   "mimetype": "text/x-python",
   "name": "python",
   "nbconvert_exporter": "python",
   "pygments_lexer": "ipython2",
   "version": "2.7.10"
  }
 },
 "nbformat": 4,
 "nbformat_minor": 0
}
